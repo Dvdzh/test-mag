{
 "cells": [
  {
   "cell_type": "code",
   "execution_count": 63,
   "metadata": {},
   "outputs": [],
   "source": [
    "# read csv from sql table\n",
    "import pandas as pd\n",
    "import sqlite3\n",
    "\n",
    "# read csv from sql table\n",
    "conn = sqlite3.connect('../data/database.db')"
   ]
  },
  {
   "cell_type": "markdown",
   "metadata": {},
   "source": [
    "### BINDING_CONSTRAINTS_DAILY"
   ]
  },
  {
   "cell_type": "code",
   "execution_count": 66,
   "metadata": {},
   "outputs": [
    {
     "data": {
      "text/plain": [
       "18049"
      ]
     },
     "execution_count": 66,
     "metadata": {},
     "output_type": "execute_result"
    }
   ],
   "source": [
    "df = pd.read_sql_query('SELECT * FROM BINDING_CONSTRAINTS_HOURLY', conn)\n",
    "df['Interval'] = pd.to_datetime(df['Interval']) - pd.Timedelta(minutes=15)\n",
    "df['Interval'] = df['Interval'].dt.strftime('%Y-%m-%d')\n",
    "df['Interval'] = pd.to_datetime(df['Interval'])\n",
    "df = df.groupby(['Interval', 'Constraint Name']).sum()['Shadow Price'].to_frame()\n",
    "df.reset_index(inplace=True)\n",
    "df.to_sql(\n",
    "    name='BINDING_CONSTRAINTS_DAILY',\n",
    "    con=conn,\n",
    "    if_exists='replace',\n",
    "    index=False\n",
    ")"
   ]
  },
  {
   "cell_type": "markdown",
   "metadata": {},
   "source": [
    "### NODES_CONGESTION_DAILY"
   ]
  },
  {
   "cell_type": "code",
   "execution_count": 67,
   "metadata": {},
   "outputs": [
    {
     "data": {
      "text/plain": [
       "451033"
      ]
     },
     "execution_count": 67,
     "metadata": {},
     "output_type": "execute_result"
    }
   ],
   "source": [
    "df = pd.read_sql_query('SELECT Date, Node, COALESCE(HE01, 0) + COALESCE(HE02, 0) + COALESCE(HE03, 0) + COALESCE(HE04, 0) + COALESCE(HE05, 0) + COALESCE(HE06, 0) + COALESCE(HE07, 0) + COALESCE(HE08, 0) + COALESCE(HE09, 0) + COALESCE(HE10, 0) + COALESCE(HE11, 0) + COALESCE(HE12, 0) + COALESCE(HE13, 0) + COALESCE(HE14, 0) + COALESCE(HE15, 0) + COALESCE(HE16, 0) + COALESCE(HE17, 0) + COALESCE(HE18, 0) + COALESCE(HE19, 0) + COALESCE(HE20, 0) + COALESCE(HE21, 0) + COALESCE(HE22, 0) + COALESCE(HE23, 0) + COALESCE(HE24, 0) AS Congestion '+\n",
    "                        'FROM NODES_CONGESTION_HOURLY ', conn)\n",
    "df.groupby(['Date', 'Node']).sum().reset_index(inplace=True)\n",
    "df['Date'] = pd.to_datetime(df['Date'])\n",
    "df.to_sql(\n",
    "    name='NODES_CONGESTION_DAILY',\n",
    "    con=conn,\n",
    "    if_exists='replace',\n",
    "    index=False\n",
    ")\n"
   ]
  },
  {
   "cell_type": "markdown",
   "metadata": {},
   "source": [
    "### BINDING_CONSTRAINTS_MONTHLY"
   ]
  },
  {
   "cell_type": "code",
   "execution_count": 68,
   "metadata": {},
   "outputs": [
    {
     "data": {
      "text/plain": [
       "18049"
      ]
     },
     "execution_count": 68,
     "metadata": {},
     "output_type": "execute_result"
    }
   ],
   "source": [
    "df = pd.read_sql_query('SELECT * FROM BINDING_CONSTRAINTS_DAILY', conn)\n",
    "df['Interval'] = pd.to_datetime(df['Interval'])\n",
    "df['Interval'] = df['Interval'].dt.strftime('%Y-%m')\n",
    "df.groupby(['Interval', 'Constraint Name']).sum().reset_index(inplace=True)\n",
    "df['Interval'] = pd.to_datetime(df['Interval'])\n",
    "df['Interval'] = df['Interval'].dt.strftime('%Y-%m-01')\n",
    "df['Interval'] = pd.to_datetime(df['Interval'])\n",
    "df.to_sql(\n",
    "    name='BINDING_CONSTRAINTS_MONTHLY',\n",
    "    con=conn,\n",
    "    if_exists='replace',\n",
    "    index=False\n",
    ")\n"
   ]
  },
  {
   "cell_type": "markdown",
   "metadata": {},
   "source": [
    "### NODES_CONGESTION_MONTHLY"
   ]
  },
  {
   "cell_type": "code",
   "execution_count": 69,
   "metadata": {},
   "outputs": [
    {
     "data": {
      "text/plain": [
       "451033"
      ]
     },
     "execution_count": 69,
     "metadata": {},
     "output_type": "execute_result"
    }
   ],
   "source": [
    "df = pd.read_sql_query('SELECT * FROM NODES_CONGESTION_DAILY', conn)\n",
    "df['Date'] = pd.to_datetime(df['Date'])\n",
    "df['Date'] = df['Date'].dt.strftime('%Y-%m')\n",
    "df.groupby(['Date', 'Node']).sum().reset_index(inplace=True)\n",
    "df['Date'] = pd.to_datetime(df['Date'])\n",
    "df['Date'] = df['Date'].dt.strftime('%Y-%m-01')\n",
    "df['Date'] = pd.to_datetime(df['Date'])\n",
    "df.to_sql(\n",
    "    name='NODES_CONGESTION_MONTHLY',\n",
    "    con=conn,\n",
    "    if_exists='replace',\n",
    "    index=False\n",
    ")"
   ]
  }
 ],
 "metadata": {
  "kernelspec": {
   "display_name": "Python 3",
   "language": "python",
   "name": "python3"
  },
  "language_info": {
   "codemirror_mode": {
    "name": "ipython",
    "version": 3
   },
   "file_extension": ".py",
   "mimetype": "text/x-python",
   "name": "python",
   "nbconvert_exporter": "python",
   "pygments_lexer": "ipython3",
   "version": "3.12.8"
  }
 },
 "nbformat": 4,
 "nbformat_minor": 2
}
