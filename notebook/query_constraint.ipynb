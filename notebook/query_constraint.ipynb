{
 "cells": [
  {
   "cell_type": "code",
   "execution_count": 1,
   "metadata": {},
   "outputs": [],
   "source": [
    "import pandas as pd\n",
    "import sqlite3\n",
    "import plotly.graph_objects as go"
   ]
  },
  {
   "cell_type": "markdown",
   "metadata": {},
   "source": [
    "# Constraint name"
   ]
  },
  {
   "cell_type": "code",
   "execution_count": 2,
   "metadata": {},
   "outputs": [
    {
     "data": {
      "text/plain": [
       "[{'label': 'HENDRIC2_XF', 'value': 'HENDRIC2_XF'},\n",
       " {'label': 'Ozrk_B-xfmr_A', 'value': 'Ozrk_B-xfmr_A'},\n",
       " {'label': 'SHARP_WR_WOLF_1', 'value': 'SHARP_WR_WOLF_1'},\n",
       " {'label': 'TEMP90_26027', 'value': 'TEMP90_26027'},\n",
       " {'label': 'TEXAS_CO_TXPS_TXCO_PHSHFT_PS',\n",
       "  'value': 'TEXAS_CO_TXPS_TXCO_PHSHFT_PS'},\n",
       " {'label': 'TMP398_27292', 'value': 'TMP398_27292'},\n",
       " {'label': 'TMP551_26749', 'value': 'TMP551_26749'},\n",
       " {'label': 'TEMP15_25917', 'value': 'TEMP15_25917'},\n",
       " {'label': '3638N3638_XF@JERICHO_<8775>',\n",
       "  'value': '3638N3638_XF@JERICHO_<8775>'},\n",
       " {'label': 'SSIOUXCY_XF1', 'value': 'SSIOUXCY_XF1'},\n",
       " {'label': 'TMP427_25433', 'value': 'TMP427_25433'},\n",
       " {'label': 'TMP481_28130', 'value': 'TMP481_28130'},\n",
       " {'label': 'TEMP39_26016', 'value': 'TEMP39_26016'},\n",
       " {'label': 'TMP634_28149', 'value': 'TMP634_28149'},\n",
       " {'label': 'CHAWATCHAPAT', 'value': 'CHAWATCHAPAT'},\n",
       " {'label': 'SMKSUMPOSAXT', 'value': 'SMKSUMPOSAXT'},\n",
       " {'label': 'SWSANAGRAANA', 'value': 'SWSANAGRAANA'},\n",
       " {'label': '10897A_LN@CRKCREEK<7950>', 'value': '10897A_LN@CRKCREEK<7950>'},\n",
       " {'label': 'TEMP29_23044', 'value': 'TEMP29_23044'},\n",
       " {'label': 'OSAWEBCLESOO', 'value': 'OSAWEBCLESOO'},\n",
       " {'label': 'TEMP89_22229', 'value': 'TEMP89_22229'},\n",
       " {'label': 'TMP109_22593', 'value': 'TMP109_22593'},\n",
       " {'label': 'TMP253_27481', 'value': 'TMP253_27481'},\n",
       " {'label': '11306A_LN@AVECTYTP<29122>', 'value': '11306A_LN@AVECTYTP<29122>'},\n",
       " {'label': 'GAVYANGAVSPI', 'value': 'GAVYANGAVSPI'},\n",
       " {'label': 'RLLTHNDR_TITAN', 'value': 'RLLTHNDR_TITAN'},\n",
       " {'label': 'SMOSUMMULCIR', 'value': 'SMOSUMMULCIR'},\n",
       " {'label': 'TMP132_27439', 'value': 'TMP132_27439'},\n",
       " {'label': 'VALLEJAMES11_11_LN@JAMESTN<19165>',\n",
       "  'value': 'VALLEJAMES11_11_LN@JAMESTN<19165>'},\n",
       " {'label': 'TMP700_28298', 'value': 'TMP700_28298'},\n",
       " {'label': '9981A_LN@COLBY3<29757>', 'value': '9981A_LN@COLBY3<29757>'},\n",
       " {'label': 'TMP348_25258', 'value': 'TMP348_25258'},\n",
       " {'label': 'NEBS56S40S55', 'value': 'NEBS56S40S55'},\n",
       " {'label': 'TMP280_28347', 'value': 'TMP280_28347'},\n",
       " {'label': 'EXIRAWA_TRG1_XF', 'value': 'EXIRAWA_TRG1_XF'},\n",
       " {'label': 'TMP796_28794', 'value': 'TMP796_28794'},\n",
       " {'label': 'SHEBENSHEFOL', 'value': 'SHEBENSHEFOL'},\n",
       " {'label': 'BOXBUALIAN11_11_LN@BOXBUTE<16711>',\n",
       "  'value': 'BOXBUALIAN11_11_LN@BOXBUTE<16711>'},\n",
       " {'label': 'TEMP85_27405', 'value': 'TEMP85_27405'},\n",
       " {'label': 'A1_XF@CHLD_SPP<9478>', 'value': 'A1_XF@CHLD_SPP<9478>'},\n",
       " {'label': '70BS12WAGS34', 'value': '70BS12WAGS34'},\n",
       " {'label': '7452A_LN@SBROWN<333>', 'value': '7452A_LN@SBROWN<333>'},\n",
       " {'label': 'STONESW_TUPELOA_LN@STONEWSW<7586>',\n",
       "  'value': 'STONESW_TUPELOA_LN@STONEWSW<7586>'},\n",
       " {'label': 'TMP696_28306', 'value': 'TMP696_28306'},\n",
       " {'label': 'TMP338_28287', 'value': 'TMP338_28287'},\n",
       " {'label': 'ALIANSNAKE11_11_LN@ALIANCE<7715>',\n",
       "  'value': 'ALIANSNAKE11_11_LN@ALIANCE<7715>'},\n",
       " {'label': 'MON3761', 'value': 'MON3761'},\n",
       " {'label': 'CERIE', 'value': 'CERIE'},\n",
       " {'label': 'TMP462_27381', 'value': 'TMP462_27381'},\n",
       " {'label': 'OSAGE_CCARB', 'value': 'OSAGE_CCARB'},\n",
       " {'label': 'CLIFTO1', 'value': 'CLIFTO1'},\n",
       " {'label': 'SPPSPSTIES', 'value': 'SPPSPSTIES'},\n",
       " {'label': 'TMP541_28628', 'value': 'TMP541_28628'},\n",
       " {'label': 'TMP778_28756', 'value': 'TMP778_28756'},\n",
       " {'label': 'GRNBUR1', 'value': 'GRNBUR1'},\n",
       " {'label': '10126A_LN@LEOTI<25508>', 'value': '10126A_LN@LEOTI<25508>'},\n",
       " {'label': 'TMP539_25534', 'value': 'TMP539_25534'},\n",
       " {'label': 'BOTTNTOWNE11_11_LN@BOTTNOSE<3673>',\n",
       "  'value': 'BOTTNTOWNE11_11_LN@BOTTNOSE<3673>'},\n",
       " {'label': 'TEMP58_28234', 'value': 'TEMP58_28234'},\n",
       " {'label': 'SPSNMTIES', 'value': 'SPSNMTIES'},\n",
       " {'label': 'EROAVOFLIMON', 'value': 'EROAVOFLIMON'},\n",
       " {'label': 'TMP758_28735', 'value': 'TMP758_28735'},\n",
       " {'label': 'TMP662_28227', 'value': 'TMP662_28227'},\n",
       " {'label': 'BOXBUALIAN11_11_LN@BOXBUTE<4543>',\n",
       "  'value': 'BOXBUALIAN11_11_LN@BOXBUTE<4543>'},\n",
       " {'label': 'TMP125_29012', 'value': 'TMP125_29012'},\n",
       " {'label': 'TMP161_28253', 'value': 'TMP161_28253'},\n",
       " {'label': '12041A_LN@CAMBRIG<19660>', 'value': '12041A_LN@CAMBRIG<19660>'},\n",
       " {'label': 'CIMXF2CIMXF3', 'value': 'CIMXF2CIMXF3'},\n",
       " {'label': 'TMP195_28254', 'value': 'TMP195_28254'},\n",
       " {'label': 'TMP416_28121', 'value': 'TMP416_28121'},\n",
       " {'label': 'T1T1A_XF@SUB1214<27660>', 'value': 'T1T1A_XF@SUB1214<27660>'},\n",
       " {'label': 'FRANKLIN_JAYH1_LN@FRANKLN5<16202>',\n",
       "  'value': 'FRANKLIN_JAYH1_LN@FRANKLN5<16202>'},\n",
       " {'label': 'NEOS_N345_1345A_LN@NEORDG<5856>',\n",
       "  'value': 'NEOS_N345_1345A_LN@NEORDG<5856>'},\n",
       " {'label': 'KETCHEM_KETCH_OSBORN_A_LN', 'value': 'KETCHEM_KETCH_OSBORN_A_LN'},\n",
       " {'label': '9035A_LN@HLTNT1<1730>', 'value': '9035A_LN@HLTNT1<1730>'},\n",
       " {'label': 'TMP444_28181', 'value': 'TMP444_28181'},\n",
       " {'label': '10884BA_LN@KISMET<7950>', 'value': '10884BA_LN@KISMET<7950>'},\n",
       " {'label': '12218A_LN@WINSLOW<12591>', 'value': '12218A_LN@WINSLOW<12591>'},\n",
       " {'label': 'FRANKLIN_JAYH1_LN@FRANKLN5<7054>',\n",
       "  'value': 'FRANKLIN_JAYH1_LN@FRANKLN5<7054>'},\n",
       " {'label': 'NEOS_N345_1345A_LN@NEORDG<23167>',\n",
       "  'value': 'NEOS_N345_1345A_LN@NEORDG<23167>'},\n",
       " {'label': 'U1A1KU1A1_XF@WATERTN<CON2597>',\n",
       "  'value': 'U1A1KU1A1_XF@WATERTN<CON2597>'},\n",
       " {'label': 'EROAVOBEAWAS', 'value': 'EROAVOBEAWAS'},\n",
       " {'label': 'TEMP76_28233', 'value': 'TEMP76_28233'},\n",
       " {'label': 'STORLA_V1A1_KV1A2_XF', 'value': 'STORLA_V1A1_KV1A2_XF'},\n",
       " {'label': 'Ozrk_B-xfmr_A2', 'value': 'Ozrk_B-xfmr_A2'},\n",
       " {'label': 'TMP433_27336', 'value': 'TMP433_27336'},\n",
       " {'label': 'TMP573_26592', 'value': 'TMP573_26592'},\n",
       " {'label': 'SCOVICSTESTG', 'value': 'SCOVICSTESTG'},\n",
       " {'label': 'WESTPRK_WESTPWESTP11_3_S_LN',\n",
       "  'value': 'WESTPRK_WESTPWESTP11_3_S_LN'},\n",
       " {'label': 'DEVAUL_DEVAUNSALE11_1_1_LN',\n",
       "  'value': 'DEVAUL_DEVAUNSALE11_1_1_LN'},\n",
       " {'label': 'TMP123_27210', 'value': 'TMP123_27210'},\n",
       " {'label': 'TMP711_28604', 'value': 'TMP711_28604'},\n",
       " {'label': 'MARTIN_MART_MAJE_A_LN', 'value': 'MARTIN_MART_MAJE_A_LN'},\n",
       " {'label': 'TAHH59MUSFTS', 'value': 'TAHH59MUSFTS'},\n",
       " {'label': 'EGF_IGRNDF11_11_LN@EGF_IND<16682>',\n",
       "  'value': 'EGF_IGRNDF11_11_LN@EGF_IND<16682>'},\n",
       " {'label': 'FULPATNWTTUR', 'value': 'FULPATNWTTUR'},\n",
       " {'label': 'GAVINLWCKT11_1A_LN@GAVINS<18047>',\n",
       "  'value': 'GAVINLWCKT11_1A_LN@GAVINS<18047>'},\n",
       " {'label': 'TEMP99_22214', 'value': 'TEMP99_22214'},\n",
       " {'label': 'LWCKTYKNTJ11_1A_LN@LEWSCLRK<18047>',\n",
       "  'value': 'LWCKTYKNTJ11_1A_LN@LEWSCLRK<18047>'},\n",
       " {'label': 'CLDONEGF_I11_11_LN@CLDONIAW<14174>',\n",
       "  'value': 'CLDONEGF_I11_11_LN@CLDONIAW<14174>'},\n",
       " {'label': 'RCKFALLS_RCKFLS_RDRUNNR_1_LN',\n",
       "  'value': 'RCKFALLS_RCKFLS_RDRUNNR_1_LN'},\n",
       " {'label': 'UTICAMENNO11_11_LN@UTICAJC<4429>',\n",
       "  'value': 'UTICAMENNO11_11_LN@UTICAJC<4429>'},\n",
       " {'label': 'WATXFRWATXFR', 'value': 'WATXFRWATXFR'},\n",
       " {'label': 'TMP415_27411', 'value': 'TMP415_27411'},\n",
       " {'label': 'CROFTON_BLMFLD_CROFTON_A_LN',\n",
       "  'value': 'CROFTON_BLMFLD_CROFTON_A_LN'},\n",
       " {'label': '8821A_LN@PENN1<CON451>', 'value': '8821A_LN@PENN1<CON451>'},\n",
       " {'label': 'BK11_1_XF@PECAN1<17806>', 'value': 'BK11_1_XF@PECAN1<17806>'},\n",
       " {'label': 'FULPATLONSAR', 'value': 'FULPATLONSAR'},\n",
       " {'label': 'TMP485_26149', 'value': 'TMP485_26149'},\n",
       " {'label': '491_LN@MCLEAN_S<18563>', 'value': '491_LN@MCLEAN_S<18563>'},\n",
       " {'label': 'TMP288_24865', 'value': 'TMP288_24865'},\n",
       " {'label': 'GAVYANGAVHAR', 'value': 'GAVYANGAVHAR'},\n",
       " {'label': 'CHLD_SPP_A_1_XF', 'value': 'CHLD_SPP_A_1_XF'},\n",
       " {'label': 'FTTXFRFTTXFR', 'value': 'FTTXFRFTTXFR'},\n",
       " {'label': 'TMP270_23432', 'value': 'TMP270_23432'},\n",
       " {'label': 'WINSLOW_12218_A_LN', 'value': 'WINSLOW_12218_A_LN'},\n",
       " {'label': 'KNOB_MARSHAL3A_LN@KNOB<14784>',\n",
       "  'value': 'KNOB_MARSHAL3A_LN@KNOB<14784>'},\n",
       " {'label': 'EDWXFR87CRAI', 'value': 'EDWXFR87CRAI'},\n",
       " {'label': 'XF11XF11_XF@W_GARDNR<9135>',\n",
       "  'value': 'XF11XF11_XF@W_GARDNR<9135>'},\n",
       " {'label': 'FRANKLIN_JAYH1_LN@FRANKLN5<35056>',\n",
       "  'value': 'FRANKLIN_JAYH1_LN@FRANKLN5<35056>'},\n",
       " {'label': 'KNGFSH_ENEMAHAA_LN@KNGFISH3<14150>',\n",
       "  'value': 'KNGFSH_ENEMAHAA_LN@KNGFISH3<14150>'},\n",
       " {'label': 'NASXFRNASHAW', 'value': 'NASXFRNASHAW'},\n",
       " {'label': 'TMP214_26364', 'value': 'TMP214_26364'},\n",
       " {'label': 'TMP777_28815', 'value': 'TMP777_28815'},\n",
       " {'label': 'TMP122_26551', 'value': 'TMP122_26551'},\n",
       " {'label': 'GAVINS3', 'value': 'GAVINS3'},\n",
       " {'label': 'LEWIS_XF2', 'value': 'LEWIS_XF2'},\n",
       " {'label': 'KINGFISH_2', 'value': 'KINGFISH_2'},\n",
       " {'label': '8797A_LN@XEROX<3800>', 'value': '8797A_LN@XEROX<3800>'},\n",
       " {'label': '1561_LN@SUNDOWN2<25052>', 'value': '1561_LN@SUNDOWN2<25052>'},\n",
       " {'label': 'CRALENCRALEN', 'value': 'CRALENCRALEN'},\n",
       " {'label': 'TMP443_24626', 'value': 'TMP443_24626'},\n",
       " {'label': 'CHAR_ANTEL34_11_LN@CHAR_CK<7525>',\n",
       "  'value': 'CHAR_ANTEL34_11_LN@CHAR_CK<7525>'},\n",
       " {'label': '1368A_LN@PTRBRG_N<13856>', 'value': '1368A_LN@PTRBRG_N<13856>'},\n",
       " {'label': 'NUNDRWD_NUND_WLDS_1115_1_LN',\n",
       "  'value': 'NUNDRWD_NUND_WLDS_1115_1_LN'},\n",
       " {'label': 'NEVADA_XF', 'value': 'NEVADA_XF'},\n",
       " {'label': 'EDERIV_XF', 'value': 'EDERIV_XF'},\n",
       " {'label': 'TMP677_28355', 'value': 'TMP677_28355'},\n",
       " {'label': 'EROAVOWASNEO', 'value': 'EROAVOWASNEO'},\n",
       " {'label': 'GAVINBLMFL11_11_LN@GAVINS<34375>',\n",
       "  'value': 'GAVINBLMFL11_11_LN@GAVINS<34375>'},\n",
       " {'label': 'TWA1XF2', 'value': 'TWA1XF2'},\n",
       " {'label': 'S1399_S1398A_LN@SUB1398<10512>',\n",
       "  'value': 'S1399_S1398A_LN@SUB1398<10512>'},\n",
       " {'label': 'SUB993', 'value': 'SUB993'},\n",
       " {'label': 'GAVINS2', 'value': 'GAVINS2'},\n",
       " {'label': '11306A_LN@AVECTYTP<31798>', 'value': '11306A_LN@AVECTYTP<31798>'},\n",
       " {'label': 'V1A1KV1A2_XF@DENISON<23059>',\n",
       "  'value': 'V1A1KV1A2_XF@DENISON<23059>'},\n",
       " {'label': 'PECAGEPEC5TR', 'value': 'PECAGEPEC5TR'},\n",
       " {'label': '11306A_LN@AVECTYTP<1633>', 'value': '11306A_LN@AVECTYTP<1633>'},\n",
       " {'label': '1168AA_LN@PTRBRG_N<12954>', 'value': '1168AA_LN@PTRBRG_N<12954>'},\n",
       " {'label': 'AESBONAESTAR', 'value': 'AESBONAESTAR'},\n",
       " {'label': 'FRAMIDCANCED', 'value': 'FRAMIDCANCED'},\n",
       " {'label': 'GRACRONORCHA', 'value': 'GRACRONORCHA'},\n",
       " {'label': 'BK_22_2_XF@SEMINOLE<28638>',\n",
       "  'value': 'BK_22_2_XF@SEMINOLE<28638>'},\n",
       " {'label': 'TMP631_28224', 'value': 'TMP631_28224'},\n",
       " {'label': 'TMP839_29049', 'value': 'TMP839_29049'},\n",
       " {'label': 'LARMONLARSPR', 'value': 'LARMONLARSPR'},\n",
       " {'label': 'NORSOUHARHIL', 'value': 'NORSOUHARHIL'},\n",
       " {'label': '8854A_LN@CANDN<CON465>', 'value': '8854A_LN@CANDN<CON465>'},\n",
       " {'label': 'FT_CAFT_CA34_2S_LN@FT_CAL<1991>',\n",
       "  'value': 'FT_CAFT_CA34_2S_LN@FT_CAL<1991>'},\n",
       " {'label': 'TMP419_25392', 'value': 'TMP419_25392'},\n",
       " {'label': 'LAKE_RD_XF2', 'value': 'LAKE_RD_XF2'},\n",
       " {'label': 'TMP911_29188', 'value': 'TMP911_29188'},\n",
       " {'label': '835BT1_LN@OAK_PHEC<588>', 'value': '835BT1_LN@OAK_PHEC<588>'},\n",
       " {'label': 'PRKLN_LKKONAWAA_LN@PRKLN1<714>',\n",
       "  'value': 'PRKLN_LKKONAWAA_LN@PRKLN1<714>'},\n",
       " {'label': 'SPINSPURXF1', 'value': 'SPINSPURXF1'},\n",
       " {'label': 'MUSKOG_MSKPO_1A_LN@MSKPTAP5<31614>',\n",
       "  'value': 'MUSKOG_MSKPO_1A_LN@MSKPTAP5<31614>'},\n",
       " {'label': 'MATTISON_XF12', 'value': 'MATTISON_XF12'},\n",
       " {'label': 'AESTARFTSAES', 'value': 'AESTARFTSAES'},\n",
       " {'label': 'ARSMCWARSTRI', 'value': 'ARSMCWARSTRI'},\n",
       " {'label': 'TMP246_28141', 'value': 'TMP246_28141'},\n",
       " {'label': 'TMP595_26876', 'value': 'TMP595_26876'},\n",
       " {'label': 'JERICHO__3638_N3638_XF', 'value': 'JERICHO__3638_N3638_XF'},\n",
       " {'label': 'SPLT_SIOUX34_11_LN@SPLT_RT<5356>',\n",
       "  'value': 'SPLT_SIOUX34_11_LN@SPLT_RT<5356>'},\n",
       " {'label': 'TMP529_25564', 'value': 'TMP529_25564'},\n",
       " {'label': '8654A_LN@WHEGL<26451>', 'value': '8654A_LN@WHEGL<26451>'},\n",
       " {'label': 'ETOIL_BROADDUSA_LN@ETOIL<2291>',\n",
       "  'value': 'ETOIL_BROADDUSA_LN@ETOIL<2291>'},\n",
       " {'label': 'TMP221_28668', 'value': 'TMP221_28668'},\n",
       " {'label': 'EXIRAWA_TRG3_XF', 'value': 'EXIRAWA_TRG3_XF'},\n",
       " {'label': 'HAWXFRHAWXFR', 'value': 'HAWXFRHAWXFR'},\n",
       " {'label': 'NORFORK_NORFRK-SOLAND5_A_LN',\n",
       "  'value': 'NORFORK_NORFRK-SOLAND5_A_LN'},\n",
       " {'label': 'TMP504_27821', 'value': 'TMP504_27821'},\n",
       " {'label': 'KNOB_MARSHAL3A_LN@KNOB<28562>',\n",
       "  'value': 'KNOB_MARSHAL3A_LN@KNOB<28562>'},\n",
       " {'label': 'MOBSALTHHSAL', 'value': 'MOBSALTHHSAL'},\n",
       " {'label': 'STLJOPORARIV', 'value': 'STLJOPORARIV'},\n",
       " {'label': 'TMP693_28394', 'value': 'TMP693_28394'},\n",
       " {'label': 'TEMP02_28345', 'value': 'TEMP02_28345'},\n",
       " {'label': 'SIOUXSIOUX34_1S_LN@SIOUXCY2<5356>',\n",
       "  'value': 'SIOUXSIOUX34_1S_LN@SIOUXCY2<5356>'},\n",
       " {'label': 'PALO2', 'value': 'PALO2'},\n",
       " {'label': 'GRNBUR1_GRNBUR_GRBNIN3_A_LN',\n",
       "  'value': 'GRNBUR1_GRNBUR_GRBNIN3_A_LN'},\n",
       " {'label': '8654A_LN@WHEGL<2708>', 'value': '8654A_LN@WHEGL<2708>'},\n",
       " {'label': 'RDSPG-AURORAA_LN@REEDS_ED<32502>',\n",
       "  'value': 'RDSPG-AURORAA_LN@REEDS_ED<32502>'},\n",
       " {'label': 'BUTLR-ARCHIEA_LN@ADRIAN5<17569>',\n",
       "  'value': 'BUTLR-ARCHIEA_LN@ADRIAN5<17569>'},\n",
       " {'label': 'TCLRMTP_NE_GASA_LN@TOCLRMTP<CON1206>',\n",
       "  'value': 'TCLRMTP_NE_GASA_LN@TOCLRMTP<CON1206>'},\n",
       " {'label': 'V1A1KV1A2_XF@MAURINE<3419>',\n",
       "  'value': 'V1A1KV1A2_XF@MAURINE<3419>'},\n",
       " {'label': 'TEMP13_27932', 'value': 'TEMP13_27932'},\n",
       " {'label': 'TEMP19_28425', 'value': 'TEMP19_28425'},\n",
       " {'label': '12922_XF@CATSAGR5<20158>', 'value': '12922_XF@CATSAGR5<20158>'},\n",
       " {'label': 'MAURINE_V1A1_KV1A1_XF', 'value': 'MAURINE_V1A1_KV1A1_XF'},\n",
       " {'label': '8822A_LN@WESTMOR4<7029>', 'value': '8822A_LN@WESTMOR4<7029>'},\n",
       " {'label': 'TEXASLIBER11_11_LN@LIBERAL_<21275>',\n",
       "  'value': 'TEXASLIBER11_11_LN@LIBERAL_<21275>'},\n",
       " {'label': 'MARSOUSTIHIC', 'value': 'MARSOUSTIHIC'},\n",
       " {'label': 'SUB12SUB1216471_LN@SUB1280<32747>',\n",
       "  'value': 'SUB12SUB1216471_LN@SUB1280<32747>'},\n",
       " {'label': '9131B_XF@TARBY1<CON4567>', 'value': '9131B_XF@TARBY1<CON4567>'},\n",
       " {'label': 'COLITECHA_LN@COLI<17670>', 'value': 'COLITECHA_LN@COLI<17670>'},\n",
       " {'label': 'LECJARLECLAW', 'value': 'LECJARLECLAW'},\n",
       " {'label': 'TMP505_26383', 'value': 'TMP505_26383'},\n",
       " {'label': 'MCTY_M_SOUTHT1A_LN@MCTY_MPS<12670>',\n",
       "  'value': 'MCTY_M_SOUTHT1A_LN@MCTY_MPS<12670>'},\n",
       " {'label': '3638N3638_XF@JERICHO_<BASE>',\n",
       "  'value': '3638N3638_XF@JERICHO_<BASE>'},\n",
       " {'label': 'MAURINE_V1A1_KV1A2_XF', 'value': 'MAURINE_V1A1_KV1A2_XF'},\n",
       " {'label': 'SWEAZY3', 'value': 'SWEAZY3'},\n",
       " {'label': 'TMP285_27302', 'value': 'TMP285_27302'},\n",
       " {'label': 'KNOB_MARSHAL3A_LN@KNOB<5701>',\n",
       "  'value': 'KNOB_MARSHAL3A_LN@KNOB<5701>'},\n",
       " {'label': 'NEBRCSUB3734_11_LN@SUB3740<4503>',\n",
       "  'value': 'NEBRCSUB3734_11_LN@SUB3740<4503>'},\n",
       " {'label': 'NP_1151-AA_LN@SCHUYLER<9077>',\n",
       "  'value': 'NP_1151-AA_LN@SCHUYLER<9077>'},\n",
       " {'label': 'NEBRCSUB3734_11_LN@SUB3740<25296>',\n",
       "  'value': 'NEBRCSUB3734_11_LN@SUB3740<25296>'},\n",
       " {'label': 'SLCKHILS_WASHIT_SLCK_A_LN', 'value': 'SLCKHILS_WASHIT_SLCK_A_LN'},\n",
       " {'label': 'SUBTEKFTCRAU', 'value': 'SUBTEKFTCRAU'},\n",
       " {'label': 'KNOB_MARSHAL3A_LN@KNOB<25391>',\n",
       "  'value': 'KNOB_MARSHAL3A_LN@KNOB<25391>'},\n",
       " {'label': 'TMP452_24498', 'value': 'TMP452_24498'},\n",
       " {'label': 'NPLSTOGTLRED', 'value': 'NPLSTOGTLRED'},\n",
       " {'label': 'TEMP94_21410', 'value': 'TEMP94_21410'},\n",
       " {'label': 'BK_22_1_XF@SEMINOLE<5721>', 'value': 'BK_22_1_XF@SEMINOLE<5721>'},\n",
       " {'label': 'GAVINLWCKT11_1A_LN@GAVINS<CON4260>',\n",
       "  'value': 'GAVINLWCKT11_1A_LN@GAVINS<CON4260>'},\n",
       " {'label': 'GAVINLWCKT11_1A_LN@GAVINS<34375>',\n",
       "  'value': 'GAVINLWCKT11_1A_LN@GAVINS<34375>'},\n",
       " {'label': 'BK_22_2_XF@SEMINOLE<5721>', 'value': 'BK_22_2_XF@SEMINOLE<5721>'},\n",
       " {'label': 'TEMP41_29215', 'value': 'TEMP41_29215'},\n",
       " {'label': '1368A_LN@PTRBRG_N<3354>', 'value': '1368A_LN@PTRBRG_N<3354>'},\n",
       " {'label': '10992BA_LN@GRAINVL5<12128>',\n",
       "  'value': '10992BA_LN@GRAINVL5<12128>'},\n",
       " {'label': 'S1399_S1398A_LN@SUB1398<860>',\n",
       "  'value': 'S1399_S1398A_LN@SUB1398<860>'},\n",
       " {'label': '120801_LN@NEBRCTY<12676>', 'value': '120801_LN@NEBRCTY<12676>'},\n",
       " {'label': 'TIPNEOTIPMON', 'value': 'TIPNEOTIPMON'},\n",
       " {'label': 'BK_22_2_XF@SEMINOLE<714>', 'value': 'BK_22_2_XF@SEMINOLE<714>'},\n",
       " {'label': 'DAKMARLACNEO', 'value': 'DAKMARLACNEO'},\n",
       " {'label': 'FAIRGN_BISM1_LN@FAIRGNDS<10357>',\n",
       "  'value': 'FAIRGN_BISM1_LN@FAIRGNDS<10357>'},\n",
       " {'label': 'TMP501_28727', 'value': 'TMP501_28727'},\n",
       " {'label': 'KNGFSH_ENEMAHAA_LN@KNGFISH3<14784>',\n",
       "  'value': 'KNGFSH_ENEMAHAA_LN@KNGFISH3<14784>'},\n",
       " {'label': 'GGSXF1GGSXF2', 'value': 'GGSXF1GGSXF2'},\n",
       " {'label': 'STONESW_TUPELOA_LN@STONEWSW<5721>',\n",
       "  'value': 'STONESW_TUPELOA_LN@STONEWSW<5721>'},\n",
       " {'label': 'TEMP47_28178', 'value': 'TEMP47_28178'},\n",
       " {'label': 'ELSWRRAPID11_11_LN@ELSWRTH<28547>',\n",
       "  'value': 'ELSWRRAPID11_11_LN@ELSWRTH<28547>'},\n",
       " {'label': 'KETCH_OSBORNA_LN@KETCHEM<BASE>',\n",
       "  'value': 'KETCH_OSBORNA_LN@KETCHEM<BASE>'},\n",
       " {'label': 'DRFTSND4_DRIFTSAND_LINE_A_LN',\n",
       "  'value': 'DRFTSND4_DRIFTSAND_LINE_A_LN'},\n",
       " {'label': 'TMP738_29160', 'value': 'TMP738_29160'},\n",
       " {'label': '291_LN@NSES<6505>', 'value': '291_LN@NSES<6505>'},\n",
       " {'label': 'SUBM__SUBJ_11_LN@SUBJ<183>',\n",
       "  'value': 'SUBM__SUBJ_11_LN@SUBJ<183>'},\n",
       " {'label': 'TMP278_25759', 'value': 'TMP278_25759'},\n",
       " {'label': 'WOLFWOLF25_1', 'value': 'WOLFWOLF25_1'},\n",
       " {'label': 'XF1XF1_XF@POSTROCK<23217>', 'value': 'XF1XF1_XF@POSTROCK<23217>'},\n",
       " {'label': 'TMP477_24580', 'value': 'TMP477_24580'},\n",
       " {'label': '8691A_LN@FPLSWTCH<31837>', 'value': '8691A_LN@FPLSWTCH<31837>'},\n",
       " {'label': 'OLATHE_OXFORD11_LN@OXFORD<18722>',\n",
       "  'value': 'OLATHE_OXFORD11_LN@OXFORD<18722>'},\n",
       " {'label': 'GGS', 'value': 'GGS'},\n",
       " {'label': 'FERGUS2_XF', 'value': 'FERGUS2_XF'},\n",
       " {'label': 'WASHIT_SWSTA_LN@WASHIT1<31152>',\n",
       "  'value': 'WASHIT_SWSTA_LN@WASHIT1<31152>'},\n",
       " {'label': 'KNGFSH_ENEMAHAA_LN@KNGFISH3<12676>',\n",
       "  'value': 'KNGFSH_ENEMAHAA_LN@KNGFISH3<12676>'},\n",
       " {'label': 'GAVINBLMFL11_11_LN@GAVINS<CON4260>',\n",
       "  'value': 'GAVINBLMFL11_11_LN@GAVINS<CON4260>'},\n",
       " {'label': 'KILWHEHUNWDR', 'value': 'KILWHEHUNWDR'},\n",
       " {'label': 'CROCUDHOLBUC', 'value': 'CROCUDHOLBUC'},\n",
       " {'label': 'FT_CAFT_CA34_2S_LN@FT_CAL<15880>',\n",
       "  'value': 'FT_CAFT_CA34_2S_LN@FT_CAL<15880>'},\n",
       " {'label': 'TMP575_25904', 'value': 'TMP575_25904'},\n",
       " {'label': 'KNOB_MARSHAL3A_LN@KNOB<26711>',\n",
       "  'value': 'KNOB_MARSHAL3A_LN@KNOB<26711>'},\n",
       " {'label': 'GAVINSPIRI11_11_LN@GAVINS<18702>',\n",
       "  'value': 'GAVINSPIRI11_11_LN@GAVINS<18702>'},\n",
       " {'label': 'NDPRANELSO11_11_LN@NDPRARWF<BASE>',\n",
       "  'value': 'NDPRANELSO11_11_LN@NDPRARWF<BASE>'},\n",
       " {'label': 'NICHSUB_1', 'value': 'NICHSUB_1'},\n",
       " {'label': 'HARTGGAVIN11_11_LN@GAVINS<CON4260>',\n",
       "  'value': 'HARTGGAVIN11_11_LN@GAVINS<CON4260>'},\n",
       " {'label': 'WWATERTN_PELIA_LN@WATERTN<14727>',\n",
       "  'value': 'WWATERTN_PELIA_LN@WATERTN<14727>'},\n",
       " {'label': 'GRNBUR_GRBNIN3A_LN@GRNBUR1<14748>',\n",
       "  'value': 'GRNBUR_GRBNIN3A_LN@GRNBUR1<14748>'},\n",
       " {'label': 'WATERTN_U1A1_KU1A2_XF', 'value': 'WATERTN_U1A1_KU1A2_XF'},\n",
       " {'label': 'SWIWGRWERHOY', 'value': 'SWIWGRWERHOY'},\n",
       " {'label': 'WATERTN_U1A1_KU1A1_XF', 'value': 'WATERTN_U1A1_KU1A1_XF'},\n",
       " {'label': '10931A_LN@SUNCIT1<14748>', 'value': '10931A_LN@SUNCIT1<14748>'},\n",
       " {'label': 'TMP525_27546', 'value': 'TMP525_27546'},\n",
       " {'label': 'TMP227_28272', 'value': 'TMP227_28272'},\n",
       " {'label': 'GAVINS1', 'value': 'GAVINS1'},\n",
       " {'label': '1172A_LN@SUPERO2<32939>', 'value': '1172A_LN@SUPERO2<32939>'},\n",
       " {'label': 'BICNTRGHDR11_11_LN@BICNTNL<19798>',\n",
       "  'value': 'BICNTRGHDR11_11_LN@BICNTNL<19798>'},\n",
       " {'label': 'EXIRAWA_TRG2_XF', 'value': 'EXIRAWA_TRG2_XF'},\n",
       " {'label': 'LEA_OILCNTRA_LN@OIL_CNTR<20376>',\n",
       "  'value': 'LEA_OILCNTRA_LN@OIL_CNTR<20376>'},\n",
       " {'label': 'LOGANLELAN23_11_LN@LOGANWA<7430>',\n",
       "  'value': 'LOGANLELAN23_11_LN@LOGANWA<7430>'},\n",
       " {'label': 'RCKFLS_RDRUNNR1_LN@RCKFALLS<BASE>',\n",
       "  'value': 'RCKFLS_RDRUNNR1_LN@RCKFALLS<BASE>'},\n",
       " {'label': 'TMP421_29021', 'value': 'TMP421_29021'},\n",
       " {'label': 'MINOTLOGAN11_11_LN@MINOT<32227>',\n",
       "  'value': 'MINOTLOGAN11_11_LN@MINOT<32227>'},\n",
       " {'label': 'TEAGUS_JAL11_11_LN@TEAGUE<20376>',\n",
       "  'value': 'TEAGUS_JAL11_11_LN@TEAGUE<20376>'},\n",
       " {'label': 'U1A1KU1A2_XF@WATERTN<CON2597>',\n",
       "  'value': 'U1A1KU1A2_XF@WATERTN<CON2597>'},\n",
       " {'label': 'TMP166_21538', 'value': 'TMP166_21538'},\n",
       " {'label': '291_LN@NSES<BB6941>', 'value': '291_LN@NSES<BB6941>'},\n",
       " {'label': 'AVECTYTP_11306_A_LN', 'value': 'AVECTYTP_11306_A_LN'},\n",
       " {'label': 'FRANKLN5_FRANKLIN_JAYH_1_LN',\n",
       "  'value': 'FRANKLN5_FRANKLIN_JAYH_1_LN'},\n",
       " {'label': 'TMP500_27577', 'value': 'TMP500_27577'},\n",
       " {'label': 'V1A1KV1A1_XF@MAURINE<6786>',\n",
       "  'value': 'V1A1KV1A1_XF@MAURINE<6786>'},\n",
       " {'label': 'COOFAISTJCOO', 'value': 'COOFAISTJCOO'},\n",
       " {'label': 'CUSTER_WHITTENA_LN@CUSTERM<20376>',\n",
       "  'value': 'CUSTER_WHITTENA_LN@CUSTERM<20376>'},\n",
       " {'label': 'BYRD_COOPERA_LN@BYRD_SUB<20376>',\n",
       "  'value': 'BYRD_COOPERA_LN@BYRD_SUB<20376>'},\n",
       " {'label': 'HOPI_SUB', 'value': 'HOPI_SUB'},\n",
       " {'label': 'MART_MAJEA_LN@MARTIN<BASE>',\n",
       "  'value': 'MART_MAJEA_LN@MARTIN<BASE>'},\n",
       " {'label': '30601_LN@LEC<411>', 'value': '30601_LN@LEC<411>'},\n",
       " {'label': 'TMP289_28265', 'value': 'TMP289_28265'},\n",
       " {'label': 'TMP499_26328', 'value': 'TMP499_26328'},\n",
       " {'label': 'OGALABRULE11_11_LN@OGALALA<16208>',\n",
       "  'value': 'OGALABRULE11_11_LN@OGALALA<16208>'},\n",
       " {'label': 'SIOUXSIOUX34_1S_LN@SIOUXCY2<8306>',\n",
       "  'value': 'SIOUXSIOUX34_1S_LN@SIOUXCY2<8306>'},\n",
       " {'label': 'LWCKTYKNTJ11_1A_LN@LEWSCLRK<8306>',\n",
       "  'value': 'LWCKTYKNTJ11_1A_LN@LEWSCLRK<8306>'},\n",
       " {'label': 'NDPRARWF_NDPRANELSO11_1_1_LN',\n",
       "  'value': 'NDPRARWF_NDPRANELSO11_1_1_LN'},\n",
       " {'label': 'TMP242_26632', 'value': 'TMP242_26632'},\n",
       " {'label': 'GRCMNT_WASHIT12_LN@GRACMONT<27405>',\n",
       "  'value': 'GRCMNT_WASHIT12_LN@GRACMONT<27405>'},\n",
       " {'label': '1168AA_LN@PTRBRG_N<13805>', 'value': '1168AA_LN@PTRBRG_N<13805>'},\n",
       " {'label': 'TMP668_28368', 'value': 'TMP668_28368'},\n",
       " {'label': 'FTRANKELLY23_1A_LN@MEADW_GR<422>',\n",
       "  'value': 'FTRANKELLY23_1A_LN@MEADW_GR<422>'},\n",
       " {'label': 'MOORE_CO', 'value': 'MOORE_CO'},\n",
       " {'label': '8691A_LN@FPLSWTCH<31152>', 'value': '8691A_LN@FPLSWTCH<31152>'},\n",
       " {'label': '491_LN@MCLEAN_S<15291>', 'value': '491_LN@MCLEAN_S<15291>'},\n",
       " {'label': '491_LN@MCLEAN_S<16617>', 'value': '491_LN@MCLEAN_S<16617>'},\n",
       " {'label': 'GENTRY_FAIRPT-NODAWY_A_LN', 'value': 'GENTRY_FAIRPT-NODAWY_A_LN'},\n",
       " {'label': 'TMP703_28546', 'value': 'TMP703_28546'},\n",
       " {'label': 'EASTTOWN_STJOEA_LN@EASTTOWN<17034>',\n",
       "  'value': 'EASTTOWN_STJOEA_LN@EASTTOWN<17034>'},\n",
       " {'label': 'NP_1160BA_LN@FREMONT<27660>',\n",
       "  'value': 'NP_1160BA_LN@FREMONT<27660>'},\n",
       " {'label': 'NP_1160BA_LN@FREMONT<27658>',\n",
       "  'value': 'NP_1160BA_LN@FREMONT<27658>'},\n",
       " {'label': 'LTLMIBAKER23_11_LN@LTLMISS<22970>',\n",
       "  'value': 'LTLMIBAKER23_11_LN@LTLMISS<22970>'},\n",
       " {'label': 'TEMP77_27899', 'value': 'TEMP77_27899'},\n",
       " {'label': '12218A_LN@WINSLOW<9192>', 'value': '12218A_LN@WINSLOW<9192>'},\n",
       " {'label': 'HERDS6DEAPLX', 'value': 'HERDS6DEAPLX'},\n",
       " {'label': '961SOUTH_345_138_XF@PIRKEY<3436>',\n",
       "  'value': '961SOUTH_345_138_XF@PIRKEY<3436>'},\n",
       " {'label': 'TR04TR04_XF@FREMONT<27660>',\n",
       "  'value': 'TR04TR04_XF@FREMONT<27660>'},\n",
       " {'label': 'GAVINLWCKT11_1A_LN@GAVINS<8370>',\n",
       "  'value': 'GAVINLWCKT11_1A_LN@GAVINS<8370>'},\n",
       " {'label': 'GAVINLWCKT11_1A_LN@GAVINS<8306>',\n",
       "  'value': 'GAVINLWCKT11_1A_LN@GAVINS<8306>'},\n",
       " {'label': 'BK_11_2_XF@SEMINOLE<5721>', 'value': 'BK_11_2_XF@SEMINOLE<5721>'},\n",
       " {'label': 'BK_11_1_XF@SEMINOLE<5721>', 'value': 'BK_11_1_XF@SEMINOLE<5721>'},\n",
       " {'label': '2263BA_LN@PAUL_SPP<28538>', 'value': '2263BA_LN@PAUL_SPP<28538>'},\n",
       " {'label': 'LOGANLELAN23_11_LN@LOGANWA<7525>',\n",
       "  'value': 'LOGANLELAN23_11_LN@LOGANWA<7525>'},\n",
       " {'label': 'U1B1KU1B1_XF@FTTHOMP<13202>',\n",
       "  'value': 'U1B1KU1B1_XF@FTTHOMP<13202>'},\n",
       " {'label': 'LOGANLELAN23_11_LN@LOGANWA<12203>',\n",
       "  'value': 'LOGANLELAN23_11_LN@LOGANWA<12203>'},\n",
       " {'label': 'U1B1KU1B2_XF@FTTHOMP<13202>',\n",
       "  'value': 'U1B1KU1B2_XF@FTTHOMP<13202>'},\n",
       " {'label': 'NP_1153AA_LN@COLMBSSE<5982>',\n",
       "  'value': 'NP_1153AA_LN@COLMBSSE<5982>'},\n",
       " {'label': '22551_XF@CLINT_J<7992>', 'value': '22551_XF@CLINT_J<7992>'},\n",
       " {'label': 'U1A1KU1A1_XF@FTTHOMP<13202>',\n",
       "  'value': 'U1A1KU1A1_XF@FTTHOMP<13202>'},\n",
       " {'label': 'U2A1KU2A1_XF@BELFELD<7525>',\n",
       "  'value': 'U2A1KU2A1_XF@BELFELD<7525>'},\n",
       " {'label': '8373A_XF@CLEVLND7<18695>', 'value': '8373A_XF@CLEVLND7<18695>'},\n",
       " {'label': '8790A_LN@NOWST1<28172>', 'value': '8790A_LN@NOWST1<28172>'},\n",
       " {'label': '8834C_LN@SEMINOLE<1996>', 'value': '8834C_LN@SEMINOLE<1996>'},\n",
       " {'label': 'U2A1KU2A1_XF@BELFELD<12203>',\n",
       "  'value': 'U2A1KU2A1_XF@BELFELD<12203>'},\n",
       " {'label': '8790A_LN@NOWST1<33380>', 'value': '8790A_LN@NOWST1<33380>'},\n",
       " {'label': '8798A_LN@CKHAL<15973>', 'value': '8798A_LN@CKHAL<15973>'},\n",
       " {'label': 'TMP544_27983', 'value': 'TMP544_27983'},\n",
       " {'label': 'U1A1KU1A2_XF@WATERTN<5356>',\n",
       "  'value': 'U1A1KU1A2_XF@WATERTN<5356>'},\n",
       " {'label': 'CHAVES', 'value': 'CHAVES'},\n",
       " {'label': '84_BLUFF_TBGS_LFG_G1_TRG4', 'value': '84_BLUFF_TBGS_LFG_G1_TRG4'},\n",
       " {'label': 'T1T1A_XF@SUB1214<BB7140>', 'value': 'T1T1A_XF@SUB1214<BB7140>'},\n",
       " {'label': 'DAWSOGLEND11_11_LN@GLENDCT<11859>',\n",
       "  'value': 'DAWSOGLEND11_11_LN@GLENDCT<11859>'},\n",
       " {'label': 'TR04TR04_XF@FREMONT<9074>', 'value': 'TR04TR04_XF@FREMONT<9074>'},\n",
       " {'label': 'TMP100_23510', 'value': 'TMP100_23510'},\n",
       " {'label': 'TR04TR04_XF@FREMONT<9192>', 'value': 'TR04TR04_XF@FREMONT<9192>'},\n",
       " {'label': 'SUB1270_BL16_11_LN@70_BLUF<4503>',\n",
       "  'value': 'SUB1270_BL16_11_LN@70_BLUF<4503>'},\n",
       " {'label': 'CONWAKIRBY11_11_LN@KIRBY_SU<12803>',\n",
       "  'value': 'CONWAKIRBY11_11_LN@KIRBY_SU<12803>'},\n",
       " {'label': 'SPFLD-LARUSLA_LN@SPRGFLD<23581>',\n",
       "  'value': 'SPFLD-LARUSLA_LN@SPRGFLD<23581>'},\n",
       " {'label': 'CONWAKIRBY11_11_LN@KIRBY_SU<16666>',\n",
       "  'value': 'CONWAKIRBY11_11_LN@KIRBY_SU<16666>'},\n",
       " {'label': 'CONWAKIRBY11_11_LN@KIRBY_SU<16617>',\n",
       "  'value': 'CONWAKIRBY11_11_LN@KIRBY_SU<16617>'},\n",
       " {'label': 'HALIDBEUL711_11_LN@HALIDYWP<25955>',\n",
       "  'value': 'HALIDBEUL711_11_LN@HALIDYWP<25955>'},\n",
       " {'label': 'BOTTNBOTTN11_11_LN@BOTTNOSE<3673>',\n",
       "  'value': 'BOTTNBOTTN11_11_LN@BOTTNOSE<3673>'},\n",
       " {'label': 'CIMXF3CIMXF2', 'value': 'CIMXF3CIMXF2'},\n",
       " {'label': '7453A_LN@SBROWN<17940>', 'value': '7453A_LN@SBROWN<17940>'},\n",
       " {'label': 'V1A1KV1A2_XF@MORRIS<9063>', 'value': 'V1A1KV1A2_XF@MORRIS<9063>'},\n",
       " {'label': 'V1A1KV1A1_XF@MORRIS<9063>', 'value': 'V1A1KV1A1_XF@MORRIS<9063>'},\n",
       " {'label': 'MONUMENT_XF', 'value': 'MONUMENT_XF'},\n",
       " {'label': 'TMP811_29253', 'value': 'TMP811_29253'},\n",
       " {'label': 'GRNBUR1_2', 'value': 'GRNBUR1_2'},\n",
       " {'label': 'LEA_ROAD', 'value': 'LEA_ROAD'},\n",
       " {'label': 'LKWING_HOOKR_1A_LN@HOOKRD5<12670>',\n",
       "  'value': 'LKWING_HOOKR_1A_LN@HOOKRD5<12670>'},\n",
       " {'label': 'WGRDNR_CEDAR_1A_LN@CEDAR_CR<7079>',\n",
       "  'value': 'WGRDNR_CEDAR_1A_LN@CEDAR_CR<7079>'},\n",
       " {'label': 'LKWING_HOOKR_1A_LN@HOOKRD5<10042>',\n",
       "  'value': 'LKWING_HOOKR_1A_LN@HOOKRD5<10042>'},\n",
       " {'label': 'S_JAL_XF', 'value': 'S_JAL_XF'},\n",
       " {'label': '11_XF@KELLY<7042>', 'value': '11_XF@KELLY<7042>'},\n",
       " {'label': 'COLHYDRO_XF2', 'value': 'COLHYDRO_XF2'},\n",
       " {'label': 'NP_1150-AA_LN@YORK_NP<10773>',\n",
       "  'value': 'NP_1150-AA_LN@YORK_NP<10773>'},\n",
       " {'label': 'NORTON_C_MARS_NORTON1_1_LN',\n",
       "  'value': 'NORTON_C_MARS_NORTON1_1_LN'},\n",
       " {'label': 'DAYCNDAYCO11_11_LN@DAYCNTYW<BASE>',\n",
       "  'value': 'DAYCNDAYCO11_11_LN@DAYCNTYW<BASE>'},\n",
       " {'label': 'DAYCNTYW_DAYCNDAYCO11_1_1_LN',\n",
       "  'value': 'DAYCNTYW_DAYCNDAYCO11_1_1_LN'},\n",
       " {'label': 'TMP580_25700', 'value': 'TMP580_25700'},\n",
       " {'label': 'COLHYDRO1', 'value': 'COLHYDRO1'},\n",
       " {'label': 'V2A1KV2A2_XF@WATFORD<12864>',\n",
       "  'value': 'V2A1KV2A2_XF@WATFORD<12864>'},\n",
       " {'label': 'KNOB_MARSHAL3A_LN@KNOB<860>',\n",
       "  'value': 'KNOB_MARSHAL3A_LN@KNOB<860>'},\n",
       " {'label': 'CHAWATCHAPAT_Dbl', 'value': 'CHAWATCHAPAT_Dbl'},\n",
       " {'label': 'TMP280_Dbl', 'value': 'TMP280_Dbl'},\n",
       " {'label': 'CHAR_CK_PATENTA_LN@CHAR_CK<7430>',\n",
       "  'value': 'CHAR_CK_PATENTA_LN@CHAR_CK<7430>'},\n",
       " {'label': 'C_MARS_NORTON11_LN@NORTON<BASE>',\n",
       "  'value': 'C_MARS_NORTON11_LN@NORTON<BASE>'},\n",
       " {'label': 'KEENTP_KEENTP_KUMMRDG_A_LN',\n",
       "  'value': 'KEENTP_KEENTP_KUMMRDG_A_LN'},\n",
       " {'label': 'V1A1KV1A2_XF@MAURINE<33451>',\n",
       "  'value': 'V1A1KV1A2_XF@MAURINE<33451>'},\n",
       " {'label': 'V1A1KV1A1_XF@MAURINE<33451>',\n",
       "  'value': 'V1A1KV1A1_XF@MAURINE<33451>'},\n",
       " {'label': '1144A_LN@KEARNEY9<4129>', 'value': '1144A_LN@KEARNEY9<4129>'},\n",
       " {'label': '4382EDWV_16_XF@EDWV<10294>',\n",
       "  'value': '4382EDWV_16_XF@EDWV<10294>'},\n",
       " {'label': 'MERRIA_OVRLD_11_LN@OVRLD_PK<2771>',\n",
       "  'value': 'MERRIA_OVRLD_11_LN@OVRLD_PK<2771>'},\n",
       " {'label': 'PRATT', 'value': 'PRATT'},\n",
       " {'label': 'FRANKLIN_JAYH1_LN@FRANKLN5<BASE>',\n",
       "  'value': 'FRANKLIN_JAYH1_LN@FRANKLN5<BASE>'},\n",
       " {'label': 'HALIDBEUL711_11_LN@HALIDYWP<12203>',\n",
       "  'value': 'HALIDBEUL711_11_LN@HALIDYWP<12203>'},\n",
       " {'label': 'TMP332_28501', 'value': 'TMP332_28501'},\n",
       " {'label': 'WATERTN_15AVEA_LN@WATERTN<26305>',\n",
       "  'value': 'WATERTN_15AVEA_LN@WATERTN<26305>'},\n",
       " {'label': '1089A_LN@LOWELL2<634>', 'value': '1089A_LN@LOWELL2<634>'},\n",
       " {'label': 'BPSCLABPSSHE', 'value': 'BPSCLABPSSHE'},\n",
       " {'label': 'CASTRDFS_R11_11_LN@CASTRO<7916>',\n",
       "  'value': 'CASTRDFS_R11_11_LN@CASTRO<7916>'},\n",
       " {'label': 'TMP776_29290', 'value': 'TMP776_29290'},\n",
       " {'label': 'FULTON_PATMOA_LN@PAT_WX<12116>',\n",
       "  'value': 'FULTON_PATMOA_LN@PAT_WX<12116>'},\n",
       " {'label': 'TX1B_XF@VIOLA7<23837>', 'value': 'TX1B_XF@VIOLA7<23837>'},\n",
       " {'label': 'BLMFLD_CROFTONA_LN@CROFTON<BASE>',\n",
       "  'value': 'BLMFLD_CROFTONA_LN@CROFTON<BASE>'},\n",
       " {'label': 'MEADW_GR_FTRANKELLY23_1_A_LN',\n",
       "  'value': 'MEADW_GR_FTRANKELLY23_1_A_LN'},\n",
       " {'label': 'TMP334_28093', 'value': 'TMP334_28093'},\n",
       " {'label': 'MCHENVOLTA11_11_LN@MCHENRY<22264>',\n",
       "  'value': 'MCHENVOLTA11_11_LN@MCHENRY<22264>'},\n",
       " {'label': 'SHARP_WR_WOLF_2', 'value': 'SHARP_WR_WOLF_2'},\n",
       " {'label': 'MO_CITY_EXSPA_LN@MAURERLK<12128>',\n",
       "  'value': 'MO_CITY_EXSPA_LN@MAURERLK<12128>'},\n",
       " {'label': 'HARRIS_NTEXEASA_LN@HARRISON<30136>',\n",
       "  'value': 'HARRIS_NTEXEASA_LN@HARRISON<30136>'},\n",
       " {'label': 'SEWARD_TIEA_LN@SEWARD1<21284>',\n",
       "  'value': 'SEWARD_TIEA_LN@SEWARD1<21284>'},\n",
       " {'label': 'SUB1270_BL16_11_LN@70_BLUF<3354>',\n",
       "  'value': 'SUB1270_BL16_11_LN@70_BLUF<3354>'},\n",
       " {'label': 'PIONEERG_4', 'value': 'PIONEERG_4'},\n",
       " {'label': 'DRIFTSAND_LINEA_LN@DRFTSND4<BASE>',\n",
       "  'value': 'DRIFTSAND_LINEA_LN@DRFTSND4<BASE>'},\n",
       " {'label': 'WAFBES_SEDALWA_LN@WAFB_ES<12128>',\n",
       "  'value': 'WAFBES_SEDALWA_LN@WAFB_ES<12128>'},\n",
       " {'label': 'TEMP25_27236', 'value': 'TEMP25_27236'},\n",
       " {'label': 'LOGANLELAN23_11_LN@LOGANWA<11413>',\n",
       "  'value': 'LOGANLELAN23_11_LN@LOGANWA<11413>'},\n",
       " {'label': '10123A_LN@JONES3<7851>', 'value': '10123A_LN@JONES3<7851>'},\n",
       " {'label': 'POTTEMOORE23_11_LN@MOORE_CO<27392>',\n",
       "  'value': 'POTTEMOORE23_11_LN@MOORE_CO<27392>'},\n",
       " {'label': 'TEMP61_22964', 'value': 'TEMP61_22964'},\n",
       " {'label': 'TMP765_28745', 'value': 'TMP765_28745'},\n",
       " {'label': 'LD13', 'value': 'LD13'},\n",
       " {'label': 'FITZHU_SPA_1AA_LN@OZARKH5<13092>',\n",
       "  'value': 'FITZHU_SPA_1AA_LN@OZARKH5<13092>'},\n",
       " {'label': 'JETMOR', 'value': 'JETMOR'},\n",
       " {'label': '3TURK_138/115_XF@TURK_PP<29828>',\n",
       "  'value': '3TURK_138/115_XF@TURK_PP<29828>'},\n",
       " {'label': 'EDGELJAMES11_11_LN@JAMESTN<2587>',\n",
       "  'value': 'EDGELJAMES11_11_LN@JAMESTN<2587>'},\n",
       " {'label': 'WOLF_WAVERLYA_LN@WOLF<16323>',\n",
       "  'value': 'WOLF_WAVERLYA_LN@WOLF<16323>'},\n",
       " {'label': 'FRPSTJSTJCOP', 'value': 'FRPSTJSTJCOP'},\n",
       " {'label': 'T22AT22_L_XF@ST_JOE<12510>',\n",
       "  'value': 'T22AT22_L_XF@ST_JOE<12510>'},\n",
       " {'label': 'TMP450_29319', 'value': 'TMP450_29319'},\n",
       " {'label': 'MAURERLK_EXSPRNG_CARR_A_LN',\n",
       "  'value': 'MAURERLK_EXSPRNG_CARR_A_LN'},\n",
       " {'label': '835BT1_LN@OAK_PHEC<18873>', 'value': '835BT1_LN@OAK_PHEC<18873>'},\n",
       " {'label': 'SIOTWIRAUHOS', 'value': 'SIOTWIRAUHOS'},\n",
       " {'label': 'RIVROAD_10930_A_LN', 'value': 'RIVROAD_10930_A_LN'},\n",
       " {'label': 'TMP745_29224', 'value': 'TMP745_29224'},\n",
       " {'label': 'TECH_MIDJA_LN@TECH<20315>', 'value': 'TECH_MIDJA_LN@TECH<20315>'},\n",
       " {'label': 'V1A1KV1A1_XF@DENISON<23059>',\n",
       "  'value': 'V1A1KV1A1_XF@DENISON<23059>'},\n",
       " {'label': 'COPSTJCPFRSJ', 'value': 'COPSTJCPFRSJ'},\n",
       " {'label': 'SEWARD_TIEA_LN@SEWARD1<3743>',\n",
       "  'value': 'SEWARD_TIEA_LN@SEWARD1<3743>'},\n",
       " {'label': 'KNOB_MARSHAL3A_LN@KNOB<1119>',\n",
       "  'value': 'KNOB_MARSHAL3A_LN@KNOB<1119>'},\n",
       " {'label': '1089A_LN@LOWELL2<17441>', 'value': '1089A_LN@LOWELL2<17441>'},\n",
       " {'label': 'VINNHASHAPOS', 'value': 'VINNHASHAPOS'},\n",
       " {'label': 'UTICAJC_NAPAJA_LN@UTICAJC<15677>',\n",
       "  'value': 'UTICAJC_NAPAJA_LN@UTICAJC<15677>'},\n",
       " {'label': 'TMP647_29324', 'value': 'TMP647_29324'},\n",
       " {'label': 'EMCPCJOHN11_11_LN@CJOHN<33895>',\n",
       "  'value': 'EMCPCJOHN11_11_LN@CJOHN<33895>'},\n",
       " {'label': 'TEKAMHO_TEKAMSUB1216_1_1_LN',\n",
       "  'value': 'TEKAMHO_TEKAMSUB1216_1_1_LN'},\n",
       " {'label': 'EMCPCJOHN11_11_LN@CJOHN<CON3844>',\n",
       "  'value': 'EMCPCJOHN11_11_LN@CJOHN<CON3844>'},\n",
       " {'label': 'BK_11_1_XF@SEMINOLE<714>', 'value': 'BK_11_1_XF@SEMINOLE<714>'},\n",
       " {'label': 'DAWSOGLEND11_11_LN@GLENDCT<11485>',\n",
       "  'value': 'DAWSOGLEND11_11_LN@GLENDCT<11485>'},\n",
       " {'label': 'TMP203_28255', 'value': 'TMP203_28255'},\n",
       " {'label': 'SEWARD_TIEA_LN@SEWARD1<15449>',\n",
       "  'value': 'SEWARD_TIEA_LN@SEWARD1<15449>'},\n",
       " {'label': 'UNVRSTY4_MCROYA_LN@UNVRSTY4<16914>',\n",
       "  'value': 'UNVRSTY4_MCROYA_LN@UNVRSTY4<16914>'},\n",
       " {'label': 'BK_11_2_XF@SEMINOLE<714>', 'value': 'BK_11_2_XF@SEMINOLE<714>'},\n",
       " {'label': 'DS6_HEREFORDA_LN@DS_REC6<7303>',\n",
       "  'value': 'DS6_HEREFORDA_LN@DS_REC6<7303>'},\n",
       " {'label': 'V1A1KV1A2_XF@MAURINE<6786>',\n",
       "  'value': 'V1A1KV1A2_XF@MAURINE<6786>'},\n",
       " {'label': '812CVS_115WXFMR_XF@CHAVES<16774>',\n",
       "  'value': '812CVS_115WXFMR_XF@CHAVES<16774>'},\n",
       " {'label': '818EDY_230XFMR_XF@EDDY_CO<32631>',\n",
       "  'value': '818EDY_230XFMR_XF@EDDY_CO<32631>'},\n",
       " {'label': 'TB_HERFD_U44A_LN@TBLANCA<19638>',\n",
       "  'value': 'TB_HERFD_U44A_LN@TBLANCA<19638>'},\n",
       " {'label': 'FTRANUTICA23_11_LN@FTRANDL<22869>',\n",
       "  'value': 'FTRANUTICA23_11_LN@FTRANDL<22869>'},\n",
       " {'label': 'TMP590_27792', 'value': 'TMP590_27792'},\n",
       " {'label': 'PLYMOSIOUX16_11_LN@PLYMOTH<23698>',\n",
       "  'value': 'PLYMOSIOUX16_11_LN@PLYMOTH<23698>'},\n",
       " {'label': '1611_LN@TERRY_CO<586>', 'value': '1611_LN@TERRY_CO<586>'},\n",
       " {'label': 'TMP234_28534', 'value': 'TMP234_28534'},\n",
       " {'label': 'ECKLE__PITTSV11_LN@ECKLES<12128>',\n",
       "  'value': 'ECKLE__PITTSV11_LN@ECKLES<12128>'},\n",
       " {'label': 'TMP556_29252', 'value': 'TMP556_29252'},\n",
       " {'label': 'SUNDOWOLFF23_11_LN@SUNDOWN2<586>',\n",
       "  'value': 'SUNDOWOLFF23_11_LN@SUNDOWN2<586>'},\n",
       " {'label': 'DEAF_TBLNC_U42A_LN@DEAFSMIT<6748>',\n",
       "  'value': 'DEAF_TBLNC_U42A_LN@DEAFSMIT<6748>'},\n",
       " {'label': 'OASISCHAVE23_1B_LN@SAN_JUAN<7545>',\n",
       "  'value': 'OASISCHAVE23_1B_LN@SAN_JUAN<7545>'},\n",
       " {'label': 'EDGELJAMES11_11_LN@JAMESTN<10195>',\n",
       "  'value': 'EDGELJAMES11_11_LN@JAMESTN<10195>'},\n",
       " {'label': '1611_LN@TERRY_CO<20469>', 'value': '1611_LN@TERRY_CO<20469>'},\n",
       " {'label': '1103T1_161/69_XF@ODESSA1<20714>',\n",
       "  'value': '1103T1_161/69_XF@ODESSA1<20714>'},\n",
       " {'label': '1368A_LN@PTRBRG_N<19200>', 'value': '1368A_LN@PTRBRG_N<19200>'},\n",
       " {'label': '1103T1_161/69_XF@ODESSA1<27815>',\n",
       "  'value': '1103T1_161/69_XF@ODESSA1<27815>'},\n",
       " {'label': '12215A_LN@NORFK_N<29951>', 'value': '12215A_LN@NORFK_N<29951>'},\n",
       " {'label': 'TB_HERFD_U44A_LN@TBLANCA<32430>',\n",
       "  'value': 'TB_HERFD_U44A_LN@TBLANCA<32430>'},\n",
       " {'label': 'DS_REC6_DS6_HEREFORD_A_LN', 'value': 'DS_REC6_DS6_HEREFORD_A_LN'},\n",
       " {'label': 'U1A1KU1A2_XF@FTTHOMP<3953>',\n",
       "  'value': 'U1A1KU1A2_XF@FTTHOMP<3953>'},\n",
       " {'label': '1168AA_LN@PTRBRG_N<3354>', 'value': '1168AA_LN@PTRBRG_N<3354>'},\n",
       " {'label': '11_XF@G_GENT1<14275>', 'value': '11_XF@G_GENT1<14275>'},\n",
       " {'label': 'EDGELJAMES11_11_LN@JAMESTN<19165>',\n",
       "  'value': 'EDGELJAMES11_11_LN@JAMESTN<19165>'},\n",
       " {'label': 'NP_1153AA_LN@COLMBSSE<26375>',\n",
       "  'value': 'NP_1153AA_LN@COLMBSSE<26375>'},\n",
       " {'label': 'BK_11_2_XF@SEMINOLE<13430>',\n",
       "  'value': 'BK_11_2_XF@SEMINOLE<13430>'},\n",
       " {'label': 'BK_11_1_XF@SEMINOLE<13430>',\n",
       "  'value': 'BK_11_1_XF@SEMINOLE<13430>'},\n",
       " {'label': '8822A_LN@WESTMOR4<19985>', 'value': '8822A_LN@WESTMOR4<19985>'},\n",
       " {'label': 'TEMP07_25138', 'value': 'TEMP07_25138'},\n",
       " {'label': 'WICBENVIOREN', 'value': 'WICBENVIOREN'},\n",
       " {'label': 'S4_HASTNGS_XF4', 'value': 'S4_HASTNGS_XF4'},\n",
       " {'label': 'TMP528_27578', 'value': 'TMP528_27578'},\n",
       " {'label': '8803A_LN@DRAPR1<33380>', 'value': '8803A_LN@DRAPR1<33380>'},\n",
       " {'label': 'EDGELJAMES11_11_LN@JAMESTN<14051>',\n",
       "  'value': 'EDGELJAMES11_11_LN@JAMESTN<14051>'},\n",
       " {'label': 'LWCKTYKNTJ11_1A_LN@LEWSCLRK<7213>',\n",
       "  'value': 'LWCKTYKNTJ11_1A_LN@LEWSCLRK<7213>'},\n",
       " {'label': '8821A_LN@PENN1<3800>', 'value': '8821A_LN@PENN1<3800>'},\n",
       " {'label': 'MO_CITY_EXSPA_LN@MAURERLK<5815>',\n",
       "  'value': 'MO_CITY_EXSPA_LN@MAURERLK<5815>'},\n",
       " {'label': 'ELLIOFORMN11_11_LN@ELLIOTTW<10195>',\n",
       "  'value': 'ELLIOFORMN11_11_LN@ELLIOTTW<10195>'},\n",
       " {'label': 'HART_BELDA_LN@HARTNGTN<CON4260>',\n",
       "  'value': 'HART_BELDA_LN@HARTNGTN<CON4260>'},\n",
       " {'label': 'SPVALLY2_STILWA_LN@SPVALLY2<2443>',\n",
       "  'value': 'SPVALLY2_STILWA_LN@SPVALLY2<2443>'},\n",
       " {'label': 'EXIRAANTA_16_11_LN@ANTA_TP<20843>',\n",
       "  'value': 'EXIRAANTA_16_11_LN@ANTA_TP<20843>'},\n",
       " {'label': 'TMP643_28177', 'value': 'TMP643_28177'},\n",
       " {'label': 'WASHIT_SWSTA_LN@WASHIT1<12593>',\n",
       "  'value': 'WASHIT_SWSTA_LN@WASHIT1<12593>'},\n",
       " {'label': 'GAVINSPIRI11_11_LN@GAVINS<CON4260>',\n",
       "  'value': 'GAVINSPIRI11_11_LN@GAVINS<CON4260>'},\n",
       " {'label': '901A_LN@JEFF_SWC<9852>', 'value': '901A_LN@JEFF_SWC<9852>'},\n",
       " {'label': 'HURONHURON11_11_LN@HURONTAP<3518>',\n",
       "  'value': 'HURONHURON11_11_LN@HURONTAP<3518>'},\n",
       " {'label': '10909A_LN@SUNCIT1<15449>', 'value': '10909A_LN@SUNCIT1<15449>'},\n",
       " {'label': 'TMP757_29355', 'value': 'TMP757_29355'},\n",
       " {'label': 'TMP760_29357', 'value': 'TMP760_29357'},\n",
       " {'label': 'SIOUXFLAND11_11_LN@SIOUXFL<1209>',\n",
       "  'value': 'SIOUXFLAND11_11_LN@SIOUXFL<1209>'},\n",
       " {'label': 'TMP286_28574', 'value': 'TMP286_28574'},\n",
       " {'label': '7454A_LN@SBROWN<333>', 'value': '7454A_LN@SBROWN<333>'},\n",
       " {'label': 'SIOUXFLAND11_11_LN@SIOUXFL<16758>',\n",
       "  'value': 'SIOUXFLAND11_11_LN@SIOUXFL<16758>'},\n",
       " {'label': 'TMP210_27585', 'value': 'TMP210_27585'},\n",
       " {'label': 'BISMARK_MOUNDA_LN@BISMARK2<11223>',\n",
       "  'value': 'BISMARK_MOUNDA_LN@BISMARK2<11223>'},\n",
       " {'label': '8758A_LN@DVISN<14086>', 'value': '8758A_LN@DVISN<14086>'},\n",
       " {'label': 'SKST_7287_A_LN', 'value': 'SKST_7287_A_LN'},\n",
       " {'label': 'WILLMRU_WILLMGRANI23_1_1_LN',\n",
       "  'value': 'WILLMRU_WILLMGRANI23_1_1_LN'},\n",
       " {'label': 'DEAF_TBLNC_U42A_LN@DEAFSMIT<13280>',\n",
       "  'value': 'DEAF_TBLNC_U42A_LN@DEAFSMIT<13280>'},\n",
       " {'label': 'TMP128_29363', 'value': 'TMP128_29363'},\n",
       " {'label': '12218A_LN@WINSLOW<27660>', 'value': '12218A_LN@WINSLOW<27660>'},\n",
       " {'label': 'COONRPMU_1', 'value': 'COONRPMU_1'},\n",
       " {'label': 'HERFD_CS_2', 'value': 'HERFD_CS_2'},\n",
       " {'label': 'KNONHAPOSSHA', 'value': 'KNONHAPOSSHA'},\n",
       " {'label': 'HURONHURON11_11_LN@HURONTAP<CON4565>',\n",
       "  'value': 'HURONHURON11_11_LN@HURONTAP<CON4565>'},\n",
       " {'label': 'NMAGAZI_OGE_1AA_LN@BRANCHOG<20659>',\n",
       "  'value': 'NMAGAZI_OGE_1AA_LN@BRANCHOG<20659>'},\n",
       " {'label': 'SIDOGASIDKEY', 'value': 'SIDOGASIDKEY'},\n",
       " {'label': '1661_LN@WILLARD_<22630>', 'value': '1661_LN@WILLARD_<22630>'},\n",
       " {'label': 'SUB1270_BL16_11_LN@70_BLUF<BB7140>',\n",
       "  'value': 'SUB1270_BL16_11_LN@70_BLUF<BB7140>'},\n",
       " {'label': 'TMP768_28797', 'value': 'TMP768_28797'},\n",
       " {'label': 'VINHAYKNOXFR', 'value': 'VINHAYKNOXFR'},\n",
       " {'label': 'WSHBUGARRI23_11_LN@WSHBURN<12345>',\n",
       "  'value': 'WSHBUGARRI23_11_LN@WSHBURN<12345>'},\n",
       " {'label': 'HILKEWSHBU23_11_LN@HILKEN<12345>',\n",
       "  'value': 'HILKEWSHBU23_11_LN@HILKEN<12345>'},\n",
       " {'label': 'NP_1151-AA_LN@SCHUYLER<27660>',\n",
       "  'value': 'NP_1151-AA_LN@SCHUYLER<27660>'},\n",
       " {'label': 'FLOYD_C1_BLANCA_LN@FLOYD_C1<19965>',\n",
       "  'value': 'FLOYD_C1_BLANCA_LN@FLOYD_C1<19965>'},\n",
       " {'label': '8765B_LN@HAYMAKR4<14086>', 'value': '8765B_LN@HAYMAKR4<14086>'},\n",
       " {'label': 'HURONHURON11_11_LN@HURONTAP<2616>',\n",
       "  'value': 'HURONHURON11_11_LN@HURONTAP<2616>'},\n",
       " {'label': 'NP_1195A_LN@COLHYDRO<23443>',\n",
       "  'value': 'NP_1195A_LN@COLHYDRO<23443>'},\n",
       " {'label': 'TMP928_29364', 'value': 'TMP928_29364'},\n",
       " {'label': 'TMP327_25779', 'value': 'TMP327_25779'},\n",
       " {'label': 'WICH_BUF_FLTS1A_LN@WICH<17976>',\n",
       "  'value': 'WICH_BUF_FLTS1A_LN@WICH<17976>'},\n",
       " {'label': 'TMP592_27758', 'value': 'TMP592_27758'},\n",
       " {'label': 'SPVALLY2_STILWA_LN@SPVALLY2<14644>',\n",
       "  'value': 'SPVALLY2_STILWA_LN@SPVALLY2<14644>'},\n",
       " {'label': 'WILLMGRANI23_11_LN@WILLMRU<18691>',\n",
       "  'value': 'WILLMGRANI23_11_LN@WILLMRU<18691>'},\n",
       " {'label': 'UNVRSTY4_MCROYA_LN@UNVRSTY4<7588>',\n",
       "  'value': 'UNVRSTY4_MCROYA_LN@UNVRSTY4<7588>'},\n",
       " {'label': 'KNOB_MARSHAL3A_LN@KNOB<10512>',\n",
       "  'value': 'KNOB_MARSHAL3A_LN@KNOB<10512>'},\n",
       " {'label': 'FLOYD_C1_FLOYD_C1_BLANC_A_LN',\n",
       "  'value': 'FLOYD_C1_FLOYD_C1_BLANC_A_LN'},\n",
       " {'label': 'FLOYD_C1_BLANCA_LN@FLOYD_C1<BASE>',\n",
       "  'value': 'FLOYD_C1_BLANCA_LN@FLOYD_C1<BASE>'},\n",
       " {'label': 'TMP767_29374', 'value': 'TMP767_29374'},\n",
       " {'label': 'SPSNORTH_STH', 'value': 'SPSNORTH_STH'},\n",
       " {'label': 'S_GEORGI_WESTA_LN@S_GEORGI<22298>',\n",
       "  'value': 'S_GEORGI_WESTA_LN@S_GEORGI<22298>'},\n",
       " {'label': '8691A_LN@FPLSWTCH<12621>', 'value': '8691A_LN@FPLSWTCH<12621>'},\n",
       " {'label': '8691A_LN@FPLSWTCH<29857>', 'value': '8691A_LN@FPLSWTCH<29857>'},\n",
       " {'label': 'NP_1348A_LN@JOHNSON2<24409>',\n",
       "  'value': 'NP_1348A_LN@JOHNSON2<24409>'},\n",
       " {'label': 'CONWAKIRBY11_11_LN@KIRBY_SU<5833>',\n",
       "  'value': 'CONWAKIRBY11_11_LN@KIRBY_SU<5833>'},\n",
       " {'label': 'TMP223_29373', 'value': 'TMP223_29373'},\n",
       " {'label': '8765B_LN@HAYMAKR4<13386>', 'value': '8765B_LN@HAYMAKR4<13386>'},\n",
       " {'label': 'NMAD_SPA_NEWMAD-NMSPA_A_LN',\n",
       "  'value': 'NMAD_SPA_NEWMAD-NMSPA_A_LN'},\n",
       " {'label': '8765BA_LN@DVISN<NOCI>', 'value': '8765BA_LN@DVISN<NOCI>'},\n",
       " {'label': 'MLFRDTCB', 'value': 'MLFRDTCB'},\n",
       " {'label': 'TMP478_27946', 'value': 'TMP478_27946'},\n",
       " {'label': 'SUPRIR_W', 'value': 'SUPRIR_W'},\n",
       " {'label': '8798A_LN@CKHAL<14247>', 'value': '8798A_LN@CKHAL<14247>'},\n",
       " {'label': 'SIOUXSIOUX34_1S_LN@SIOUXCY2<22799>',\n",
       "  'value': 'SIOUXSIOUX34_1S_LN@SIOUXCY2<22799>'},\n",
       " {'label': 'DOVERS1_DOVERSA_LN@DOVERS1<3020>',\n",
       "  'value': 'DOVERS1_DOVERSA_LN@DOVERS1<3020>'},\n",
       " {'label': '8792A_LN@SW51<15973>', 'value': '8792A_LN@SW51<15973>'},\n",
       " {'label': '21211_XF@VINITA_J<5169>', 'value': '21211_XF@VINITA_J<5169>'},\n",
       " {'label': 'TMP403_29400', 'value': 'TMP403_29400'},\n",
       " {'label': 'KINZEG_KINZE_1A_LN@KINZEG1<32035>',\n",
       "  'value': 'KINZEG_KINZE_1A_LN@KINZEG1<32035>'},\n",
       " {'label': 'TMP153_25085', 'value': 'TMP153_25085'},\n",
       " {'label': '10883A_LN@CMRIVTP<20629>', 'value': '10883A_LN@CMRIVTP<20629>'},\n",
       " {'label': 'SUMNERJ', 'value': 'SUMNERJ'},\n",
       " {'label': 'RUSSEL3', 'value': 'RUSSEL3'},\n",
       " {'label': 'PAT_WX_FULTON_PATMO_A_LN', 'value': 'PAT_WX_FULTON_PATMO_A_LN'},\n",
       " {'label': 'T2T2_H_XF@FTSMTH<17246>', 'value': 'T2T2_H_XF@FTSMTH<17246>'},\n",
       " {'label': 'T2T2_L_XF@FTSMTH<17246>', 'value': 'T2T2_L_XF@FTSMTH<17246>'},\n",
       " {'label': 'FTRANKELLY23_1A_LN@MEADW_GR<BASE>',\n",
       "  'value': 'FTRANKELLY23_1A_LN@MEADW_GR<BASE>'},\n",
       " {'label': 'TRFTRF_XF@FTRANDL<4270>', 'value': 'TRFTRF_XF@FTRANDL<4270>'},\n",
       " {'label': 'ENEMAHA_KELLA_LN@E_NEMAHA<14784>',\n",
       "  'value': 'ENEMAHA_KELLA_LN@E_NEMAHA<14784>'},\n",
       " {'label': 'FAIRPORT_FAIRPT-HICKCK_A_LN',\n",
       "  'value': 'FAIRPORT_FAIRPT-HICKCK_A_LN'},\n",
       " {'label': 'TMP567_27469', 'value': 'TMP567_27469'},\n",
       " {'label': '718MC_115XFMR_XF@MOORE_CO<15808>',\n",
       "  'value': '718MC_115XFMR_XF@MOORE_CO<15808>'},\n",
       " {'label': 'NHAMP1', 'value': 'NHAMP1'},\n",
       " {'label': 'RDRUNNER_RDRUNNR_BATLAX_A_LN',\n",
       "  'value': 'RDRUNNER_RDRUNNR_BATLAX_A_LN'},\n",
       " {'label': 'TMP763_29419', 'value': 'TMP763_29419'},\n",
       " {'label': 'BLAISBERTH11_11_LN@BLAISDEL<14068>',\n",
       "  'value': 'BLAISBERTH11_11_LN@BLAISDEL<14068>'},\n",
       " {'label': '897B_LN@DIANA<26962>', 'value': '897B_LN@DIANA<26962>'},\n",
       " {'label': '890SOUTH_345_138_XF@DIANA<24703>',\n",
       "  'value': '890SOUTH_345_138_XF@DIANA<24703>'},\n",
       " {'label': 'DAWSOLEWIS11_11_LN@LEWISWP<2693>',\n",
       "  'value': 'DAWSOLEWIS11_11_LN@LEWISWP<2693>'},\n",
       " {'label': 'FTTHOMP_U1B1_KU1B2_XF', 'value': 'FTTHOMP_U1B1_KU1B2_XF'},\n",
       " {'label': 'S_JALWHITT11_11_LN@WHITTEN<20376>',\n",
       "  'value': 'S_JALWHITT11_11_LN@WHITTEN<20376>'},\n",
       " {'label': 'FTTHOMP_U1B1_KU1B1_XF', 'value': 'FTTHOMP_U1B1_KU1B1_XF'},\n",
       " {'label': 'NAPLES1_CORNTP1_LN@NAPLES1<BASE>',\n",
       "  'value': 'NAPLES1_CORNTP1_LN@NAPLES1<BASE>'},\n",
       " {'label': 'MRL_RUS81_5961_LN@MRLOWTAP<25515>',\n",
       "  'value': 'MRL_RUS81_5961_LN@MRLOWTAP<25515>'},\n",
       " {'label': 'TMP142_29417', 'value': 'TMP142_29417'},\n",
       " {'label': 'U1B1KU1B2_XF@FTTHOMP<8370>',\n",
       "  'value': 'U1B1KU1B2_XF@FTTHOMP<8370>'},\n",
       " {'label': 'SUB1226_1567_1_LN', 'value': 'SUB1226_1567_1_LN'},\n",
       " {'label': 'TMP386_28084', 'value': 'TMP386_28084'},\n",
       " {'label': 'ENEMAHA_KELLA_LN@E_NEMAHA<28562>',\n",
       "  'value': 'ENEMAHA_KELLA_LN@E_NEMAHA<28562>'},\n",
       " {'label': '718MC_115XFMR_XF@MOORE_CO<33082>',\n",
       "  'value': '718MC_115XFMR_XF@MOORE_CO<33082>'},\n",
       " {'label': 'U1B1KU1B2_XF@FTTHOMP<7389>',\n",
       "  'value': 'U1B1KU1B2_XF@FTTHOMP<7389>'},\n",
       " {'label': 'U1B1KU1B1_XF@FTTHOMP<7389>',\n",
       "  'value': 'U1B1KU1B1_XF@FTTHOMP<7389>'},\n",
       " {'label': 'TMP872_29089', 'value': 'TMP872_29089'},\n",
       " {'label': 'TMP837_29381', 'value': 'TMP837_29381'},\n",
       " {'label': '718MC_115XFMR_XF@MOORE_CO<27392>',\n",
       "  'value': '718MC_115XFMR_XF@MOORE_CO<27392>'},\n",
       " {'label': '894A_LN@DIANA<5146>', 'value': '894A_LN@DIANA<5146>'},\n",
       " {'label': 'NASHUA_ST_JOEA_LN@NASHUA<81>',\n",
       "  'value': 'NASHUA_ST_JOEA_LN@NASHUA<81>'},\n",
       " {'label': 'TMP780_29432', 'value': 'TMP780_29432'},\n",
       " {'label': 'V2A1KV2A1_XF@WATFORD<12864>',\n",
       "  'value': 'V2A1KV2A1_XF@WATFORD<12864>'},\n",
       " {'label': '12922_XF@CATSAGR5<32858>', 'value': '12922_XF@CATSAGR5<32858>'},\n",
       " {'label': '13933_XF@CATSAGR5<33477>', 'value': '13933_XF@CATSAGR5<33477>'},\n",
       " {'label': 'LELANANTEL34_21_LN@LELANDO<13714>',\n",
       "  'value': 'LELANANTEL34_21_LN@LELANDO<13714>'},\n",
       " {'label': 'DUMAS_XF', 'value': 'DUMAS_XF'},\n",
       " {'label': 'U1A1KU1A1_XF@FTTHOMP<7389>',\n",
       "  'value': 'U1A1KU1A1_XF@FTTHOMP<7389>'},\n",
       " {'label': 'U1A1KU1A2_XF@FTTHOMP<7389>',\n",
       "  'value': 'U1A1KU1A2_XF@FTTHOMP<7389>'},\n",
       " {'label': 'SWPS5_XF1', 'value': 'SWPS5_XF1'},\n",
       " {'label': 'HOLT_GRISLDA_LN@HOLT_CO<8370>',\n",
       "  'value': 'HOLT_GRISLDA_LN@HOLT_CO<8370>'},\n",
       " {'label': '8798A_LN@CKHAL<18278>', 'value': '8798A_LN@CKHAL<18278>'},\n",
       " {'label': 'SPRINGD_DRIPA_LN@SPRIN<9612>',\n",
       "  'value': 'SPRINGD_DRIPA_LN@SPRIN<9612>'},\n",
       " {'label': 'TEMP70_29435', 'value': 'TEMP70_29435'},\n",
       " {'label': 'TMP943_29449', 'value': 'TMP943_29449'},\n",
       " {'label': 'FRANKHAMP_16_11_LN@FRANKLN<CON3660>',\n",
       "  'value': 'FRANKHAMP_16_11_LN@FRANKLN<CON3660>'},\n",
       " {'label': 'FRANKHAMP_16_11_LN@FRANKLN<13519>',\n",
       "  'value': 'FRANKHAMP_16_11_LN@FRANKLN<13519>'},\n",
       " {'label': '13933_XF@CATSAGR5<30673>', 'value': '13933_XF@CATSAGR5<30673>'},\n",
       " {'label': '8775A_LN@SW51<15935>', 'value': '8775A_LN@SW51<15935>'},\n",
       " {'label': 'BISMARK2_BISMARK_MOUND_A_LN',\n",
       "  'value': 'BISMARK2_BISMARK_MOUND_A_LN'},\n",
       " {'label': 'TMP684_28783', 'value': 'TMP684_28783'},\n",
       " {'label': '21211_XF@VINITA_J<29721>', 'value': '21211_XF@VINITA_J<29721>'},\n",
       " {'label': 'CUNNSUB_HOBBS11_LN@HOBBS<14507>',\n",
       "  'value': 'CUNNSUB_HOBBS11_LN@HOBBS<14507>'},\n",
       " {'label': 'FTTHONBND4_1A_LN@FTTHOMP<28237>',\n",
       "  'value': 'FTTHONBND4_1A_LN@FTTHOMP<28237>'},\n",
       " {'label': 'MONT3STRND11_11_LN@MONT3<13396>',\n",
       "  'value': 'MONT3STRND11_11_LN@MONT3<13396>'},\n",
       " {'label': 'WILLMGRANI23_11_LN@WILLMRU<EXT1234>',\n",
       "  'value': 'WILLMGRANI23_11_LN@WILLMRU<EXT1234>'},\n",
       " {'label': 'WILLMGRANI23_11_LN@WILLMRU<11769>',\n",
       "  'value': 'WILLMGRANI23_11_LN@WILLMRU<11769>'},\n",
       " {'label': 'AT2AT2_XF@FTPECK<12147>', 'value': 'AT2AT2_XF@FTPECK<12147>'},\n",
       " {'label': 'DAWSOLEWIS11_11_LN@LEWISWP<7129>',\n",
       "  'value': 'DAWSOLEWIS11_11_LN@LEWISWP<7129>'},\n",
       " {'label': 'TMP490_29471', 'value': 'TMP490_29471'},\n",
       " {'label': 'TEMP74_27835', 'value': 'TEMP74_27835'},\n",
       " {'label': '1049NSES_4_XF@NSES<32769>', 'value': '1049NSES_4_XF@NSES<32769>'},\n",
       " {'label': 'BK_22_1_XF@SEMINOLE<714>', 'value': 'BK_22_1_XF@SEMINOLE<714>'},\n",
       " {'label': '661_LN@WEAV<25918>', 'value': '661_LN@WEAV<25918>'},\n",
       " {'label': 'RDRUNNER_RDRUNNER_AGAVE_A_LN',\n",
       "  'value': 'RDRUNNER_RDRUNNER_AGAVE_A_LN'},\n",
       " {'label': 'TR1TRH_XF@RDRUNNER<8589>', 'value': 'TR1TRH_XF@RDRUNNER<8589>'},\n",
       " {'label': 'OAHESULLY23_11_LN@OAHE<22970>',\n",
       "  'value': 'OAHESULLY23_11_LN@OAHE<22970>'},\n",
       " {'label': 'TR4TR4_XF@SUB975<10512>', 'value': 'TR4TR4_XF@SUB975<10512>'},\n",
       " {'label': '41761_LN@HALL2<20518>', 'value': '41761_LN@HALL2<20518>'},\n",
       " {'label': '40601_LN@MIDJ<10294>', 'value': '40601_LN@MIDJ<10294>'},\n",
       " {'label': 'FARBKSC1013_11_LN@FARB<3593>',\n",
       "  'value': 'FARBKSC1013_11_LN@FARB<3593>'},\n",
       " {'label': 'MOORE_RBFARIAA_LN@MOORE_CO<15808>',\n",
       "  'value': 'MOORE_RBFARIAA_LN@MOORE_CO<15808>'},\n",
       " {'label': '8762A_LN@DVISN<13917>', 'value': '8762A_LN@DVISN<13917>'},\n",
       " {'label': '890SOUTH_345_138_XF@DIANA<28706>',\n",
       "  'value': '890SOUTH_345_138_XF@DIANA<28706>'},\n",
       " {'label': 'MRL_RUS81_5961_LN@MRLOWTAP<248>',\n",
       "  'value': 'MRL_RUS81_5961_LN@MRLOWTAP<248>'},\n",
       " {'label': 'STMDSJFAFACO', 'value': 'STMDSJFAFACO'},\n",
       " {'label': 'OAHESULLY23_11_LN@OAHE<11721>',\n",
       "  'value': 'OAHESULLY23_11_LN@OAHE<11721>'},\n",
       " {'label': 'BUTLMIDI13_11_LN@BUTL<27023>',\n",
       "  'value': 'BUTLMIDI13_11_LN@BUTL<27023>'},\n",
       " {'label': 'OAHE_XF_TRG1', 'value': 'OAHE_XF_TRG1'},\n",
       " {'label': 'ALTOTIOG13_11_LN@ALTO<5856>',\n",
       "  'value': 'ALTOTIOG13_11_LN@ALTO<5856>'},\n",
       " {'label': 'OAHESULLY23_11_LN@OAHE<8026>',\n",
       "  'value': 'OAHESULLY23_11_LN@OAHE<8026>'},\n",
       " {'label': 'ABDNSGROTO11_11_LN@ABDNSBT<22666>',\n",
       "  'value': 'ABDNSGROTO11_11_LN@ABDNSBT<22666>'},\n",
       " {'label': 'NP_1249-BA_LN@RIVERDAL<634>',\n",
       "  'value': 'NP_1249-BA_LN@RIVERDAL<634>'},\n",
       " {'label': 'GORD_GT3', 'value': 'GORD_GT3'},\n",
       " {'label': '1077CIRC_67_XF@CIRC<7250>', 'value': '1077CIRC_67_XF@CIRC<7250>'},\n",
       " {'label': '1077CIRC_67_XF@CIRC<28543>',\n",
       "  'value': '1077CIRC_67_XF@CIRC<28543>'},\n",
       " {'label': 'BISMARK_MOUNDA_LN@BISMARK2<26485>',\n",
       "  'value': 'BISMARK_MOUNDA_LN@BISMARK2<26485>'},\n",
       " {'label': 'TMP368_27998', 'value': 'TMP368_27998'},\n",
       " {'label': 'MORRISNAKE11_11_LN@MORRILL<16208>',\n",
       "  'value': 'MORRISNAKE11_11_LN@MORRILL<16208>'},\n",
       " {'label': 'TMP129_21713', 'value': 'TMP129_21713'},\n",
       " {'label': 'TMP157_29500', 'value': 'TMP157_29500'},\n",
       " {'label': 'TEMP11_29497', 'value': 'TEMP11_29497'},\n",
       " {'label': '7400A_LN@OZARKH5<13092>', 'value': '7400A_LN@OZARKH5<13092>'},\n",
       " {'label': 'HOLT_GRISLDA_LN@HOLT_CO<16208>',\n",
       "  'value': 'HOLT_GRISLDA_LN@HOLT_CO<16208>'},\n",
       " {'label': '9990A_LN@WR_SMKHL<7250>', 'value': '9990A_LN@WR_SMKHL<7250>'},\n",
       " {'label': 'TMP272_27635', 'value': 'TMP272_27635'},\n",
       " {'label': 'FT_CARAUN34_11_LN@FT_CAL<1991>',\n",
       "  'value': 'FT_CARAUN34_11_LN@FT_CAL<1991>'},\n",
       " {'label': '42131_LN@LAWH<3522>', 'value': '42131_LN@LAWH<3522>'},\n",
       " {'label': 'TMP418_29503', 'value': 'TMP418_29503'},\n",
       " {'label': 'FT_CAFT_CA34_2S_LN@FT_CAL<5982>',\n",
       "  'value': 'FT_CAFT_CA34_2S_LN@FT_CAL<5982>'},\n",
       " {'label': 'STONEWSW_STONESW_TUPELO_A_LN',\n",
       "  'value': 'STONEWSW_STONESW_TUPELO_A_LN'},\n",
       " {'label': 'FAIRGN_BISM1_LN@FAIRGNDS<1003>',\n",
       "  'value': 'FAIRGN_BISM1_LN@FAIRGNDS<1003>'},\n",
       " {'label': 'EXIRAANTA_16_11_LN@ANTA_TP<960>',\n",
       "  'value': 'EXIRAANTA_16_11_LN@ANTA_TP<960>'},\n",
       " {'label': 'TMP588_29501', 'value': 'TMP588_29501'},\n",
       " {'label': 'MRL_RUS81_5961_LN@MRLOWTAP<10196>',\n",
       "  'value': 'MRL_RUS81_5961_LN@MRLOWTAP<10196>'},\n",
       " {'label': 'SPFLD-LARUSLA_LN@SPRGFLD<17569>',\n",
       "  'value': 'SPFLD-LARUSLA_LN@SPRGFLD<17569>'},\n",
       " {'label': '2247A_LN@ELSWORTH<25515>', 'value': '2247A_LN@ELSWORTH<25515>'},\n",
       " {'label': 'FT_CARAUN34_11_LN@FT_CAL<5982>',\n",
       "  'value': 'FT_CARAUN34_11_LN@FT_CAL<5982>'},\n",
       " {'label': 'STONESW_TUPELOA_LN@STONEWSW<20313>',\n",
       "  'value': 'STONESW_TUPELOA_LN@STONEWSW<20313>'},\n",
       " {'label': '8718A_LN@ROMAN<17798>', 'value': '8718A_LN@ROMAN<17798>'},\n",
       " {'label': 'FREM_XF2', 'value': 'FREM_XF2'},\n",
       " {'label': '8691A_LN@FPLSWTCH<17798>', 'value': '8691A_LN@FPLSWTCH<17798>'},\n",
       " {'label': 'STONESW_TUPELOA_LN@STONEWSW<BASE>',\n",
       "  'value': 'STONESW_TUPELOA_LN@STONEWSW<BASE>'},\n",
       " {'label': '1049NSES_4_XF@NSES<11820>', 'value': '1049NSES_4_XF@NSES<11820>'},\n",
       " {'label': 'BK_11_2_XF@SEMINOLE<28141>',\n",
       "  'value': 'BK_11_2_XF@SEMINOLE<28141>'},\n",
       " {'label': 'FORD_GLS_1966_A_LN', 'value': 'FORD_GLS_1966_A_LN'},\n",
       " {'label': '40691_LN@WEMP<23167>', 'value': '40691_LN@WEMP<23167>'},\n",
       " {'label': '42131_LN@LAWH<CON3779>', 'value': '42131_LN@LAWH<CON3779>'},\n",
       " {'label': 'WASH_ANAD_2A_LN@GRACMONT<22043>',\n",
       "  'value': 'WASH_ANAD_2A_LN@GRACMONT<22043>'},\n",
       " {'label': 'WASH_ANAD_2A_LN@GRACMONT<17798>',\n",
       "  'value': 'WASH_ANAD_2A_LN@GRACMONT<17798>'},\n",
       " {'label': 'STONESW_TUPELOA_LN@STONEWSW<4081>',\n",
       "  'value': 'STONESW_TUPELOA_LN@STONEWSW<4081>'},\n",
       " {'label': 'MOCHILA_LAKERDA_LN@MOCHILA<17034>',\n",
       "  'value': 'MOCHILA_LAKERDA_LN@MOCHILA<17034>'},\n",
       " {'label': 'FULTON_T_2055A_A_LN', 'value': 'FULTON_T_2055A_A_LN'},\n",
       " {'label': 'BANNTAP4_MAYOA_LN@BANNTAP4<12518>',\n",
       "  'value': 'BANNTAP4_MAYOA_LN@BANNTAP4<12518>'},\n",
       " {'label': '2247A_LN@ELSWORTH<13104>', 'value': '2247A_LN@ELSWORTH<13104>'},\n",
       " {'label': 'BANNTAP4_MAYOA_LN@BANNTAP4<33435>',\n",
       "  'value': 'BANNTAP4_MAYOA_LN@BANNTAP4<33435>'},\n",
       " {'label': '7454A_LN@SBROWN<23912>', 'value': '7454A_LN@SBROWN<23912>'},\n",
       " {'label': 'FRANKHAMP_16_11_LN@FRANKLN<CON1419>',\n",
       "  'value': 'FRANKHAMP_16_11_LN@FRANKLN<CON1419>'},\n",
       " {'label': 'BREMEBLKHA16_11_LN@BREMERCO<6614>',\n",
       "  'value': 'BREMEBLKHA16_11_LN@BREMERCO<6614>'},\n",
       " {'label': 'FRANKLIN_JAYH1_LN@FRANKLN5<BB6941>',\n",
       "  'value': 'FRANKLIN_JAYH1_LN@FRANKLN5<BB6941>'},\n",
       " {'label': '978345_138_XF@WILKES<1597>',\n",
       "  'value': '978345_138_XF@WILKES<1597>'},\n",
       " {'label': 'TMP523_25496', 'value': 'TMP523_25496'},\n",
       " {'label': '52DELTP4_ZUNISA_LN@52DELTP4<BASE>',\n",
       "  'value': '52DELTP4_ZUNISA_LN@52DELTP4<BASE>'},\n",
       " {'label': 'FAIRGN_SWLA1_LN@FAIRGNDS<CON3779>',\n",
       "  'value': 'FAIRGN_SWLA1_LN@FAIRGNDS<CON3779>'},\n",
       " {'label': '1986A_LN@MINGO<12518>', 'value': '1986A_LN@MINGO<12518>'},\n",
       " {'label': 'BREMEFLOYD16_11_LN@BREMERCO<6614>',\n",
       "  'value': 'BREMEFLOYD16_11_LN@BREMERCO<6614>'},\n",
       " {'label': 'S975_S1398A_LN@SUB1398<860>',\n",
       "  'value': 'S975_S1398A_LN@SUB1398<860>'},\n",
       " {'label': '1175AA_LN@HARBINE<28562>', 'value': '1175AA_LN@HARBINE<28562>'},\n",
       " {'label': '11_XF@SAPULPA<33435>', 'value': '11_XF@SAPULPA<33435>'},\n",
       " {'label': '15001_LN@SUB1399<14784>', 'value': '15001_LN@SUB1399<14784>'},\n",
       " {'label': '40691_LN@WEMP<16323>', 'value': '40691_LN@WEMP<16323>'},\n",
       " {'label': 'BANNTAP4_MAYOA_LN@BANNTAP4<13729>',\n",
       "  'value': 'BANNTAP4_MAYOA_LN@BANNTAP4<13729>'},\n",
       " {'label': '8853A_LN@FRNKLN1<15826>', 'value': '8853A_LN@FRNKLN1<15826>'},\n",
       " {'label': '90-925A_LN@CALPINE<32577>', 'value': '90-925A_LN@CALPINE<32577>'},\n",
       " {'label': '1986A_LN@MINGO<13729>', 'value': '1986A_LN@MINGO<13729>'},\n",
       " {'label': '52DELTP4_52DELTP4_ZUNIS_A_LN',\n",
       "  'value': '52DELTP4_52DELTP4_ZUNIS_A_LN'},\n",
       " {'label': '491_LN@MCLEAN_S<9478>', 'value': '491_LN@MCLEAN_S<9478>'},\n",
       " {'label': '9990A_LN@WR_SMKHL<625>', 'value': '9990A_LN@WR_SMKHL<625>'},\n",
       " {'label': 'TMP406_28882', 'value': 'TMP406_28882'},\n",
       " {'label': 'ALLENQUAKE11_11_LN@ALLEN2<19675>',\n",
       "  'value': 'ALLENQUAKE11_11_LN@ALLEN2<19675>'},\n",
       " {'label': 'CIRCLDAWSO11_11_LN@CIRCLE<12147>',\n",
       "  'value': 'CIRCLDAWSO11_11_LN@CIRCLE<12147>'},\n",
       " {'label': 'ALLENQUAKE11_11_LN@ALLEN2<27459>',\n",
       "  'value': 'ALLENQUAKE11_11_LN@ALLEN2<27459>'},\n",
       " {'label': 'TR4TR4_XF@SUB975<BB124>', 'value': 'TR4TR4_XF@SUB975<BB124>'},\n",
       " {'label': '978345_138_XF@WILKES<23276>',\n",
       "  'value': '978345_138_XF@WILKES<23276>'},\n",
       " {'label': 'ALLENQUAKE11_11_LN@ALLEN2<650>',\n",
       "  'value': 'ALLENQUAKE11_11_LN@ALLEN2<650>'},\n",
       " {'label': 'TR4TR4_XF@SUB975<CON1146>', 'value': 'TR4TR4_XF@SUB975<CON1146>'},\n",
       " {'label': 'TR4TR4_XF@SUB975<6600>', 'value': 'TR4TR4_XF@SUB975<6600>'},\n",
       " {'label': '973A_LN@W_ATLANT<19014>', 'value': '973A_LN@W_ATLANT<19014>'},\n",
       " {'label': 'CENTRH_7301_A_LN', 'value': 'CENTRH_7301_A_LN'},\n",
       " {'label': 'COLDW_WHRS_115A_LN@COLDWTR<16208>',\n",
       "  'value': 'COLDW_WHRS_115A_LN@COLDWTR<16208>'},\n",
       " {'label': '2000A_LN@E_41_ST<30275>', 'value': '2000A_LN@E_41_ST<30275>'},\n",
       " {'label': 'DAWSOLEWIS11_11_LN@LEWISWP<4110>',\n",
       "  'value': 'DAWSOLEWIS11_11_LN@LEWISWP<4110>'},\n",
       " {'label': '1978A_LN@SHEFFLD<33435>', 'value': '1978A_LN@SHEFFLD<33435>'},\n",
       " {'label': 'FAIRGN_SWLA1_LN@FAIRGNDS<3522>',\n",
       "  'value': 'FAIRGN_SWLA1_LN@FAIRGNDS<3522>'},\n",
       " {'label': '2024-AA_LN@121LYNN4<33435>',\n",
       "  'value': '2024-AA_LN@121LYNN4<33435>'},\n",
       " {'label': '819SOUTH_138_69_XF@ARSENAL<15713>',\n",
       "  'value': '819SOUTH_138_69_XF@ARSENAL<15713>'},\n",
       " {'label': 'TR1TR1_XF@MOORHED<25833>', 'value': 'TR1TR1_XF@MOORHED<25833>'},\n",
       " {'label': 'NUNDRWAYSI23_11_LN@NUNDRWD<16208>',\n",
       "  'value': 'NUNDRWAYSI23_11_LN@NUNDRWD<16208>'},\n",
       " {'label': '90-924A_LN@CALPINE<24204>', 'value': '90-924A_LN@CALPINE<24204>'},\n",
       " {'label': 'RUTHVDUNNI11_11_LN@EASTRUTH<11680>',\n",
       "  'value': 'RUTHVDUNNI11_11_LN@EASTRUTH<11680>'},\n",
       " {'label': '12218A_LN@WINSLOW<BB12879>',\n",
       "  'value': '12218A_LN@WINSLOW<BB12879>'},\n",
       " {'label': '1168BA_LN@ALBION2<13856>', 'value': '1168BA_LN@ALBION2<13856>'},\n",
       " {'label': 'NP_1160BA_LN@FREMONT<9074>',\n",
       "  'value': 'NP_1160BA_LN@FREMONT<9074>'},\n",
       " {'label': 'TMP548_25525', 'value': 'TMP548_25525'},\n",
       " {'label': 'TEMP82_22539', 'value': 'TEMP82_22539'},\n",
       " {'label': 'WATFORD_WLSTN2A_LN@WATFORD<9110>',\n",
       "  'value': 'WATFORD_WLSTN2A_LN@WATFORD<9110>'},\n",
       " {'label': '15671_LN@SUB1226<BB12879>', 'value': '15671_LN@SUB1226<BB12879>'},\n",
       " {'label': 'B_SPRJULST11_11_LN@JULSBTAP<31367>',\n",
       "  'value': 'B_SPRJULST11_11_LN@JULSBTAP<31367>'},\n",
       " {'label': 'ORDNLOBROMUD', 'value': 'ORDNLOBROMUD'},\n",
       " {'label': 'HOLT_GRISLDA_LN@HOLT_CO<422>',\n",
       "  'value': 'HOLT_GRISLDA_LN@HOLT_CO<422>'},\n",
       " {'label': '1175AA_LN@HARBINE<1555>', 'value': '1175AA_LN@HARBINE<1555>'},\n",
       " {'label': 'Fulton_C_XF', 'value': 'Fulton_C_XF'},\n",
       " {'label': '1987A_LN@TSE_NEW<33435>', 'value': '1987A_LN@TSE_NEW<33435>'},\n",
       " {'label': 'TMP907_29565', 'value': 'TMP907_29565'},\n",
       " {'label': 'FAIRVWILIS11_11_LN@FAIRVIWP<9110>',\n",
       "  'value': 'FAIRVWILIS11_11_LN@FAIRVIWP<9110>'},\n",
       " {'label': 'TMP820_29556', 'value': 'TMP820_29556'},\n",
       " {'label': 'GAVINBLMFL11_11_LN@GAVINS<24983>',\n",
       "  'value': 'GAVINBLMFL11_11_LN@GAVINS<24983>'},\n",
       " {'label': 'TMP188_29525', 'value': 'TMP188_29525'},\n",
       " {'label': 'TMP800_29528', 'value': 'TMP800_29528'},\n",
       " {'label': 'TEMP32_27807', 'value': 'TEMP32_27807'},\n",
       " {'label': 'FAIRGN_BISM1_LN@FAIRGNDS<18297>',\n",
       "  'value': 'FAIRGN_BISM1_LN@FAIRGNDS<18297>'},\n",
       " {'label': 'COMS_AMR_COMS_SKST_TEMP_A_LN',\n",
       "  'value': 'COMS_AMR_COMS_SKST_TEMP_A_LN'},\n",
       " {'label': '9215A_LN@ANADARKO<BASE>', 'value': '9215A_LN@ANADARKO<BASE>'},\n",
       " {'label': '8718A_LN@ROMAN<BASE>', 'value': '8718A_LN@ROMAN<BASE>'},\n",
       " {'label': 'ALIANCE_ALIANSNAKE11_1_1_LN',\n",
       "  'value': 'ALIANCE_ALIANSNAKE11_1_1_LN'},\n",
       " {'label': 'DAKOTA_CNTRVIL12_LN@DAKOTA<8191>',\n",
       "  'value': 'DAKOTA_CNTRVIL12_LN@DAKOTA<8191>'},\n",
       " {'label': 'WASHIT1_WASHIT_SWST_A_LN', 'value': 'WASHIT1_WASHIT_SWST_A_LN'},\n",
       " {'label': 'WASHIT_SWSTA_LN@WASHIT1<9305>',\n",
       "  'value': 'WASHIT_SWSTA_LN@WASHIT1<9305>'},\n",
       " {'label': 'ANADARKOA_LN@ANADARKO<19262>',\n",
       "  'value': 'ANADARKOA_LN@ANADARKO<19262>'},\n",
       " {'label': 'MIDTOW_RLND_P11_LN@MIDTOWN<18722>',\n",
       "  'value': 'MIDTOW_RLND_P11_LN@MIDTOWN<18722>'},\n",
       " {'label': 'CENTWACO13_11_LN@CENT<14428>',\n",
       "  'value': 'CENTWACO13_11_LN@CENT<14428>'},\n",
       " {'label': 'KETOWAH_MUSKOGA_LN@KETOWAH5<12752>',\n",
       "  'value': 'KETOWAH_MUSKOGA_LN@KETOWAH5<12752>'},\n",
       " {'label': 'BROOK-NICHOLA_LN@JUNCTN5<28003>',\n",
       "  'value': 'BROOK-NICHOLA_LN@JUNCTN5<28003>'},\n",
       " {'label': 'TMP640_29533', 'value': 'TMP640_29533'},\n",
       " {'label': '943A138_69_2_XF@NNEWBOS<22837>',\n",
       "  'value': '943A138_69_2_XF@NNEWBOS<22837>'},\n",
       " {'label': 'DAWSOLEWIS11_11_LN@LEWISWP<25955>',\n",
       "  'value': 'DAWSOLEWIS11_11_LN@LEWISWP<25955>'},\n",
       " {'label': 'BERSFSIOUX11_11_LN@BERSFRD<7213>',\n",
       "  'value': 'BERSFSIOUX11_11_LN@BERSFRD<7213>'},\n",
       " {'label': 'DEERCRK_DEERCWHITE34_1_1_LN',\n",
       "  'value': 'DEERCRK_DEERCWHITE34_1_1_LN'},\n",
       " {'label': '42511_LN@STJO<19149>', 'value': '42511_LN@STJO<19149>'},\n",
       " {'label': 'MULGRE2_SHAYSA_LN@MULGRE2<31046>',\n",
       "  'value': 'MULGRE2_SHAYSA_LN@MULGRE2<31046>'},\n",
       " {'label': 'TMP436_28110', 'value': 'TMP436_28110'},\n",
       " {'label': 'CENTWACO13_11_LN@CENT<23837>',\n",
       "  'value': 'CENTWACO13_11_LN@CENT<23837>'},\n",
       " {'label': 'EDGELEY_KY2A', 'value': 'EDGELEY_KY2A'},\n",
       " {'label': '1077CIRC_67_XF@CIRC<1304>', 'value': '1077CIRC_67_XF@CIRC<1304>'},\n",
       " {'label': 'TMP179_28101', 'value': 'TMP179_28101'},\n",
       " {'label': 'MCTURB_XF', 'value': 'MCTURB_XF'},\n",
       " {'label': '8691A_LN@FPLSWTCH<6832>', 'value': '8691A_LN@FPLSWTCH<6832>'},\n",
       " {'label': 'MO_CIT_T_BRMG1A_LN@LBRTYST5<33087>',\n",
       "  'value': 'MO_CIT_T_BRMG1A_LN@LBRTYST5<33087>'},\n",
       " {'label': '11012A_LN@GRDVWE<12676>', 'value': '11012A_LN@GRDVWE<12676>'},\n",
       " {'label': '1966A_LN@FORD_GLS<33435>', 'value': '1966A_LN@FORD_GLS<33435>'},\n",
       " {'label': 'PARAD_CHRRYA_LN@CHERRYRD<12593>',\n",
       "  'value': 'PARAD_CHRRYA_LN@CHERRYRD<12593>'},\n",
       " {'label': 'NNEWBOS_943A_138_69_2_XF', 'value': 'NNEWBOS_943A_138_69_2_XF'},\n",
       " {'label': '10897A_LN@CRKCREEK<15712>', 'value': '10897A_LN@CRKCREEK<15712>'},\n",
       " {'label': '9995A_LN@KNOLL1<12487>', 'value': '9995A_LN@KNOLL1<12487>'},\n",
       " {'label': '846A_LN@LIEBERM<CON1473>', 'value': '846A_LN@LIEBERM<CON1473>'},\n",
       " {'label': 'JADE_JADE_MOUN_115_1_LN', 'value': 'JADE_JADE_MOUN_115_1_LN'},\n",
       " {'label': 'TMP492_28918', 'value': 'TMP492_28918'},\n",
       " {'label': 'NORAM_827B_A_LN', 'value': 'NORAM_827B_A_LN'},\n",
       " {'label': '15001_LN@SUB1399<14150>', 'value': '15001_LN@SUB1399<14150>'},\n",
       " {'label': 'MCLEAN_S_49_1_LN', 'value': 'MCLEAN_S_49_1_LN'},\n",
       " {'label': 'KNOLL1_XF1', 'value': 'KNOLL1_XF1'},\n",
       " {'label': 'NNBOS_WILKE_1AA_LN@RIFFIN<19014>',\n",
       "  'value': 'NNBOS_WILKE_1AA_LN@RIFFIN<19014>'},\n",
       " {'label': 'TR1TR1_XF@SUB1209<27660>', 'value': 'TR1TR1_XF@SUB1209<27660>'},\n",
       " {'label': 'RDRUNNR_BATLAXA_LN@RDRUNNER<BASE>',\n",
       "  'value': 'RDRUNNR_BATLAXA_LN@RDRUNNER<BASE>'},\n",
       " {'label': 'GORD_MAIZA_LN@MAIZ<2708>', 'value': 'GORD_MAIZA_LN@MAIZ<2708>'},\n",
       " {'label': 'GORD_MAIZA_LN@MAIZ<11321>', 'value': 'GORD_MAIZA_LN@MAIZ<11321>'},\n",
       " {'label': 'JADE_MOUN_1151_LN@JADE<BASE>',\n",
       "  'value': 'JADE_MOUN_1151_LN@JADE<BASE>'},\n",
       " {'label': 'WICXF2WICXF1', 'value': 'WICXF2WICXF1'},\n",
       " {'label': 'TALLGRAS_BUTLRA_LN@TALLGRAS<25918>',\n",
       "  'value': 'TALLGRAS_BUTLRA_LN@TALLGRAS<25918>'},\n",
       " {'label': 'TURK', 'value': 'TURK'},\n",
       " {'label': '827BA_LN@NORAM<BASE>', 'value': '827BA_LN@NORAM<BASE>'},\n",
       " {'label': '848A_LN@IPCJEFF4<9852>', 'value': '848A_LN@IPCJEFF4<9852>'},\n",
       " {'label': 'LOSTDRAW_COCHRA_LN@LOSTDRAW<1408>',\n",
       "  'value': 'LOSTDRAW_COCHRA_LN@LOSTDRAW<1408>'},\n",
       " {'label': 'RDRUNNER_AGAVEA_LN@RDRUNNER<BASE>',\n",
       "  'value': 'RDRUNNER_AGAVEA_LN@RDRUNNER<BASE>'},\n",
       " {'label': 'MOCHILA_LAKERDA_LN@MOCHILA<16251>',\n",
       "  'value': 'MOCHILA_LAKERDA_LN@MOCHILA<16251>'},\n",
       " {'label': 'STONESW_TUPELOA_LN@STONEWSW<333>',\n",
       "  'value': 'STONESW_TUPELOA_LN@STONEWSW<333>'},\n",
       " {'label': 'HOBCARHOBALT', 'value': 'HOBCARHOBALT'},\n",
       " {'label': 'KNOLL1_XF2', 'value': 'KNOLL1_XF2'},\n",
       " {'label': 'MALAGA_SLOVINA_LN@MALAGA_B<BB12210>',\n",
       "  'value': 'MALAGA_SLOVINA_LN@MALAGA_B<BB12210>'},\n",
       " {'label': 'XF1T1_L_XF@MINGO1<24451>', 'value': 'XF1T1_L_XF@MINGO1<24451>'},\n",
       " {'label': '12193A_LN@REDWLO1<19660>', 'value': '12193A_LN@REDWLO1<19660>'},\n",
       " {'label': 'GORD_MAIZA_LN@MAIZ<27023>', 'value': 'GORD_MAIZA_LN@MAIZ<27023>'},\n",
       " {'label': 'COLBY_GEMA_LN@COLBY3<29757>',\n",
       "  'value': 'COLBY_GEMA_LN@COLBY3<29757>'},\n",
       " {'label': 'WARDLEA_R11_11_LN@LEA_ROAD<20376>',\n",
       "  'value': 'WARDLEA_R11_11_LN@LEA_ROAD<20376>'},\n",
       " {'label': 'MARNEOJAYFRA', 'value': 'MARNEOJAYFRA'},\n",
       " {'label': 'PAHOJEAGLE23_11_LN@EAGLE<22799>',\n",
       "  'value': 'PAHOJEAGLE23_11_LN@EAGLE<22799>'},\n",
       " {'label': '9039A_LN@LCITY<6638>', 'value': '9039A_LN@LCITY<6638>'},\n",
       " {'label': '7451A_LN@SBROWN<6638>', 'value': '7451A_LN@SBROWN<6638>'},\n",
       " {'label': 'ANTA_ANITA16_11_LN@ANITA<3354>',\n",
       "  'value': 'ANTA_ANITA16_11_LN@ANITA<3354>'},\n",
       " {'label': 'SIOUXTWIN_23_11_LN@SIOUXCY<11299>',\n",
       "  'value': 'SIOUXTWIN_23_11_LN@SIOUXCY<11299>'},\n",
       " {'label': 'S975_S1398A_LN@SUB1398<10512>',\n",
       "  'value': 'S975_S1398A_LN@SUB1398<10512>'},\n",
       " {'label': 'ALLENQUAKE11_11_LN@ALLEN2<3921>',\n",
       "  'value': 'ALLENQUAKE11_11_LN@ALLEN2<3921>'},\n",
       " {'label': '11306A_LN@AVECTYTP<14150>', 'value': '11306A_LN@AVECTYTP<14150>'},\n",
       " {'label': 'DKSNNBELFE23_11_LN@DKSNNDWP<4110>',\n",
       "  'value': 'DKSNNBELFE23_11_LN@DKSNNDWP<4110>'},\n",
       " {'label': 'HURONHURON11_11_LN@HURONTAP<34570>',\n",
       "  'value': 'HURONHURON11_11_LN@HURONTAP<34570>'},\n",
       " {'label': 'MEADWGRV_KELLYA_LN@MEADW_GR<7389>',\n",
       "  'value': 'MEADWGRV_KELLYA_LN@MEADW_GR<7389>'},\n",
       " {'label': 'HURONHURON11_11_LN@HURONTAP<22666>',\n",
       "  'value': 'HURONHURON11_11_LN@HURONTAP<22666>'},\n",
       " {'label': 'PTRBRG_N_1368_A_LN', 'value': 'PTRBRG_N_1368_A_LN'},\n",
       " {'label': 'BLAIRWATER23_11_LN@BLAIR<5356>',\n",
       "  'value': 'BLAIRWATER23_11_LN@BLAIR<5356>'},\n",
       " {'label': 'KNOB_MARSHAL3A_LN@KNOB<5760>',\n",
       "  'value': 'KNOB_MARSHAL3A_LN@KNOB<5760>'},\n",
       " {'label': 'ORDWAY_BRWNCTYA_LN@ORDWAY<14051>',\n",
       "  'value': 'ORDWAY_BRWNCTYA_LN@ORDWAY<14051>'},\n",
       " {'label': 'TUPELO2_TUPELO_CENTRTP_1_LN',\n",
       "  'value': 'TUPELO2_TUPELO_CENTRTP_1_LN'},\n",
       " {'label': '12218A_LN@WINSLOW<19949>', 'value': '12218A_LN@WINSLOW<19949>'},\n",
       " {'label': 'WILLMGRANI23_11_LN@WILLMRU<7745>',\n",
       "  'value': 'WILLMGRANI23_11_LN@WILLMRU<7745>'},\n",
       " {'label': '8798A_LN@CKHAL<BB4110>', 'value': '8798A_LN@CKHAL<BB4110>'},\n",
       " {'label': '8797A_LN@XEROX<BB4110>', 'value': '8797A_LN@XEROX<BB4110>'},\n",
       " {'label': 'EXIRAANTA_16_11_LN@ANTA_TP<3354>',\n",
       "  'value': 'EXIRAANTA_16_11_LN@ANTA_TP<3354>'},\n",
       " {'label': '1845_LN@HIGGEAST<5142>', 'value': '1845_LN@HIGGEAST<5142>'},\n",
       " {'label': 'POP_BLF_GRN_FR-POP_B_A_LN', 'value': 'POP_BLF_GRN_FR-POP_B_A_LN'},\n",
       " {'label': '7451A_LN@SBROWN<9612>', 'value': '7451A_LN@SBROWN<9612>'},\n",
       " {'label': 'DOLLARHI_XF', 'value': 'DOLLARHI_XF'},\n",
       " {'label': 'GRN_FR-POP_BA_LN@POP_BLF<1837>',\n",
       "  'value': 'GRN_FR-POP_BA_LN@POP_BLF<1837>'},\n",
       " {'label': '7287A_LN@SKST<31572>', 'value': '7287A_LN@SKST<31572>'},\n",
       " {'label': '7301A_LN@CENTRH<35090>', 'value': '7301A_LN@CENTRH<35090>'},\n",
       " {'label': 'NEWMAD-GIBSONA_LN@NEW_MAD<1019>',\n",
       "  'value': 'NEWMAD-GIBSONA_LN@NEW_MAD<1019>'},\n",
       " {'label': 'GRN_FR-POP_BA_LN@POP_BLF<8123>',\n",
       "  'value': 'GRN_FR-POP_BA_LN@POP_BLF<8123>'},\n",
       " {'label': '7296A_LN@KENNET1<21457>', 'value': '7296A_LN@KENNET1<21457>'},\n",
       " {'label': 'OAHE_OAHESULLY23_1_1_LN', 'value': 'OAHE_OAHESULLY23_1_1_LN'},\n",
       " {'label': 'NEWELL_SULPHSPA_LN@NEWELL2<11624>',\n",
       "  'value': 'NEWELL_SULPHSPA_LN@NEWELL2<11624>'},\n",
       " {'label': '7287A_LN@SKST<8123>', 'value': '7287A_LN@SKST<8123>'},\n",
       " {'label': 'CHAR_WATFO23_11_LN@CHAR_CK<11413>',\n",
       "  'value': 'CHAR_WATFO23_11_LN@CHAR_CK<11413>'},\n",
       " {'label': 'LARSPRLARMON', 'value': 'LARSPRLARMON'},\n",
       " {'label': 'EURK_SPA_BEAVER_EUREKA1_A_LN',\n",
       "  'value': 'EURK_SPA_BEAVER_EUREKA1_A_LN'},\n",
       " {'label': 'SCI1_8796_A_LN', 'value': 'SCI1_8796_A_LN'},\n",
       " {'label': 'TAHLQH5_TAHLQH5_HWY59T_A_LN',\n",
       "  'value': 'TAHLQH5_TAHLQH5_HWY59T_A_LN'},\n",
       " {'label': 'TECH_MIDJA_LN@TECH<20994>', 'value': 'TECH_MIDJA_LN@TECH<20994>'},\n",
       " {'label': 'COMS_SKST_7513A_LN@COMS_AMR<4844>',\n",
       "  'value': 'COMS_SKST_7513A_LN@COMS_AMR<4844>'},\n",
       " {'label': 'BEAEURFLIBRO', 'value': 'BEAEURFLIBRO'},\n",
       " {'label': '10978A_LN@SIBLEY<18722>', 'value': '10978A_LN@SIBLEY<18722>'},\n",
       " {'label': 'CUNNSUB_XF1', 'value': 'CUNNSUB_XF1'},\n",
       " {'label': 'WGRDNR_CEDAR_1A_LN@CEDAR_CR<18722>',\n",
       "  'value': 'WGRDNR_CEDAR_1A_LN@CEDAR_CR<18722>'},\n",
       " {'label': 'EGF_IGRNDF11_11_LN@EGF_IND<EXT2307>',\n",
       "  'value': 'EGF_IGRNDF11_11_LN@EGF_IND<EXT2307>'},\n",
       " {'label': '41941_LN@TECH<20994>', 'value': '41941_LN@TECH<20994>'},\n",
       " {'label': '41941_LN@TECH<14110>', 'value': '41941_LN@TECH<14110>'},\n",
       " {'label': 'LWCKTYKNTJ11_1A_LN@LEWSCLRK<34375>',\n",
       "  'value': 'LWCKTYKNTJ11_1A_LN@LEWSCLRK<34375>'},\n",
       " {'label': 'KNOB_MARSHAL3A_LN@KNOB<14150>',\n",
       "  'value': 'KNOB_MARSHAL3A_LN@KNOB<14150>'},\n",
       " {'label': 'COLITECHA_LN@COLI<16625>', 'value': 'COLITECHA_LN@COLI<16625>'},\n",
       " {'label': 'FTPECWOLFP11_21_LN@WOLFPT<12147>',\n",
       "  'value': 'FTPECWOLFP11_21_LN@WOLFPT<12147>'},\n",
       " {'label': 'TEMP66_27742', 'value': 'TEMP66_27742'},\n",
       " {'label': 'FLANDRU', 'value': 'FLANDRU'},\n",
       " {'label': '42181_LN@19STJ<CON3779>', 'value': '42181_LN@19STJ<CON3779>'},\n",
       " {'label': 'TMP721_29543', 'value': 'TMP721_29543'},\n",
       " {'label': 'TWA1XF1', 'value': 'TWA1XF1'},\n",
       " {'label': 'FAIRGN_BISM1_LN@FAIRGNDS<BB8001>',\n",
       "  'value': 'FAIRGN_BISM1_LN@FAIRGNDS<BB8001>'},\n",
       " {'label': 'SETAB1_CPLAINA_LN@SETAB1<7851>',\n",
       "  'value': 'SETAB1_CPLAINA_LN@SETAB1<7851>'},\n",
       " {'label': '10131A_LN@TRIBSW<25508>', 'value': '10131A_LN@TRIBSW<25508>'},\n",
       " {'label': '42161_LN@MOCK<CON3779>', 'value': '42161_LN@MOCK<CON3779>'},\n",
       " {'label': 'EMUVLYTP_BAILEA_LN@EMUVLYTP<3778>',\n",
       "  'value': 'EMUVLYTP_BAILEA_LN@EMUVLYTP<3778>'},\n",
       " {'label': 'LWCKTYKNTJ11_1A_LN@LEWSCLRK<CON4260>',\n",
       "  'value': 'LWCKTYKNTJ11_1A_LN@LEWSCLRK<CON4260>'},\n",
       " {'label': 'PAHOJEAGLE23_11_LN@EAGLE<TEMP11>',\n",
       "  'value': 'PAHOJEAGLE23_11_LN@EAGLE<TEMP11>'},\n",
       " {'label': '8992A_LN@PAOLI1<12761>', 'value': '8992A_LN@PAOLI1<12761>'},\n",
       " {'label': '831138_69_XF@FLOURNOY<20675>',\n",
       "  'value': '831138_69_XF@FLOURNOY<20675>'},\n",
       " {'label': '850A_LN@LINWOOD2<268>', 'value': '850A_LN@LINWOOD2<268>'},\n",
       " {'label': '10900A_LN@MULGRE2<28543>', 'value': '10900A_LN@MULGRE2<28543>'},\n",
       " {'label': 'EHALLTP3_ELLSA_LN@EHALLTP3<17708>',\n",
       "  'value': 'EHALLTP3_ELLSA_LN@EHALLTP3<17708>'},\n",
       " {'label': 'STONESW_TUPELOA_LN@STONEWSW<9612>',\n",
       "  'value': 'STONESW_TUPELOA_LN@STONEWSW<9612>'},\n",
       " {'label': 'TMP291_29383', 'value': 'TMP291_29383'},\n",
       " {'label': 'LAVERNE', 'value': 'LAVERNE'},\n",
       " {'label': '8691A_LN@FPLSWTCH<35374>', 'value': '8691A_LN@FPLSWTCH<35374>'},\n",
       " {'label': '1175AA_LN@HARBINE<14784>', 'value': '1175AA_LN@HARBINE<14784>'},\n",
       " {'label': '7414A_LN@FTGIB1<12518>', 'value': '7414A_LN@FTGIB1<12518>'},\n",
       " {'label': 'IVANHOEW_IVANHWHITE11_1_1_LN',\n",
       "  'value': 'IVANHOEW_IVANHWHITE11_1_1_LN'},\n",
       " {'label': 'DAWSONC_FTPECDAWSO23_1_1_LN',\n",
       "  'value': 'DAWSONC_FTPECDAWSO23_1_1_LN'},\n",
       " {'label': 'FTRANUTICA23_11_LN@FTRANDL<422>',\n",
       "  'value': 'FTRANUTICA23_11_LN@FTRANDL<422>'},\n",
       " {'label': 'BOTTNOSE_BOTTNBOTTN11_1_1_LN',\n",
       "  'value': 'BOTTNOSE_BOTTNBOTTN11_1_1_LN'},\n",
       " {'label': 'PAHOJEAGLE23_11_LN@EAGLE<15677>',\n",
       "  'value': 'PAHOJEAGLE23_11_LN@EAGLE<15677>'},\n",
       " {'label': 'HARTGGAVIN11_11_LN@GAVINS<34375>',\n",
       "  'value': 'HARTGGAVIN11_11_LN@GAVINS<34375>'},\n",
       " {'label': 'FTPECKTR4_XF', 'value': 'FTPECKTR4_XF'},\n",
       " {'label': 'FTRANDL_TRD_XF', 'value': 'FTRANDL_TRD_XF'},\n",
       " {'label': 'FTRANDL_TRC_XF', 'value': 'FTRANDL_TRC_XF'},\n",
       " {'label': 'FTRANDL_TRB_XF', 'value': 'FTRANDL_TRB_XF'},\n",
       " {'label': 'TMP370_23935', 'value': 'TMP370_23935'},\n",
       " {'label': 'SPFLD-LARUSLA_LN@SPRGFLD<27349>',\n",
       "  'value': 'SPFLD-LARUSLA_LN@SPRGFLD<27349>'},\n",
       " {'label': 'ESTR_WEMP11_11_LN@WEMP<12514>',\n",
       "  'value': 'ESTR_WEMP11_11_LN@WEMP<12514>'},\n",
       " {'label': 'UTICARASMU23_11_LN@UTICAJC<13421>',\n",
       "  'value': 'UTICARASMU23_11_LN@UTICAJC<13421>'},\n",
       " {'label': 'WHEELER_COBRNCA_LN@WHEELER<BASE>',\n",
       "  'value': 'WHEELER_COBRNCA_LN@WHEELER<BASE>'},\n",
       " {'label': '11012A_LN@GRDVWE<10042>', 'value': '11012A_LN@GRDVWE<10042>'},\n",
       " {'label': 'RDSPG-AURORAA_LN@REEDS_ED<CON2195>',\n",
       "  'value': 'RDSPG-AURORAA_LN@REEDS_ED<CON2195>'},\n",
       " {'label': 'DAWSOGLEND11_11_LN@GLENDCT<22970>',\n",
       "  'value': 'DAWSOGLEND11_11_LN@GLENDCT<22970>'},\n",
       " {'label': '8765BA_LN@DVISN<14086>', 'value': '8765BA_LN@DVISN<14086>'},\n",
       " {'label': 'FTSUPL1_SLEEPING_BEAR_A_LN',\n",
       "  'value': 'FTSUPL1_SLEEPING_BEAR_A_LN'},\n",
       " {'label': 'MRL_RUS81_5961_LN@MRLOWTAP<23258>',\n",
       "  'value': 'MRL_RUS81_5961_LN@MRLOWTAP<23258>'},\n",
       " {'label': 'LOSTDRAW_LEHMAA_LN@LOSTDRAW<20953>',\n",
       "  'value': 'LOSTDRAW_LEHMAA_LN@LOSTDRAW<20953>'},\n",
       " {'label': 'TMP645_29616', 'value': 'TMP645_29616'},\n",
       " {'label': 'FTPECKTRG5_XF', 'value': 'FTPECKTRG5_XF'},\n",
       " {'label': '8815A_LN@CLASN<CON451>', 'value': '8815A_LN@CLASN<CON451>'},\n",
       " {'label': 'REEDSP-OZDAMA_LN@REEDS_ED<35013>',\n",
       "  'value': 'REEDSP-OZDAMA_LN@REEDS_ED<35013>'},\n",
       " {'label': 'RDSPG-AURORAA_LN@REEDS_ED<35013>',\n",
       "  'value': 'RDSPG-AURORAA_LN@REEDS_ED<35013>'},\n",
       " {'label': 'WATFORD_V2A1_KV2A1_XF', 'value': 'WATFORD_V2A1_KV2A1_XF'},\n",
       " {'label': 'SEWARD_TIEA_LN@SEWARD1<16130>',\n",
       "  'value': 'SEWARD_TIEA_LN@SEWARD1<16130>'},\n",
       " {'label': 'WATFORD_V2A1_KV2A2_XF', 'value': 'WATFORD_V2A1_KV2A2_XF'},\n",
       " {'label': 'TMP449_27861', 'value': 'TMP449_27861'},\n",
       " {'label': 'V2A1KV2A1_XF@WATFORD<BASE>',\n",
       "  'value': 'V2A1KV2A1_XF@WATFORD<BASE>'},\n",
       " {'label': 'NWHENDE_947_EAST_138_69_XF',\n",
       "  'value': 'NWHENDE_947_EAST_138_69_XF'},\n",
       " {'label': 'RUTHVDUNNI11_11_LN@EASTRUTH<22264>',\n",
       "  'value': 'RUTHVDUNNI11_11_LN@EASTRUTH<22264>'},\n",
       " {'label': 'TMP561_25610', 'value': 'TMP561_25610'},\n",
       " {'label': 'TMP678_29649', 'value': 'TMP678_29649'},\n",
       " {'label': '1171CA_LN@ROSEMONT<32939>', 'value': '1171CA_LN@ROSEMONT<32939>'},\n",
       " {'label': 'TMP861_29544', 'value': 'TMP861_29544'},\n",
       " {'label': '846A_LN@LIEBERM<18875>', 'value': '846A_LN@LIEBERM<18875>'},\n",
       " {'label': '9186TRAN1_XF@VBI5<8847>', 'value': '9186TRAN1_XF@VBI5<8847>'},\n",
       " {'label': 'TMP614_28744', 'value': 'TMP614_28744'},\n",
       " {'label': 'LECLAWSTR87', 'value': 'LECLAWSTR87'},\n",
       " {'label': 'ODESSA_WBURGE1A_LN@WBURGE1<12128>',\n",
       "  'value': 'ODESSA_WBURGE1A_LN@WBURGE1<12128>'},\n",
       " {'label': '1171BA_LN@ROSEMONT<15088>', 'value': '1171BA_LN@ROSEMONT<15088>'},\n",
       " {'label': 'ALLENQUAKE11_11_LN@ALLEN2<4877>',\n",
       "  'value': 'ALLENQUAKE11_11_LN@ALLEN2<4877>'},\n",
       " {'label': 'WHITE_BROOKNGSA_LN@WHITE<3758>',\n",
       "  'value': 'WHITE_BROOKNGSA_LN@WHITE<3758>'},\n",
       " {'label': 'TMP665_29664', 'value': 'TMP665_29664'},\n",
       " {'label': '8734A_LN@RNDBARN4<1996>', 'value': '8734A_LN@RNDBARN4<1996>'},\n",
       " {'label': '9186TRAN1_XF@VBI5<2626>', 'value': '9186TRAN1_XF@VBI5<2626>'},\n",
       " {'label': 'WHITE_BROOKNGSA_LN@WHITE<20335>',\n",
       "  'value': 'WHITE_BROOKNGSA_LN@WHITE<20335>'},\n",
       " {'label': 'OAHESULLY23_11_LN@OAHE<7389>',\n",
       "  'value': 'OAHESULLY23_11_LN@OAHE<7389>'},\n",
       " {'label': '947EAST_138_69_XF@NWHENDE<20890>',\n",
       "  'value': '947EAST_138_69_XF@NWHENDE<20890>'},\n",
       " {'label': '8759A_LN@QUAIL<2871>', 'value': '8759A_LN@QUAIL<2871>'},\n",
       " {'label': '8796A_LN@SCI1<BASE>', 'value': '8796A_LN@SCI1<BASE>'},\n",
       " {'label': 'CRKCREEK_10897_A_LN', 'value': 'CRKCREEK_10897_A_LN'},\n",
       " {'label': '10897A_LN@CRKCREEK<BASE>', 'value': '10897A_LN@CRKCREEK<BASE>'},\n",
       " {'label': 'CLARTOK_AMCTPA_LN@CLARTOK4<22505>',\n",
       "  'value': 'CLARTOK_AMCTPA_LN@CLARTOK4<22505>'},\n",
       " {'label': '9101A_LN@FIVE1<17806>', 'value': '9101A_LN@FIVE1<17806>'},\n",
       " {'label': 'ANADARKO_XF5', 'value': 'ANADARKO_XF5'},\n",
       " {'label': 'ARCAD_LUGRBA_LN@ARCAD7<1996>',\n",
       "  'value': 'ARCAD_LUGRBA_LN@ARCAD7<1996>'},\n",
       " {'label': 'ARCAD_LUGRBA_LN@ARCAD7<16900>',\n",
       "  'value': 'ARCAD_LUGRBA_LN@ARCAD7<16900>'},\n",
       " {'label': 'TMP374_25996', 'value': 'TMP374_25996'},\n",
       " {'label': 'WASHIT_SLCKA_LN@SLCKHILS<BASE>',\n",
       "  'value': 'WASHIT_SLCKA_LN@SLCKHILS<BASE>'},\n",
       " {'label': '41691_LN@JARB<19415>', 'value': '41691_LN@JARB<19415>'},\n",
       " {'label': '1751_LN@WOODROW_<9112>', 'value': '1751_LN@WOODROW_<9112>'},\n",
       " {'label': '2247A_LN@ELSWORTH<14038>', 'value': '2247A_LN@ELSWORTH<14038>'},\n",
       " {'label': '8830A_LN@MDWST<15383>', 'value': '8830A_LN@MDWST<15383>'},\n",
       " {'label': '8870A_LN@RENO1<15966>', 'value': '8870A_LN@RENO1<15966>'},\n",
       " {'label': 'ANADARKO_SEQA_LN@ANADARKO<4419>',\n",
       "  'value': 'ANADARKO_SEQA_LN@ANADARKO<4419>'},\n",
       " {'label': 'TMP422_29458', 'value': 'TMP422_29458'},\n",
       " {'label': 'DUN_MRL81_5961_LN@MRLOWTAP<23258>',\n",
       "  'value': 'DUN_MRL81_5961_LN@MRLOWTAP<23258>'},\n",
       " {'label': 'TL_HOLLY_CHIREA_LN@TL_HOLLY<24482>',\n",
       "  'value': 'TL_HOLLY_CHIREA_LN@TL_HOLLY<24482>'},\n",
       " {'label': 'BENNET_SHELDON1_LN@SWBENNET<19054>',\n",
       "  'value': 'BENNET_SHELDON1_LN@SWBENNET<19054>'},\n",
       " {'label': '7366A_LN@CARTHAGE<CON51>', 'value': '7366A_LN@CARTHAGE<CON51>'},\n",
       " {'label': 'TMP176_29662', 'value': 'TMP176_29662'},\n",
       " {'label': 'STOXFRSIOHAN', 'value': 'STOXFRSIOHAN'},\n",
       " {'label': 'ANTA_ANITA16_11_LN@ANITA<1342>',\n",
       "  'value': 'ANTA_ANITA16_11_LN@ANITA<1342>'},\n",
       " {'label': 'LNW08B_LN@DWSFRSCO<6948>', 'value': 'LNW08B_LN@DWSFRSCO<6948>'},\n",
       " {'label': 'PENMUN87TCRA', 'value': 'PENMUN87TCRA'},\n",
       " {'label': 'LNW08B_LN@DWSFRSCO<27392>', 'value': 'LNW08B_LN@DWSFRSCO<27392>'},\n",
       " {'label': '9102A_LN@FIVE1<17806>', 'value': '9102A_LN@FIVE1<17806>'},\n",
       " {'label': '9101A_LN@FIVE1<17755>', 'value': '9101A_LN@FIVE1<17755>'},\n",
       " {'label': 'CENTRATP_CENTRTP_THOMAS_1_LN',\n",
       "  'value': 'CENTRATP_CENTRTP_THOMAS_1_LN'},\n",
       " {'label': 'TMP401_27007', 'value': 'TMP401_27007'},\n",
       " {'label': 'CORNAPTERSUN', 'value': 'CORNAPTERSUN'},\n",
       " {'label': 'SIOUXFLAND11_11_LN@SIOUXFL<20335>',\n",
       "  'value': 'SIOUXFLAND11_11_LN@SIOUXFL<20335>'},\n",
       " {'label': 'U1A1KU1A1_XF@WATERTN<20335>',\n",
       "  'value': 'U1A1KU1A1_XF@WATERTN<20335>'},\n",
       " {'label': 'HARTMO_RBFARIAA_LN@HARTMORE<15808>',\n",
       "  'value': 'HARTMO_RBFARIAA_LN@HARTMORE<15808>'},\n",
       " {'label': 'CENTRTP_THOMAS1_LN@CENTRATP<BASE>',\n",
       "  'value': 'CENTRTP_THOMAS1_LN@CENTRATP<BASE>'},\n",
       " {'label': 'TMP621_27921', 'value': 'TMP621_27921'},\n",
       " {'label': 'V2A1KV2A1_XF@WATFORD<13433>',\n",
       "  'value': 'V2A1KV2A1_XF@WATFORD<13433>'},\n",
       " {'label': 'BELFELD_DAGLUMA_LN@DAGLUM<9358>',\n",
       "  'value': 'BELFELD_DAGLUMA_LN@DAGLUM<9358>'},\n",
       " {'label': 'RHAME_DAGLUMA_LN@DAGLUM<22970>',\n",
       "  'value': 'RHAME_DAGLUMA_LN@DAGLUM<22970>'},\n",
       " {'label': 'U1A1KU1A2_XF@WATERTN<20335>',\n",
       "  'value': 'U1A1KU1A2_XF@WATERTN<20335>'},\n",
       " {'label': 'ENEMAHA_KELLA_LN@E_NEMAHA<19486>',\n",
       "  'value': 'ENEMAHA_KELLA_LN@E_NEMAHA<19486>'},\n",
       " {'label': '11046A_LN@RICHMN2<23046>', 'value': '11046A_LN@RICHMN2<23046>'},\n",
       " {'label': '1103T1_161/69_XF@ODESSA1<6107>',\n",
       "  'value': '1103T1_161/69_XF@ODESSA1<6107>'},\n",
       " {'label': 'LNW08B_LN@DWSFRSCO<13134>', 'value': 'LNW08B_LN@DWSFRSCO<13134>'},\n",
       " {'label': 'MAUCARSIBOVE', 'value': 'MAUCARSIBOVE'},\n",
       " {'label': '41941_LN@TECH<20315>', 'value': '41941_LN@TECH<20315>'},\n",
       " ...]"
      ]
     },
     "metadata": {},
     "output_type": "display_data"
    }
   ],
   "source": [
    "conn = sqlite3.connect('../data/database.db')\n",
    "conn_memory = sqlite3.connect(':memory:')\n",
    "\n",
    "query = f'SELECT DISTINCT \"Constraint Name\" \\\n",
    "        FROM BINDING_CONSTRAINTS_HOURLY;'\n",
    "df = pd.read_sql_query(query, conn)['Constraint Name'].tolist()\n",
    "df_dict = [{'label': name, 'value': name} for name in df]\n",
    "display(df_dict)\n"
   ]
  },
  {
   "cell_type": "code",
   "execution_count": 3,
   "metadata": {},
   "outputs": [
    {
     "data": {
      "text/plain": [
       "[{'label': 'LN MIDTOWN - RLND_PRKMPS KCPL:PECULIA7 STILWELL:345:1:1',\n",
       "  'value': 'LN MIDTOWN - RLND_PRKMPS KCPL:PECULIA7 STILWELL:345:1:1'}]"
      ]
     },
     "metadata": {},
     "output_type": "display_data"
    }
   ],
   "source": [
    "constraint_name = 'MIDTOW_RLND_P11_LN@MIDTOWN<12376>'\n",
    "\n",
    "query = f'SELECT DISTINCT \"Monitored Facility\" || \"Contingent Facility\" as \"Constraint Name\" \\\n",
    "        FROM BINDING_CONSTRAINTS_HOURLY \\\n",
    "        WHERE \"Constraint Name\" = \"{constraint_name}\";'\n",
    "df = pd.read_sql_query(query, conn)['Constraint Name'].tolist()\n",
    "df_dict = [{'label': name, 'value': name} for name in df]\n",
    "display(df_dict)"
   ]
  },
  {
   "cell_type": "markdown",
   "metadata": {},
   "source": [
    "# To conn_memory "
   ]
  },
  {
   "cell_type": "code",
   "execution_count": 4,
   "metadata": {},
   "outputs": [
    {
     "data": {
      "text/html": [
       "<div>\n",
       "<style scoped>\n",
       "    .dataframe tbody tr th:only-of-type {\n",
       "        vertical-align: middle;\n",
       "    }\n",
       "\n",
       "    .dataframe tbody tr th {\n",
       "        vertical-align: top;\n",
       "    }\n",
       "\n",
       "    .dataframe thead th {\n",
       "        text-align: right;\n",
       "    }\n",
       "</style>\n",
       "<table border=\"1\" class=\"dataframe\">\n",
       "  <thead>\n",
       "    <tr style=\"text-align: right;\">\n",
       "      <th></th>\n",
       "      <th>Interval</th>\n",
       "      <th>Constraint Name</th>\n",
       "      <th>Constraint Type</th>\n",
       "      <th>Shadow Price</th>\n",
       "    </tr>\n",
       "  </thead>\n",
       "  <tbody>\n",
       "    <tr>\n",
       "      <th>0</th>\n",
       "      <td>2024-01-01 01:00:00</td>\n",
       "      <td>HENDRIC2_XF - XFMR HENDRIC2 - HENDRIC2BASE</td>\n",
       "      <td>MA</td>\n",
       "      <td>-3.9848</td>\n",
       "    </tr>\n",
       "    <tr>\n",
       "      <th>1</th>\n",
       "      <td>2024-01-01 01:00:00</td>\n",
       "      <td>Ozrk_B-xfmr_A - XFMR OZRK_B - OZRK_BBASE</td>\n",
       "      <td>MA</td>\n",
       "      <td>-9.3908</td>\n",
       "    </tr>\n",
       "    <tr>\n",
       "      <th>2</th>\n",
       "      <td>2024-01-01 01:00:00</td>\n",
       "      <td>SHARP_WR_WOLF_1 - LN WOLF - SHARP_WRBASE</td>\n",
       "      <td>MA</td>\n",
       "      <td>4.2146</td>\n",
       "    </tr>\n",
       "    <tr>\n",
       "      <th>3</th>\n",
       "      <td>2024-01-01 01:00:00</td>\n",
       "      <td>TEMP90_26027 - LN MONETT - AUR1241AECI:BLACKBR...</td>\n",
       "      <td>FG</td>\n",
       "      <td>-5.2322</td>\n",
       "    </tr>\n",
       "    <tr>\n",
       "      <th>4</th>\n",
       "      <td>2024-01-01 01:00:00</td>\n",
       "      <td>None</td>\n",
       "      <td>MCE</td>\n",
       "      <td>-0.0070</td>\n",
       "    </tr>\n",
       "    <tr>\n",
       "      <th>...</th>\n",
       "      <td>...</td>\n",
       "      <td>...</td>\n",
       "      <td>...</td>\n",
       "      <td>...</td>\n",
       "    </tr>\n",
       "    <tr>\n",
       "      <th>132239</th>\n",
       "      <td>2025-01-01 00:00:00</td>\n",
       "      <td>KNOB_MARSHAL3A_LN@KNOB&lt;28562&gt; - LN KNOB - MARS...</td>\n",
       "      <td>MA</td>\n",
       "      <td>-8.9724</td>\n",
       "    </tr>\n",
       "    <tr>\n",
       "      <th>132240</th>\n",
       "      <td>2025-01-01 00:00:00</td>\n",
       "      <td>TMP452_24498 - LN LIBERAL_ - TEXAS_COSPS:CARPE...</td>\n",
       "      <td>FG</td>\n",
       "      <td>-0.0915</td>\n",
       "    </tr>\n",
       "    <tr>\n",
       "      <th>132241</th>\n",
       "      <td>2025-01-01 00:00:00</td>\n",
       "      <td>TMP623_29733 - Multi-Element ConstraintBASE</td>\n",
       "      <td>FG</td>\n",
       "      <td>-0.1737</td>\n",
       "    </tr>\n",
       "    <tr>\n",
       "      <th>132242</th>\n",
       "      <td>2025-01-01 00:00:00</td>\n",
       "      <td>TMP744_30825 - LN BATSV7 - BATSV5EES SMEP:BATS...</td>\n",
       "      <td>FG</td>\n",
       "      <td>-84.1669</td>\n",
       "    </tr>\n",
       "    <tr>\n",
       "      <th>132243</th>\n",
       "      <td>2025-01-01 00:00:00</td>\n",
       "      <td>TMP781_29254 - LN PITTSB9 - SEMINOLEOKGE CSWS:...</td>\n",
       "      <td>FG</td>\n",
       "      <td>-2.6155</td>\n",
       "    </tr>\n",
       "  </tbody>\n",
       "</table>\n",
       "<p>132244 rows × 4 columns</p>\n",
       "</div>"
      ],
      "text/plain": [
       "                   Interval  \\\n",
       "0       2024-01-01 01:00:00   \n",
       "1       2024-01-01 01:00:00   \n",
       "2       2024-01-01 01:00:00   \n",
       "3       2024-01-01 01:00:00   \n",
       "4       2024-01-01 01:00:00   \n",
       "...                     ...   \n",
       "132239  2025-01-01 00:00:00   \n",
       "132240  2025-01-01 00:00:00   \n",
       "132241  2025-01-01 00:00:00   \n",
       "132242  2025-01-01 00:00:00   \n",
       "132243  2025-01-01 00:00:00   \n",
       "\n",
       "                                          Constraint Name Constraint Type  \\\n",
       "0              HENDRIC2_XF - XFMR HENDRIC2 - HENDRIC2BASE              MA   \n",
       "1                Ozrk_B-xfmr_A - XFMR OZRK_B - OZRK_BBASE              MA   \n",
       "2                SHARP_WR_WOLF_1 - LN WOLF - SHARP_WRBASE              MA   \n",
       "3       TEMP90_26027 - LN MONETT - AUR1241AECI:BLACKBR...              FG   \n",
       "4                                                    None             MCE   \n",
       "...                                                   ...             ...   \n",
       "132239  KNOB_MARSHAL3A_LN@KNOB<28562> - LN KNOB - MARS...              MA   \n",
       "132240  TMP452_24498 - LN LIBERAL_ - TEXAS_COSPS:CARPE...              FG   \n",
       "132241        TMP623_29733 - Multi-Element ConstraintBASE              FG   \n",
       "132242  TMP744_30825 - LN BATSV7 - BATSV5EES SMEP:BATS...              FG   \n",
       "132243  TMP781_29254 - LN PITTSB9 - SEMINOLEOKGE CSWS:...              FG   \n",
       "\n",
       "        Shadow Price  \n",
       "0            -3.9848  \n",
       "1            -9.3908  \n",
       "2             4.2146  \n",
       "3            -5.2322  \n",
       "4            -0.0070  \n",
       "...              ...  \n",
       "132239       -8.9724  \n",
       "132240       -0.0915  \n",
       "132241       -0.1737  \n",
       "132242      -84.1669  \n",
       "132243       -2.6155  \n",
       "\n",
       "[132244 rows x 4 columns]"
      ]
     },
     "metadata": {},
     "output_type": "display_data"
    }
   ],
   "source": [
    "query = f'SELECT Interval, \"Constraint Name\" || \" - \" || \"Monitored Facility\" || \"Contingent Facility\" as \"Constraint Name\", \"Constraint Type\", \"Shadow Price\"\\\n",
    "        FROM BINDING_CONSTRAINTS_HOURLY;'\n",
    "df = pd.read_sql_query(query, conn)\n",
    "df.to_sql('BINDING_CONSTRAINTS_HOURLY', conn_memory, if_exists='replace', index=False)\n",
    "display(df)"
   ]
  },
  {
   "cell_type": "code",
   "execution_count": 5,
   "metadata": {},
   "outputs": [
    {
     "data": {
      "text/html": [
       "<div>\n",
       "<style scoped>\n",
       "    .dataframe tbody tr th:only-of-type {\n",
       "        vertical-align: middle;\n",
       "    }\n",
       "\n",
       "    .dataframe tbody tr th {\n",
       "        vertical-align: top;\n",
       "    }\n",
       "\n",
       "    .dataframe thead th {\n",
       "        text-align: right;\n",
       "    }\n",
       "</style>\n",
       "<table border=\"1\" class=\"dataframe\">\n",
       "  <thead>\n",
       "    <tr style=\"text-align: right;\">\n",
       "      <th></th>\n",
       "      <th>Interval</th>\n",
       "      <th>Constraint Name</th>\n",
       "      <th>Constraint Type</th>\n",
       "      <th>Shadow Price</th>\n",
       "      <th>\"Contigency Name\"</th>\n",
       "    </tr>\n",
       "  </thead>\n",
       "  <tbody>\n",
       "    <tr>\n",
       "      <th>0</th>\n",
       "      <td>2024-01-01</td>\n",
       "      <td>HENDRIC2_XF - XFMR HENDRIC2 - HENDRIC2BASE</td>\n",
       "      <td>MA</td>\n",
       "      <td>-3.9848</td>\n",
       "      <td>Contigency Name</td>\n",
       "    </tr>\n",
       "    <tr>\n",
       "      <th>1</th>\n",
       "      <td>2024-01-01</td>\n",
       "      <td>Ozrk_B-xfmr_A - XFMR OZRK_B - OZRK_BBASE</td>\n",
       "      <td>MA</td>\n",
       "      <td>-9.3908</td>\n",
       "      <td>Contigency Name</td>\n",
       "    </tr>\n",
       "    <tr>\n",
       "      <th>2</th>\n",
       "      <td>2024-01-01</td>\n",
       "      <td>SHARP_WR_WOLF_1 - LN WOLF - SHARP_WRBASE</td>\n",
       "      <td>MA</td>\n",
       "      <td>4.2146</td>\n",
       "      <td>Contigency Name</td>\n",
       "    </tr>\n",
       "    <tr>\n",
       "      <th>3</th>\n",
       "      <td>2024-01-01</td>\n",
       "      <td>TEMP90_26027 - LN MONETT - AUR1241AECI:BLACKBR...</td>\n",
       "      <td>FG</td>\n",
       "      <td>-5.2322</td>\n",
       "      <td>Contigency Name</td>\n",
       "    </tr>\n",
       "    <tr>\n",
       "      <th>4</th>\n",
       "      <td>2024-01-01</td>\n",
       "      <td>None</td>\n",
       "      <td>MCE</td>\n",
       "      <td>-0.0070</td>\n",
       "      <td>Contigency Name</td>\n",
       "    </tr>\n",
       "    <tr>\n",
       "      <th>...</th>\n",
       "      <td>...</td>\n",
       "      <td>...</td>\n",
       "      <td>...</td>\n",
       "      <td>...</td>\n",
       "      <td>...</td>\n",
       "    </tr>\n",
       "    <tr>\n",
       "      <th>132239</th>\n",
       "      <td>2024-12-31</td>\n",
       "      <td>KNOB_MARSHAL3A_LN@KNOB&lt;28562&gt; - LN KNOB - MARS...</td>\n",
       "      <td>MA</td>\n",
       "      <td>-8.9724</td>\n",
       "      <td>Contigency Name</td>\n",
       "    </tr>\n",
       "    <tr>\n",
       "      <th>132240</th>\n",
       "      <td>2024-12-31</td>\n",
       "      <td>TMP452_24498 - LN LIBERAL_ - TEXAS_COSPS:CARPE...</td>\n",
       "      <td>FG</td>\n",
       "      <td>-0.0915</td>\n",
       "      <td>Contigency Name</td>\n",
       "    </tr>\n",
       "    <tr>\n",
       "      <th>132241</th>\n",
       "      <td>2024-12-31</td>\n",
       "      <td>TMP623_29733 - Multi-Element ConstraintBASE</td>\n",
       "      <td>FG</td>\n",
       "      <td>-0.1737</td>\n",
       "      <td>Contigency Name</td>\n",
       "    </tr>\n",
       "    <tr>\n",
       "      <th>132242</th>\n",
       "      <td>2024-12-31</td>\n",
       "      <td>TMP744_30825 - LN BATSV7 - BATSV5EES SMEP:BATS...</td>\n",
       "      <td>FG</td>\n",
       "      <td>-84.1669</td>\n",
       "      <td>Contigency Name</td>\n",
       "    </tr>\n",
       "    <tr>\n",
       "      <th>132243</th>\n",
       "      <td>2024-12-31</td>\n",
       "      <td>TMP781_29254 - LN PITTSB9 - SEMINOLEOKGE CSWS:...</td>\n",
       "      <td>FG</td>\n",
       "      <td>-2.6155</td>\n",
       "      <td>Contigency Name</td>\n",
       "    </tr>\n",
       "  </tbody>\n",
       "</table>\n",
       "<p>132244 rows × 5 columns</p>\n",
       "</div>"
      ],
      "text/plain": [
       "         Interval                                    Constraint Name  \\\n",
       "0      2024-01-01         HENDRIC2_XF - XFMR HENDRIC2 - HENDRIC2BASE   \n",
       "1      2024-01-01           Ozrk_B-xfmr_A - XFMR OZRK_B - OZRK_BBASE   \n",
       "2      2024-01-01           SHARP_WR_WOLF_1 - LN WOLF - SHARP_WRBASE   \n",
       "3      2024-01-01  TEMP90_26027 - LN MONETT - AUR1241AECI:BLACKBR...   \n",
       "4      2024-01-01                                               None   \n",
       "...           ...                                                ...   \n",
       "132239 2024-12-31  KNOB_MARSHAL3A_LN@KNOB<28562> - LN KNOB - MARS...   \n",
       "132240 2024-12-31  TMP452_24498 - LN LIBERAL_ - TEXAS_COSPS:CARPE...   \n",
       "132241 2024-12-31        TMP623_29733 - Multi-Element ConstraintBASE   \n",
       "132242 2024-12-31  TMP744_30825 - LN BATSV7 - BATSV5EES SMEP:BATS...   \n",
       "132243 2024-12-31  TMP781_29254 - LN PITTSB9 - SEMINOLEOKGE CSWS:...   \n",
       "\n",
       "       Constraint Type  Shadow Price \"Contigency Name\"  \n",
       "0                   MA       -3.9848   Contigency Name  \n",
       "1                   MA       -9.3908   Contigency Name  \n",
       "2                   MA        4.2146   Contigency Name  \n",
       "3                   FG       -5.2322   Contigency Name  \n",
       "4                  MCE       -0.0070   Contigency Name  \n",
       "...                ...           ...               ...  \n",
       "132239              MA       -8.9724   Contigency Name  \n",
       "132240              FG       -0.0915   Contigency Name  \n",
       "132241              FG       -0.1737   Contigency Name  \n",
       "132242              FG      -84.1669   Contigency Name  \n",
       "132243              FG       -2.6155   Contigency Name  \n",
       "\n",
       "[132244 rows x 5 columns]"
      ]
     },
     "metadata": {},
     "output_type": "display_data"
    }
   ],
   "source": [
    "query = f'SELECT Interval, \"Constraint Name\" || \" - \" || \"Monitored Facility\" || \"Contingent Facility\" as \"Constraint Name\", \"Constraint Type\", \\\n",
    "        \"Shadow Price\", \"Contigency Name\" \\\n",
    "        FROM BINDING_CONSTRAINTS_HOURLY;'\n",
    "df = pd.read_sql_query(query, conn, parse_dates=['Interval'])\n",
    "df['Interval'] = pd.to_datetime(df['Interval']) - pd.Timedelta(minutes=30)\n",
    "df['Interval'] = pd.to_datetime(df['Interval'].dt.strftime('%Y-%m-%d'))\n",
    "df.to_sql('BINDING_CONSTRAINTS_DAILY', conn_memory, if_exists='replace', index=False)\n",
    "display(df)"
   ]
  },
  {
   "cell_type": "code",
   "execution_count": 6,
   "metadata": {},
   "outputs": [
    {
     "data": {
      "text/html": [
       "<div>\n",
       "<style scoped>\n",
       "    .dataframe tbody tr th:only-of-type {\n",
       "        vertical-align: middle;\n",
       "    }\n",
       "\n",
       "    .dataframe tbody tr th {\n",
       "        vertical-align: top;\n",
       "    }\n",
       "\n",
       "    .dataframe thead th {\n",
       "        text-align: right;\n",
       "    }\n",
       "</style>\n",
       "<table border=\"1\" class=\"dataframe\">\n",
       "  <thead>\n",
       "    <tr style=\"text-align: right;\">\n",
       "      <th></th>\n",
       "      <th>Interval</th>\n",
       "      <th>Constraint Name</th>\n",
       "      <th>Constraint Type</th>\n",
       "      <th>Shadow Price</th>\n",
       "      <th>\"Contigency Name\"</th>\n",
       "    </tr>\n",
       "  </thead>\n",
       "  <tbody>\n",
       "    <tr>\n",
       "      <th>0</th>\n",
       "      <td>2024-01</td>\n",
       "      <td>HENDRIC2_XF - XFMR HENDRIC2 - HENDRIC2BASE</td>\n",
       "      <td>MA</td>\n",
       "      <td>-3.9848</td>\n",
       "      <td>Contigency Name</td>\n",
       "    </tr>\n",
       "    <tr>\n",
       "      <th>1</th>\n",
       "      <td>2024-01</td>\n",
       "      <td>Ozrk_B-xfmr_A - XFMR OZRK_B - OZRK_BBASE</td>\n",
       "      <td>MA</td>\n",
       "      <td>-9.3908</td>\n",
       "      <td>Contigency Name</td>\n",
       "    </tr>\n",
       "    <tr>\n",
       "      <th>2</th>\n",
       "      <td>2024-01</td>\n",
       "      <td>SHARP_WR_WOLF_1 - LN WOLF - SHARP_WRBASE</td>\n",
       "      <td>MA</td>\n",
       "      <td>4.2146</td>\n",
       "      <td>Contigency Name</td>\n",
       "    </tr>\n",
       "    <tr>\n",
       "      <th>3</th>\n",
       "      <td>2024-01</td>\n",
       "      <td>TEMP90_26027 - LN MONETT - AUR1241AECI:BLACKBR...</td>\n",
       "      <td>FG</td>\n",
       "      <td>-5.2322</td>\n",
       "      <td>Contigency Name</td>\n",
       "    </tr>\n",
       "    <tr>\n",
       "      <th>4</th>\n",
       "      <td>2024-01</td>\n",
       "      <td>None</td>\n",
       "      <td>MCE</td>\n",
       "      <td>-0.0070</td>\n",
       "      <td>Contigency Name</td>\n",
       "    </tr>\n",
       "    <tr>\n",
       "      <th>...</th>\n",
       "      <td>...</td>\n",
       "      <td>...</td>\n",
       "      <td>...</td>\n",
       "      <td>...</td>\n",
       "      <td>...</td>\n",
       "    </tr>\n",
       "    <tr>\n",
       "      <th>132239</th>\n",
       "      <td>2025-01</td>\n",
       "      <td>KNOB_MARSHAL3A_LN@KNOB&lt;28562&gt; - LN KNOB - MARS...</td>\n",
       "      <td>MA</td>\n",
       "      <td>-8.9724</td>\n",
       "      <td>Contigency Name</td>\n",
       "    </tr>\n",
       "    <tr>\n",
       "      <th>132240</th>\n",
       "      <td>2025-01</td>\n",
       "      <td>TMP452_24498 - LN LIBERAL_ - TEXAS_COSPS:CARPE...</td>\n",
       "      <td>FG</td>\n",
       "      <td>-0.0915</td>\n",
       "      <td>Contigency Name</td>\n",
       "    </tr>\n",
       "    <tr>\n",
       "      <th>132241</th>\n",
       "      <td>2025-01</td>\n",
       "      <td>TMP623_29733 - Multi-Element ConstraintBASE</td>\n",
       "      <td>FG</td>\n",
       "      <td>-0.1737</td>\n",
       "      <td>Contigency Name</td>\n",
       "    </tr>\n",
       "    <tr>\n",
       "      <th>132242</th>\n",
       "      <td>2025-01</td>\n",
       "      <td>TMP744_30825 - LN BATSV7 - BATSV5EES SMEP:BATS...</td>\n",
       "      <td>FG</td>\n",
       "      <td>-84.1669</td>\n",
       "      <td>Contigency Name</td>\n",
       "    </tr>\n",
       "    <tr>\n",
       "      <th>132243</th>\n",
       "      <td>2025-01</td>\n",
       "      <td>TMP781_29254 - LN PITTSB9 - SEMINOLEOKGE CSWS:...</td>\n",
       "      <td>FG</td>\n",
       "      <td>-2.6155</td>\n",
       "      <td>Contigency Name</td>\n",
       "    </tr>\n",
       "  </tbody>\n",
       "</table>\n",
       "<p>132244 rows × 5 columns</p>\n",
       "</div>"
      ],
      "text/plain": [
       "       Interval                                    Constraint Name  \\\n",
       "0       2024-01         HENDRIC2_XF - XFMR HENDRIC2 - HENDRIC2BASE   \n",
       "1       2024-01           Ozrk_B-xfmr_A - XFMR OZRK_B - OZRK_BBASE   \n",
       "2       2024-01           SHARP_WR_WOLF_1 - LN WOLF - SHARP_WRBASE   \n",
       "3       2024-01  TEMP90_26027 - LN MONETT - AUR1241AECI:BLACKBR...   \n",
       "4       2024-01                                               None   \n",
       "...         ...                                                ...   \n",
       "132239  2025-01  KNOB_MARSHAL3A_LN@KNOB<28562> - LN KNOB - MARS...   \n",
       "132240  2025-01  TMP452_24498 - LN LIBERAL_ - TEXAS_COSPS:CARPE...   \n",
       "132241  2025-01        TMP623_29733 - Multi-Element ConstraintBASE   \n",
       "132242  2025-01  TMP744_30825 - LN BATSV7 - BATSV5EES SMEP:BATS...   \n",
       "132243  2025-01  TMP781_29254 - LN PITTSB9 - SEMINOLEOKGE CSWS:...   \n",
       "\n",
       "       Constraint Type  Shadow Price \"Contigency Name\"  \n",
       "0                   MA       -3.9848   Contigency Name  \n",
       "1                   MA       -9.3908   Contigency Name  \n",
       "2                   MA        4.2146   Contigency Name  \n",
       "3                   FG       -5.2322   Contigency Name  \n",
       "4                  MCE       -0.0070   Contigency Name  \n",
       "...                ...           ...               ...  \n",
       "132239              MA       -8.9724   Contigency Name  \n",
       "132240              FG       -0.0915   Contigency Name  \n",
       "132241              FG       -0.1737   Contigency Name  \n",
       "132242              FG      -84.1669   Contigency Name  \n",
       "132243              FG       -2.6155   Contigency Name  \n",
       "\n",
       "[132244 rows x 5 columns]"
      ]
     },
     "metadata": {},
     "output_type": "display_data"
    }
   ],
   "source": [
    "query = f'SELECT Interval, \"Constraint Name\" || \" - \" || \"Monitored Facility\" || \"Contingent Facility\" as \"Constraint Name\", \"Constraint Type\", \\\n",
    "        \"Shadow Price\", \"Contigency Name\" \\\n",
    "        FROM BINDING_CONSTRAINTS_HOURLY;'\n",
    "df = pd.read_sql_query(query, conn, parse_dates=['Interval'])\n",
    "df['Interval'] = df['Interval'].dt.strftime('%Y-%m')\n",
    "df.to_sql('BINDING_CONSTRAINTS_MONTHLY', conn_memory, if_exists='replace', index=False)\n",
    "display(df)"
   ]
  },
  {
   "cell_type": "markdown",
   "metadata": {},
   "source": [
    "# Graphique 1"
   ]
  },
  {
   "cell_type": "code",
   "execution_count": 7,
   "metadata": {},
   "outputs": [
    {
     "data": {
      "text/html": [
       "<div>\n",
       "<style scoped>\n",
       "    .dataframe tbody tr th:only-of-type {\n",
       "        vertical-align: middle;\n",
       "    }\n",
       "\n",
       "    .dataframe tbody tr th {\n",
       "        vertical-align: top;\n",
       "    }\n",
       "\n",
       "    .dataframe thead th {\n",
       "        text-align: right;\n",
       "    }\n",
       "</style>\n",
       "<table border=\"1\" class=\"dataframe\">\n",
       "  <thead>\n",
       "    <tr style=\"text-align: right;\">\n",
       "      <th></th>\n",
       "      <th>Interval</th>\n",
       "      <th>Shadow Price</th>\n",
       "    </tr>\n",
       "  </thead>\n",
       "  <tbody>\n",
       "    <tr>\n",
       "      <th>0</th>\n",
       "      <td>2024-01</td>\n",
       "      <td>-922.7253</td>\n",
       "    </tr>\n",
       "    <tr>\n",
       "      <th>1</th>\n",
       "      <td>2024-02</td>\n",
       "      <td>38.6620</td>\n",
       "    </tr>\n",
       "    <tr>\n",
       "      <th>2</th>\n",
       "      <td>2024-04</td>\n",
       "      <td>-754.3421</td>\n",
       "    </tr>\n",
       "    <tr>\n",
       "      <th>3</th>\n",
       "      <td>2024-06</td>\n",
       "      <td>57.4898</td>\n",
       "    </tr>\n",
       "    <tr>\n",
       "      <th>4</th>\n",
       "      <td>2024-07</td>\n",
       "      <td>-666.4758</td>\n",
       "    </tr>\n",
       "    <tr>\n",
       "      <th>5</th>\n",
       "      <td>2024-08</td>\n",
       "      <td>-770.8374</td>\n",
       "    </tr>\n",
       "    <tr>\n",
       "      <th>6</th>\n",
       "      <td>2024-09</td>\n",
       "      <td>-1614.9702</td>\n",
       "    </tr>\n",
       "    <tr>\n",
       "      <th>7</th>\n",
       "      <td>2024-10</td>\n",
       "      <td>-280.5933</td>\n",
       "    </tr>\n",
       "    <tr>\n",
       "      <th>8</th>\n",
       "      <td>2024-11</td>\n",
       "      <td>-1195.1216</td>\n",
       "    </tr>\n",
       "    <tr>\n",
       "      <th>9</th>\n",
       "      <td>2024-12</td>\n",
       "      <td>-2071.8811</td>\n",
       "    </tr>\n",
       "  </tbody>\n",
       "</table>\n",
       "</div>"
      ],
      "text/plain": [
       "  Interval  Shadow Price\n",
       "0  2024-01     -922.7253\n",
       "1  2024-02       38.6620\n",
       "2  2024-04     -754.3421\n",
       "3  2024-06       57.4898\n",
       "4  2024-07     -666.4758\n",
       "5  2024-08     -770.8374\n",
       "6  2024-09    -1614.9702\n",
       "7  2024-10     -280.5933\n",
       "8  2024-11    -1195.1216\n",
       "9  2024-12    -2071.8811"
      ]
     },
     "metadata": {},
     "output_type": "display_data"
    }
   ],
   "source": [
    "constraint_name_primaire = \"HENDRIC2_XF\"\n",
    "constraint_name_suppl = 'XFMR HENDRIC2 - HENDRIC2BASE'\n",
    "constraint_name = constraint_name_primaire + ' - ' + constraint_name_suppl\n",
    "\n",
    "query = f'SELECT * \\\n",
    "        FROM BINDING_CONSTRAINTS_MONTHLY \\\n",
    "        WHERE \"Constraint Name\" = \"{constraint_name}\"'\n",
    "df = pd.read_sql_query(query, conn_memory)\n",
    "df = df.groupby('Interval')['Shadow Price'].sum().reset_index()\n",
    "display(df)\n"
   ]
  },
  {
   "cell_type": "code",
   "execution_count": 8,
   "metadata": {},
   "outputs": [
    {
     "data": {
      "application/vnd.plotly.v1+json": {
       "config": {
        "plotlyServerURL": "https://plot.ly"
       },
       "data": [
        {
         "type": "bar",
         "x": [
          "2024-01",
          "2024-02",
          "2024-04",
          "2024-06",
          "2024-07",
          "2024-08",
          "2024-09",
          "2024-10",
          "2024-11",
          "2024-12"
         ],
         "y": {
          "bdata": "Tx4Was3VjMDb+X5qvFRDQLG/7J68kofAWMoyxLG+TEB/+zpwztOEwF1txf6yFojAUdobfOE7mcB4CyQofolxwMbctYR8rJLAAwmKH8MvoMA=",
          "dtype": "f8"
         }
        }
       ],
       "layout": {
        "template": {
         "data": {
          "bar": [
           {
            "error_x": {
             "color": "#2a3f5f"
            },
            "error_y": {
             "color": "#2a3f5f"
            },
            "marker": {
             "line": {
              "color": "#E5ECF6",
              "width": 0.5
             },
             "pattern": {
              "fillmode": "overlay",
              "size": 10,
              "solidity": 0.2
             }
            },
            "type": "bar"
           }
          ],
          "barpolar": [
           {
            "marker": {
             "line": {
              "color": "#E5ECF6",
              "width": 0.5
             },
             "pattern": {
              "fillmode": "overlay",
              "size": 10,
              "solidity": 0.2
             }
            },
            "type": "barpolar"
           }
          ],
          "carpet": [
           {
            "aaxis": {
             "endlinecolor": "#2a3f5f",
             "gridcolor": "white",
             "linecolor": "white",
             "minorgridcolor": "white",
             "startlinecolor": "#2a3f5f"
            },
            "baxis": {
             "endlinecolor": "#2a3f5f",
             "gridcolor": "white",
             "linecolor": "white",
             "minorgridcolor": "white",
             "startlinecolor": "#2a3f5f"
            },
            "type": "carpet"
           }
          ],
          "choropleth": [
           {
            "colorbar": {
             "outlinewidth": 0,
             "ticks": ""
            },
            "type": "choropleth"
           }
          ],
          "contour": [
           {
            "colorbar": {
             "outlinewidth": 0,
             "ticks": ""
            },
            "colorscale": [
             [
              0,
              "#0d0887"
             ],
             [
              0.1111111111111111,
              "#46039f"
             ],
             [
              0.2222222222222222,
              "#7201a8"
             ],
             [
              0.3333333333333333,
              "#9c179e"
             ],
             [
              0.4444444444444444,
              "#bd3786"
             ],
             [
              0.5555555555555556,
              "#d8576b"
             ],
             [
              0.6666666666666666,
              "#ed7953"
             ],
             [
              0.7777777777777778,
              "#fb9f3a"
             ],
             [
              0.8888888888888888,
              "#fdca26"
             ],
             [
              1,
              "#f0f921"
             ]
            ],
            "type": "contour"
           }
          ],
          "contourcarpet": [
           {
            "colorbar": {
             "outlinewidth": 0,
             "ticks": ""
            },
            "type": "contourcarpet"
           }
          ],
          "heatmap": [
           {
            "colorbar": {
             "outlinewidth": 0,
             "ticks": ""
            },
            "colorscale": [
             [
              0,
              "#0d0887"
             ],
             [
              0.1111111111111111,
              "#46039f"
             ],
             [
              0.2222222222222222,
              "#7201a8"
             ],
             [
              0.3333333333333333,
              "#9c179e"
             ],
             [
              0.4444444444444444,
              "#bd3786"
             ],
             [
              0.5555555555555556,
              "#d8576b"
             ],
             [
              0.6666666666666666,
              "#ed7953"
             ],
             [
              0.7777777777777778,
              "#fb9f3a"
             ],
             [
              0.8888888888888888,
              "#fdca26"
             ],
             [
              1,
              "#f0f921"
             ]
            ],
            "type": "heatmap"
           }
          ],
          "histogram": [
           {
            "marker": {
             "pattern": {
              "fillmode": "overlay",
              "size": 10,
              "solidity": 0.2
             }
            },
            "type": "histogram"
           }
          ],
          "histogram2d": [
           {
            "colorbar": {
             "outlinewidth": 0,
             "ticks": ""
            },
            "colorscale": [
             [
              0,
              "#0d0887"
             ],
             [
              0.1111111111111111,
              "#46039f"
             ],
             [
              0.2222222222222222,
              "#7201a8"
             ],
             [
              0.3333333333333333,
              "#9c179e"
             ],
             [
              0.4444444444444444,
              "#bd3786"
             ],
             [
              0.5555555555555556,
              "#d8576b"
             ],
             [
              0.6666666666666666,
              "#ed7953"
             ],
             [
              0.7777777777777778,
              "#fb9f3a"
             ],
             [
              0.8888888888888888,
              "#fdca26"
             ],
             [
              1,
              "#f0f921"
             ]
            ],
            "type": "histogram2d"
           }
          ],
          "histogram2dcontour": [
           {
            "colorbar": {
             "outlinewidth": 0,
             "ticks": ""
            },
            "colorscale": [
             [
              0,
              "#0d0887"
             ],
             [
              0.1111111111111111,
              "#46039f"
             ],
             [
              0.2222222222222222,
              "#7201a8"
             ],
             [
              0.3333333333333333,
              "#9c179e"
             ],
             [
              0.4444444444444444,
              "#bd3786"
             ],
             [
              0.5555555555555556,
              "#d8576b"
             ],
             [
              0.6666666666666666,
              "#ed7953"
             ],
             [
              0.7777777777777778,
              "#fb9f3a"
             ],
             [
              0.8888888888888888,
              "#fdca26"
             ],
             [
              1,
              "#f0f921"
             ]
            ],
            "type": "histogram2dcontour"
           }
          ],
          "mesh3d": [
           {
            "colorbar": {
             "outlinewidth": 0,
             "ticks": ""
            },
            "type": "mesh3d"
           }
          ],
          "parcoords": [
           {
            "line": {
             "colorbar": {
              "outlinewidth": 0,
              "ticks": ""
             }
            },
            "type": "parcoords"
           }
          ],
          "pie": [
           {
            "automargin": true,
            "type": "pie"
           }
          ],
          "scatter": [
           {
            "fillpattern": {
             "fillmode": "overlay",
             "size": 10,
             "solidity": 0.2
            },
            "type": "scatter"
           }
          ],
          "scatter3d": [
           {
            "line": {
             "colorbar": {
              "outlinewidth": 0,
              "ticks": ""
             }
            },
            "marker": {
             "colorbar": {
              "outlinewidth": 0,
              "ticks": ""
             }
            },
            "type": "scatter3d"
           }
          ],
          "scattercarpet": [
           {
            "marker": {
             "colorbar": {
              "outlinewidth": 0,
              "ticks": ""
             }
            },
            "type": "scattercarpet"
           }
          ],
          "scattergeo": [
           {
            "marker": {
             "colorbar": {
              "outlinewidth": 0,
              "ticks": ""
             }
            },
            "type": "scattergeo"
           }
          ],
          "scattergl": [
           {
            "marker": {
             "colorbar": {
              "outlinewidth": 0,
              "ticks": ""
             }
            },
            "type": "scattergl"
           }
          ],
          "scattermap": [
           {
            "marker": {
             "colorbar": {
              "outlinewidth": 0,
              "ticks": ""
             }
            },
            "type": "scattermap"
           }
          ],
          "scattermapbox": [
           {
            "marker": {
             "colorbar": {
              "outlinewidth": 0,
              "ticks": ""
             }
            },
            "type": "scattermapbox"
           }
          ],
          "scatterpolar": [
           {
            "marker": {
             "colorbar": {
              "outlinewidth": 0,
              "ticks": ""
             }
            },
            "type": "scatterpolar"
           }
          ],
          "scatterpolargl": [
           {
            "marker": {
             "colorbar": {
              "outlinewidth": 0,
              "ticks": ""
             }
            },
            "type": "scatterpolargl"
           }
          ],
          "scatterternary": [
           {
            "marker": {
             "colorbar": {
              "outlinewidth": 0,
              "ticks": ""
             }
            },
            "type": "scatterternary"
           }
          ],
          "surface": [
           {
            "colorbar": {
             "outlinewidth": 0,
             "ticks": ""
            },
            "colorscale": [
             [
              0,
              "#0d0887"
             ],
             [
              0.1111111111111111,
              "#46039f"
             ],
             [
              0.2222222222222222,
              "#7201a8"
             ],
             [
              0.3333333333333333,
              "#9c179e"
             ],
             [
              0.4444444444444444,
              "#bd3786"
             ],
             [
              0.5555555555555556,
              "#d8576b"
             ],
             [
              0.6666666666666666,
              "#ed7953"
             ],
             [
              0.7777777777777778,
              "#fb9f3a"
             ],
             [
              0.8888888888888888,
              "#fdca26"
             ],
             [
              1,
              "#f0f921"
             ]
            ],
            "type": "surface"
           }
          ],
          "table": [
           {
            "cells": {
             "fill": {
              "color": "#EBF0F8"
             },
             "line": {
              "color": "white"
             }
            },
            "header": {
             "fill": {
              "color": "#C8D4E3"
             },
             "line": {
              "color": "white"
             }
            },
            "type": "table"
           }
          ]
         },
         "layout": {
          "annotationdefaults": {
           "arrowcolor": "#2a3f5f",
           "arrowhead": 0,
           "arrowwidth": 1
          },
          "autotypenumbers": "strict",
          "coloraxis": {
           "colorbar": {
            "outlinewidth": 0,
            "ticks": ""
           }
          },
          "colorscale": {
           "diverging": [
            [
             0,
             "#8e0152"
            ],
            [
             0.1,
             "#c51b7d"
            ],
            [
             0.2,
             "#de77ae"
            ],
            [
             0.3,
             "#f1b6da"
            ],
            [
             0.4,
             "#fde0ef"
            ],
            [
             0.5,
             "#f7f7f7"
            ],
            [
             0.6,
             "#e6f5d0"
            ],
            [
             0.7,
             "#b8e186"
            ],
            [
             0.8,
             "#7fbc41"
            ],
            [
             0.9,
             "#4d9221"
            ],
            [
             1,
             "#276419"
            ]
           ],
           "sequential": [
            [
             0,
             "#0d0887"
            ],
            [
             0.1111111111111111,
             "#46039f"
            ],
            [
             0.2222222222222222,
             "#7201a8"
            ],
            [
             0.3333333333333333,
             "#9c179e"
            ],
            [
             0.4444444444444444,
             "#bd3786"
            ],
            [
             0.5555555555555556,
             "#d8576b"
            ],
            [
             0.6666666666666666,
             "#ed7953"
            ],
            [
             0.7777777777777778,
             "#fb9f3a"
            ],
            [
             0.8888888888888888,
             "#fdca26"
            ],
            [
             1,
             "#f0f921"
            ]
           ],
           "sequentialminus": [
            [
             0,
             "#0d0887"
            ],
            [
             0.1111111111111111,
             "#46039f"
            ],
            [
             0.2222222222222222,
             "#7201a8"
            ],
            [
             0.3333333333333333,
             "#9c179e"
            ],
            [
             0.4444444444444444,
             "#bd3786"
            ],
            [
             0.5555555555555556,
             "#d8576b"
            ],
            [
             0.6666666666666666,
             "#ed7953"
            ],
            [
             0.7777777777777778,
             "#fb9f3a"
            ],
            [
             0.8888888888888888,
             "#fdca26"
            ],
            [
             1,
             "#f0f921"
            ]
           ]
          },
          "colorway": [
           "#636efa",
           "#EF553B",
           "#00cc96",
           "#ab63fa",
           "#FFA15A",
           "#19d3f3",
           "#FF6692",
           "#B6E880",
           "#FF97FF",
           "#FECB52"
          ],
          "font": {
           "color": "#2a3f5f"
          },
          "geo": {
           "bgcolor": "white",
           "lakecolor": "white",
           "landcolor": "#E5ECF6",
           "showlakes": true,
           "showland": true,
           "subunitcolor": "white"
          },
          "hoverlabel": {
           "align": "left"
          },
          "hovermode": "closest",
          "mapbox": {
           "style": "light"
          },
          "paper_bgcolor": "white",
          "plot_bgcolor": "#E5ECF6",
          "polar": {
           "angularaxis": {
            "gridcolor": "white",
            "linecolor": "white",
            "ticks": ""
           },
           "bgcolor": "#E5ECF6",
           "radialaxis": {
            "gridcolor": "white",
            "linecolor": "white",
            "ticks": ""
           }
          },
          "scene": {
           "xaxis": {
            "backgroundcolor": "#E5ECF6",
            "gridcolor": "white",
            "gridwidth": 2,
            "linecolor": "white",
            "showbackground": true,
            "ticks": "",
            "zerolinecolor": "white"
           },
           "yaxis": {
            "backgroundcolor": "#E5ECF6",
            "gridcolor": "white",
            "gridwidth": 2,
            "linecolor": "white",
            "showbackground": true,
            "ticks": "",
            "zerolinecolor": "white"
           },
           "zaxis": {
            "backgroundcolor": "#E5ECF6",
            "gridcolor": "white",
            "gridwidth": 2,
            "linecolor": "white",
            "showbackground": true,
            "ticks": "",
            "zerolinecolor": "white"
           }
          },
          "shapedefaults": {
           "line": {
            "color": "#2a3f5f"
           }
          },
          "ternary": {
           "aaxis": {
            "gridcolor": "white",
            "linecolor": "white",
            "ticks": ""
           },
           "baxis": {
            "gridcolor": "white",
            "linecolor": "white",
            "ticks": ""
           },
           "bgcolor": "#E5ECF6",
           "caxis": {
            "gridcolor": "white",
            "linecolor": "white",
            "ticks": ""
           }
          },
          "title": {
           "x": 0.05
          },
          "xaxis": {
           "automargin": true,
           "gridcolor": "white",
           "linecolor": "white",
           "ticks": "",
           "title": {
            "standoff": 15
           },
           "zerolinecolor": "white",
           "zerolinewidth": 2
          },
          "yaxis": {
           "automargin": true,
           "gridcolor": "white",
           "linecolor": "white",
           "ticks": "",
           "title": {
            "standoff": 15
           },
           "zerolinecolor": "white",
           "zerolinewidth": 2
          }
         }
        }
       }
      }
     },
     "metadata": {},
     "output_type": "display_data"
    }
   ],
   "source": [
    "fig = go.Figure(\n",
    "    data=[\n",
    "        go.Bar(\n",
    "            x=df['Interval'],\n",
    "            y=df['Shadow Price'],\n",
    "        )\n",
    "    ]\n",
    ")\n",
    "fig.show()"
   ]
  },
  {
   "cell_type": "markdown",
   "metadata": {},
   "source": [
    "# Graphique 2"
   ]
  },
  {
   "cell_type": "code",
   "execution_count": 9,
   "metadata": {},
   "outputs": [
    {
     "data": {
      "text/html": [
       "<div>\n",
       "<style scoped>\n",
       "    .dataframe tbody tr th:only-of-type {\n",
       "        vertical-align: middle;\n",
       "    }\n",
       "\n",
       "    .dataframe tbody tr th {\n",
       "        vertical-align: top;\n",
       "    }\n",
       "\n",
       "    .dataframe thead th {\n",
       "        text-align: right;\n",
       "    }\n",
       "</style>\n",
       "<table border=\"1\" class=\"dataframe\">\n",
       "  <thead>\n",
       "    <tr style=\"text-align: right;\">\n",
       "      <th></th>\n",
       "      <th>Constraint Name</th>\n",
       "      <th>Shadow Price</th>\n",
       "      <th>hover_text</th>\n",
       "    </tr>\n",
       "  </thead>\n",
       "  <tbody>\n",
       "    <tr>\n",
       "      <th>1286</th>\n",
       "      <td>TEMP89_22229 - LN GRACMONT - ANADARKOWFEC CSWS...</td>\n",
       "      <td>3534</td>\n",
       "      <td>TEMP89_22229 - LN GRACMONT - ANADARKOWFEC CSWS...</td>\n",
       "    </tr>\n",
       "    <tr>\n",
       "      <th>1171</th>\n",
       "      <td>SPSNMTIES - Multi-Element ConstraintBASE</td>\n",
       "      <td>3049</td>\n",
       "      <td>SPSNMTIES - Multi-Element ConstraintBASE\\n3049</td>\n",
       "    </tr>\n",
       "    <tr>\n",
       "      <th>1054</th>\n",
       "      <td>Ozrk_B-xfmr_A - XFMR OZRK_B - OZRK_BBASE</td>\n",
       "      <td>2594</td>\n",
       "      <td>Ozrk_B-xfmr_A - XFMR OZRK_B - OZRK_BBASE\\n2594</td>\n",
       "    </tr>\n",
       "    <tr>\n",
       "      <th>503</th>\n",
       "      <td>CIMXF2CIMXF3 - XFMR CIMARRON - CIMARRONOKGE:CI...</td>\n",
       "      <td>2591</td>\n",
       "      <td>CIMXF2CIMXF3 - XFMR CIMARRON - CIMARRONOKGE:CI...</td>\n",
       "    </tr>\n",
       "    <tr>\n",
       "      <th>1401</th>\n",
       "      <td>TMP348_25258 - LN SNAKECK - ALIANCEWAUE:WAYSID...</td>\n",
       "      <td>2279</td>\n",
       "      <td>TMP348_25258 - LN SNAKECK - ALIANCEWAUE:WAYSID...</td>\n",
       "    </tr>\n",
       "    <tr>\n",
       "      <th>...</th>\n",
       "      <td>...</td>\n",
       "      <td>...</td>\n",
       "      <td>...</td>\n",
       "    </tr>\n",
       "    <tr>\n",
       "      <th>1539</th>\n",
       "      <td>TMP711_28604 - LN CORNTP4 - NAPLES1OKGE:MINCO ...</td>\n",
       "      <td>284</td>\n",
       "      <td>TMP711_28604 - LN CORNTP4 - NAPLES1OKGE:MINCO ...</td>\n",
       "    </tr>\n",
       "    <tr>\n",
       "      <th>1510</th>\n",
       "      <td>TMP643_28177 - LN OAHE - SULLYBTWAUE:FTTHOMP C...</td>\n",
       "      <td>273</td>\n",
       "      <td>TMP643_28177 - LN OAHE - SULLYBTWAUE:FTTHOMP C...</td>\n",
       "    </tr>\n",
       "    <tr>\n",
       "      <th>1458</th>\n",
       "      <td>TMP500_27577 - LN CAR395 - CARTHAGEEDE:CJ366 F...</td>\n",
       "      <td>268</td>\n",
       "      <td>TMP500_27577 - LN CAR395 - CARTHAGEEDE:CJ366 F...</td>\n",
       "    </tr>\n",
       "    <tr>\n",
       "      <th>824</th>\n",
       "      <td>KILWHEHUNWDR - LN KILDR - WHEGLOKGE:WDRNG1 HUN...</td>\n",
       "      <td>265</td>\n",
       "      <td>KILWHEHUNWDR - LN KILDR - WHEGLOKGE:WDRNG1 HUN...</td>\n",
       "    </tr>\n",
       "    <tr>\n",
       "      <th>1360</th>\n",
       "      <td>TMP242_26632 - LN MONETT - AUR1241SPA EDE:SPRG...</td>\n",
       "      <td>260</td>\n",
       "      <td>TMP242_26632 - LN MONETT - AUR1241SPA EDE:SPRG...</td>\n",
       "    </tr>\n",
       "  </tbody>\n",
       "</table>\n",
       "<p>100 rows × 3 columns</p>\n",
       "</div>"
      ],
      "text/plain": [
       "                                        Constraint Name  Shadow Price  \\\n",
       "1286  TEMP89_22229 - LN GRACMONT - ANADARKOWFEC CSWS...          3534   \n",
       "1171           SPSNMTIES - Multi-Element ConstraintBASE          3049   \n",
       "1054           Ozrk_B-xfmr_A - XFMR OZRK_B - OZRK_BBASE          2594   \n",
       "503   CIMXF2CIMXF3 - XFMR CIMARRON - CIMARRONOKGE:CI...          2591   \n",
       "1401  TMP348_25258 - LN SNAKECK - ALIANCEWAUE:WAYSID...          2279   \n",
       "...                                                 ...           ...   \n",
       "1539  TMP711_28604 - LN CORNTP4 - NAPLES1OKGE:MINCO ...           284   \n",
       "1510  TMP643_28177 - LN OAHE - SULLYBTWAUE:FTTHOMP C...           273   \n",
       "1458  TMP500_27577 - LN CAR395 - CARTHAGEEDE:CJ366 F...           268   \n",
       "824   KILWHEHUNWDR - LN KILDR - WHEGLOKGE:WDRNG1 HUN...           265   \n",
       "1360  TMP242_26632 - LN MONETT - AUR1241SPA EDE:SPRG...           260   \n",
       "\n",
       "                                             hover_text  \n",
       "1286  TEMP89_22229 - LN GRACMONT - ANADARKOWFEC CSWS...  \n",
       "1171     SPSNMTIES - Multi-Element ConstraintBASE\\n3049  \n",
       "1054     Ozrk_B-xfmr_A - XFMR OZRK_B - OZRK_BBASE\\n2594  \n",
       "503   CIMXF2CIMXF3 - XFMR CIMARRON - CIMARRONOKGE:CI...  \n",
       "1401  TMP348_25258 - LN SNAKECK - ALIANCEWAUE:WAYSID...  \n",
       "...                                                 ...  \n",
       "1539  TMP711_28604 - LN CORNTP4 - NAPLES1OKGE:MINCO ...  \n",
       "1510  TMP643_28177 - LN OAHE - SULLYBTWAUE:FTTHOMP C...  \n",
       "1458  TMP500_27577 - LN CAR395 - CARTHAGEEDE:CJ366 F...  \n",
       "824   KILWHEHUNWDR - LN KILDR - WHEGLOKGE:WDRNG1 HUN...  \n",
       "1360  TMP242_26632 - LN MONETT - AUR1241SPA EDE:SPRG...  \n",
       "\n",
       "[100 rows x 3 columns]"
      ]
     },
     "metadata": {},
     "output_type": "display_data"
    }
   ],
   "source": [
    "\n",
    "\n",
    "query = f'SELECT Interval, \"Constraint Name\", \"Constraint Type\", \"Shadow Price\"\\\n",
    "        FROM BINDING_CONSTRAINTS_HOURLY;'\n",
    "df = pd.read_sql_query(query, conn_memory, parse_dates=['Interval'])\n",
    "df['Shadow Price'] = df['Shadow Price'].astype(float)\n",
    "df['Shadow Price'] = df.apply(lambda row: 1 if row['Shadow Price'] != 0 else 0, axis=1)\n",
    "df['Interval'] = pd.to_datetime(df['Interval']).dt.strftime('%Y-%m')\n",
    "df = df.groupby(['Constraint Name'])['Shadow Price'].sum().reset_index()\n",
    "df = df.sort_values(by='Shadow Price', ascending=False)\n",
    "df = df.head(100)\n",
    "df['hover_text'] = df['Constraint Name'] + '\\n' + df['Shadow Price'].astype(str)\n",
    "\n",
    "display(df)\n"
   ]
  },
  {
   "cell_type": "code",
   "execution_count": 10,
   "metadata": {},
   "outputs": [
    {
     "data": {
      "application/vnd.plotly.v1+json": {
       "config": {
        "plotlyServerURL": "https://plot.ly"
       },
       "data": [
        {
         "hovertemplate": "%{x}<br>%{y} jours<extra></extra>",
         "marker": {
          "color": [
           "#95a5a6",
           "#95a5a6",
           "#95a5a6",
           "#95a5a6",
           "#95a5a6",
           "#95a5a6",
           "#95a5a6",
           "#95a5a6",
           "#95a5a6",
           "#95a5a6",
           "#95a5a6",
           "#95a5a6",
           "#95a5a6",
           "#95a5a6",
           "#95a5a6",
           "#95a5a6",
           "#95a5a6",
           "#95a5a6",
           "#95a5a6",
           "#95a5a6",
           "#95a5a6",
           "#95a5a6",
           "#95a5a6",
           "#95a5a6",
           "#95a5a6",
           "#95a5a6",
           "#95a5a6",
           "#95a5a6",
           "#95a5a6",
           "#95a5a6",
           "#95a5a6",
           "#95a5a6",
           "#95a5a6",
           "#95a5a6",
           "#95a5a6",
           "#95a5a6",
           "#95a5a6",
           "#95a5a6",
           "#95a5a6",
           "#95a5a6",
           "#95a5a6",
           "#95a5a6",
           "#95a5a6",
           "#95a5a6",
           "#95a5a6",
           "#95a5a6",
           "#95a5a6",
           "#95a5a6",
           "#95a5a6",
           "#95a5a6",
           "#95a5a6",
           "#95a5a6",
           "#95a5a6",
           "#95a5a6",
           "#95a5a6",
           "#95a5a6",
           "#95a5a6",
           "#95a5a6",
           "#95a5a6",
           "#95a5a6",
           "#95a5a6",
           "#95a5a6",
           "#95a5a6",
           "#95a5a6",
           "#95a5a6",
           "#95a5a6",
           "#95a5a6",
           "#95a5a6",
           "#95a5a6",
           "#95a5a6",
           "#95a5a6",
           "#95a5a6",
           "#95a5a6",
           "#95a5a6",
           "#95a5a6",
           "#95a5a6",
           "#95a5a6",
           "#95a5a6",
           "#95a5a6",
           "#95a5a6",
           "#95a5a6",
           "#95a5a6",
           "#95a5a6",
           "#95a5a6",
           "#95a5a6",
           "#95a5a6",
           "#95a5a6",
           "#95a5a6",
           "#95a5a6",
           "#95a5a6",
           "#95a5a6",
           "#95a5a6",
           "#95a5a6",
           "#95a5a6",
           "#95a5a6",
           "#95a5a6",
           "#95a5a6",
           "#95a5a6",
           "#95a5a6",
           "#95a5a6"
          ]
         },
         "name": "",
         "type": "bar",
         "x": [
          "TEMP89_22229 - LN GRACMONT - ANADARKOWFEC CSWS:WASHIT1 SW_STA:138:1:6",
          "SPSNMTIES - Multi-Element ConstraintBASE",
          "Ozrk_B-xfmr_A - XFMR OZRK_B - OZRK_BBASE",
          "CIMXF2CIMXF3 - XFMR CIMARRON - CIMARRONOKGE:CIMARRON XF A31:345 138:5:17",
          "TMP348_25258 - LN SNAKECK - ALIANCEWAUE:WAYSID_W STEGALL:230:2:8",
          "TMP573_26592 - LN FPLSWTCH - WDWRD1OKGE:CLEOC1 IMO:138:5:25",
          "TMP778_28756 - LN REDBLUFF - RDRUNNERSPS:RDRUNNER XF TRT:345 115:3:17",
          "CHAWATCHAPAT - LN CHAR_CK - WATFORDWAUE:CHAR_CK PATENT_G + JUDSON DDR",
          "SMKSUMPOSAXT - LN WR_SMKHL - SUMMNPPD:MACON345 AXTELL1:345:1:13",
          "VALLEJAMES11_11_LN@JAMESTN<19165> - LN JAMESTN - VALLEYCWAUE:FORMNWA ELLIOTTW:115:1:8",
          "TMP270_23432 - LN CLEVLND7 - CLEV_AECCSWS GRDA:TULSA_NO CLEVLND7:345:1:",
          "TMP253_27481 - LN GRACMONT - ANADARKOOKGE:MINCO CIMARRON:345:1:12",
          "TMP128_29363 - LN RUSSETT - SBROWNOKGE:BROWN2 BODLE CANEY1:138:7:34",
          "TMP623_29733 - Multi-Element ConstraintBASE",
          "7452A_LN@SBROWN<333> - LN SBROWN - CLBRTOKGE:BROWN2 BODLE CANEY1:138:7:34",
          "TMP374_25996 - LN GRACMONT - ANADARKOCSWS:TREASURE LAW_ES:345:1:9",
          "OSAWEBCLESOO - LN OSAGE_OG - WEBBTAP4GRDA OKGE:CLEVLND7 SONR1:345:1:10",
          "LEA_ROAD - XFMR LEA_ROAD - LEA_ROADBASE",
          "TEMP47_28178 - LN KINZE - KINZEG1GRDA OKGE:CLEVLND7 SONR1:345:1:10",
          "CHAWATCHAPAT - LN CHAR_CK - WATFORDWAUE:CHAR_CK PATENT_G:345:1:11",
          "TMP109_22593 - LN STONEWSW - TUPELO2OKGE CSWS:SEMINOLE PITTSB9:345:1:1",
          "TMP157_29500 - LN MORRILL - SNAKECKNPPD WAUE:KEYSTONE SIDNEYM:345:3:1",
          "TMP777_28815 - LN FIRSTCRK - ROANRDGEKCPL:NASHUA HAWTHORN:345:1:11",
          "GAVINS2 - XFMR GAVINS - GAVINSBASE",
          "TMP462_27381 - LN CIMARRON - CKHALOKGE:DRAPR1 CIMARRON:345:1:11",
          "10897A_LN@CRKCREEK<7950> - LN CRKCREEK - CUDAHY1SECI:JUD-LR1 CRKCREEK:115:1:6",
          "WATXFRWATXFR - XFMR WATFORD - WATFORDWAUE:WATFORD XF KV2A3:230 115:3:9",
          "DOLLARHI_XF - XFMR DOLLARHI - DOLLARHIBASE",
          "TMP444_28181 - LN OAHE - SULLYBTWAUE:CHAPELLE LELANDO:345:2:18",
          "TMP839_29049 - XFMR SEMINOLE - SEMINOLEOKGE:SEMINOLE XF 2_3:345 138:5:19",
          "TEMP90_26027 - LN MONETT - AUR1241AECI:BLACKBRY JASPER7:345:1:12",
          "SPPSPSTIES - Multi-Element ConstraintBASE",
          "TMP551_26749 - LN CONWAY - KIRBY_SUSPS:NICHSUB GRAPVINE:230:1:10",
          "CORNAPTERSUN - LN CORNTP4 - NAPLES1OKGE CSWS:SUNNYSDE TERRY_RD:345:2:",
          "TMP499_26328 - XFMR FORMAN - FORMANOTP:WAHPETN HANKSON:230 115 41.6:4",
          "TMP796_28794 - XFMR SUB975 - SUB975OPPD:SUB1280 SUB1263:161:1:10",
          "GAVINS1 - XFMR GAVINS - GAVINSBASE",
          "FT_CAFT_CA34_2S_LN@FT_CAL<1991> - LN FT_CAL - FT_CALMEC:GRIMES BVRCRFBC:345:1:11",
          "TMP124_29862 - LN JAY_HAWK - FRANKLN5KCPL:CNTRVILL PAOLA:161:1:11",
          "TAHH59MUSFTS - LN TAHLQH5 - HWY59TPOKGE:FTSMTH MUSKOGEE:345:1:12",
          "TMP525_27546 - LN QUAIL - SKYLNOKGE:ARCAD7 NOWST1:345:1:11",
          "TMP221_28668 - XFMR BELFELD - BELFELDWAUE:BELFELD XF KU1A3:345 230 13.8",
          "TMP419_25392 - LN FULTON_C - PAT_WXCSWS:HOPESWTC FULTON_C:115:1:3",
          "TMP477_24580 - XFMR VIOLA7 - VIOLA7WR:VIOLA7 WICH:345:1:10",
          "FRAMIDCANCED - LN MDWST - FRNKLN1LNCANDN-CDRLNA138OKGE",
          "TMP539_25534 - XFMR MAURINE - MAURINEWAUE:MAURINE NUNDRWD:230:2:10",
          "70BS12WAGS34 - LN 70_BLUF - SUB1214LES OPPD:WAGENER SUB3454:345:1:11",
          "NEBS56S40S55 - LN NEBRCTY - SUB3456OPPD:SUB3740 SUB3455:345:1:9",
          "VINHAYKNOXFR - LN VINETAP3 - NHAYSMIDW:KNOLL1 XF A:230 115:1:6",
          "TMP123_27210 - LN CIMARRON - CKHALOKGE:MSTNG1 DVISN:138:1:12",
          "TMP730_30195 - LN PENN1 - SNTFEOKGE:CROSSTWN CLASN:138:1:9",
          "TMP451_29978 - LN JAY_HAWK - FRANKLN5KCPL WR:LACYGNE N345:345:1:8",
          "TEMP50_23126 - XFMR POTTER_S - POTTER_SOKGE SPS:BORDER TUCO:345:4:17",
          "GAVINS3 - XFMR GAVINS - GAVINSBASE",
          "HENDRIC2_XF - XFMR HENDRIC2 - HENDRIC2BASE",
          "FTTXFRFTTXFR - XFMR FTTHOMP - FTTHOMPXFFTTHOMPKU1A1345/1WAUE",
          "WOLFWOLF25_1 - LN WOLF - WOLFBASE",
          "ALIANSNAKE11_11_LN@ALIANCE<7715> - LN ALIANCE - SNAKECKNPPD:DUNLAP BOXBUTE CHADRON:115:2:",
          "TMP452_24498 - LN LIBERAL_ - TEXAS_COSPS:CARPENTR HITCH:345:3:12",
          "SUB993 - LN MGLN_TP - SUB993BASE",
          "TEMP61_22964 - LN WR_SMKHL - SUMMSECI:THISTLE7 CLARKCO:345:2:10",
          "MO_CITY_EXSPA_LN@MAURERLK<12128> - LN MAURERLK - MOCTYKCPMPS AMRN:SIBLEY OVER:345:2:9",
          "TEMP61_22964 - LN WR_SMKHL - SUMMSECI:THISTLE7 CLARKCO:345:2:11",
          "TMP529_25564 - LN PTRBRG_N - PETRSBGNPPD:HOSKINS ANTELOP3:345:1:21",
          "NASXFRNASHAW - XFMR NASHUA - NASHUAKCPL:NASHUA HAWTHORN:345:1:11",
          "TMP763_29419 - LN DVISN - MSTNG1OKGE:CKHAL XEROX CIMARRON:138:2:18",
          "TMP427_25433 - LN COLBY3 - ATWOODSECI:MINGO1 SETAB1:345:2:13",
          "T1T1A_XF@SUB1214<27660> - XFMR SUB1214 - SUB1214OPPD:SUB1226 SUB1291:161:1:8",
          "TMP386_28084 - LN DAWSONC - LEWISWPWAUE:CHAR_CK BELFELD:345:1:9",
          "TEMP29_23044 - LN STONEWSW - TUPELO2CSWS:VALLIANT PITTSB9:345:1:10",
          "TMP398_27292 - LN ELLIOTTW - ENDERLNWOTP:WAHPETN HANKSON:230 115 41.6:4",
          "SPSNORTH_STH - Multi-Element ConstraintBASE",
          "TMP765_28745 - LN SEWARD3 - ST-JOHNSECI:THISTLE7 CLARKCO:345:2:10",
          "TMP505_26383 - LN SPRIN - DRIPPINGOKGE:JHNSTNCO XF T3_T:345 138 13.8",
          "TMP129_21713 - LN LARAMIE - LARAMIEBASE",
          "EDWXFR87CRAI - XFMR EDWV - EDWVKCPL WR:CRAIG 87TH_ST:345:1:11",
          "TMP501_28727 - LN WR_SMKHL - SUMMSECI:CLARKCO THISTLE7:345:2:11",
          "TMP634_28149 - XFMR SIBLEY - SIBLEYMPS AMRN:SIBLEY OVER:345:2:9",
          "TMP860_29907 - LN LUBBOCKS - WOLFFORTSPS:TUCO JONESSUB:230:1:10",
          "3638N3638_XF@JERICHO_<8775> - XFMR JERICHO_ - JERICHO_CSWS SPS:SHAM KIRBY_SU:115:4:13",
          "TEMP07_25138 - LN GORD - MAIZWR:WICH BENT:345:1:8",
          "TMP575_25904 - LN PTRBRG_N - PETRSBGNPPD:SHELLCRK HOSKINS:345:1:11",
          "TWA1XF2 - XFMR TWA1 - TWA1BASE",
          "TMP595_26876 - LN TEXAS_CO - LIBERAL_SPS:CARPENTR HITCH:345:3:12",
          "FLANDRU - XFMR FLANDRU - FLANDRUBASE",
          "12218A_LN@WINSLOW<9192> - LN WINSLOW - OAKLANDNPPD:FREMONT SCHUYLER:115:4:15",
          "TMP622_29782 - LN JAY_HAWK - FRANKLN5WR:MARM XF MARM_1:161 69:1:3",
          "BYRD_COOPERA_LN@BYRD_SUB<20376> - LN BYRD_SUB - COOPER_RSPS:RDRUNNER XF TRT:345 115:3:17",
          "DAYCNTYW_DAYCNDAYCO11_1_1_LN - LN DAYCNTYW - DAYCOTAPBASE",
          "TMP780_29432 - XFMR MOORE_CO - MOORE_COSPS:POTTER_S XF T1_T:345 230:5:11",
          "TMP504_27821 - LN MAID1 - KERR_HYDGRDA:GRDA17 TONNECE:345:1:9",
          "EXIRAWA_TRG1_XF - XFMR EXIRAWA - EXIRAWABASE",
          "EXIRAWA_TRG3_XF - XFMR EXIRAWA - EXIRAWABASE",
          "10884BA_LN@KISMET<7950> - LN KISMET - CUDAHY1SECI:JUD-LR1 CRKCREEK:115:1:6",
          "TMP821_29730 - LN PLESNTLK - LEEDS2GRE:RAMSEY BALTAGRE:230:1:8",
          "TMP711_28604 - LN CORNTP4 - NAPLES1OKGE:MINCO CIMARRON:345:1:12",
          "TMP643_28177 - LN OAHE - SULLYBTWAUE:FTTHOMP CHAPELLE:345:3:14",
          "TMP500_27577 - LN CAR395 - CARTHAGEEDE:CJ366 FIR417 ASB3491 ORO1101:1",
          "KILWHEHUNWDR - LN KILDR - WHEGLOKGE:WDRNG1 HUNTERS7:345:1:14",
          "TMP242_26632 - LN MONETT - AUR1241SPA EDE:SPRGFLD LAR3821:161:1:6"
         ],
         "y": {
          "bdata": "zg3pCyIKHwrnCJwI/werBzoHNwe7BrQGcQaxBXMFawVBBX8EbwRIBDgE0gPSA84DwgOsA3ADbwNdA0ADFgMFAwMDAQPbAtcC0gLMAsoCqgKlApwCiwJxAmkCVgJRAk0CQgI6AjMCJAIfAh4CHAITAgoC4QHhAd8B3gHPAcsBxQHAAbsBuQG3Aa0BpQGjAaABkwGNAXsBeQFyAXABaQFoAWQBYAFeAUoBSQFIAUQBPwE8ATsBNgE2ATABLQEdARwBEQEMAQkBBAE=",
          "dtype": "i2"
         }
        }
       ],
       "layout": {
        "template": {
         "data": {
          "bar": [
           {
            "error_x": {
             "color": "#2a3f5f"
            },
            "error_y": {
             "color": "#2a3f5f"
            },
            "marker": {
             "line": {
              "color": "#E5ECF6",
              "width": 0.5
             },
             "pattern": {
              "fillmode": "overlay",
              "size": 10,
              "solidity": 0.2
             }
            },
            "type": "bar"
           }
          ],
          "barpolar": [
           {
            "marker": {
             "line": {
              "color": "#E5ECF6",
              "width": 0.5
             },
             "pattern": {
              "fillmode": "overlay",
              "size": 10,
              "solidity": 0.2
             }
            },
            "type": "barpolar"
           }
          ],
          "carpet": [
           {
            "aaxis": {
             "endlinecolor": "#2a3f5f",
             "gridcolor": "white",
             "linecolor": "white",
             "minorgridcolor": "white",
             "startlinecolor": "#2a3f5f"
            },
            "baxis": {
             "endlinecolor": "#2a3f5f",
             "gridcolor": "white",
             "linecolor": "white",
             "minorgridcolor": "white",
             "startlinecolor": "#2a3f5f"
            },
            "type": "carpet"
           }
          ],
          "choropleth": [
           {
            "colorbar": {
             "outlinewidth": 0,
             "ticks": ""
            },
            "type": "choropleth"
           }
          ],
          "contour": [
           {
            "colorbar": {
             "outlinewidth": 0,
             "ticks": ""
            },
            "colorscale": [
             [
              0,
              "#0d0887"
             ],
             [
              0.1111111111111111,
              "#46039f"
             ],
             [
              0.2222222222222222,
              "#7201a8"
             ],
             [
              0.3333333333333333,
              "#9c179e"
             ],
             [
              0.4444444444444444,
              "#bd3786"
             ],
             [
              0.5555555555555556,
              "#d8576b"
             ],
             [
              0.6666666666666666,
              "#ed7953"
             ],
             [
              0.7777777777777778,
              "#fb9f3a"
             ],
             [
              0.8888888888888888,
              "#fdca26"
             ],
             [
              1,
              "#f0f921"
             ]
            ],
            "type": "contour"
           }
          ],
          "contourcarpet": [
           {
            "colorbar": {
             "outlinewidth": 0,
             "ticks": ""
            },
            "type": "contourcarpet"
           }
          ],
          "heatmap": [
           {
            "colorbar": {
             "outlinewidth": 0,
             "ticks": ""
            },
            "colorscale": [
             [
              0,
              "#0d0887"
             ],
             [
              0.1111111111111111,
              "#46039f"
             ],
             [
              0.2222222222222222,
              "#7201a8"
             ],
             [
              0.3333333333333333,
              "#9c179e"
             ],
             [
              0.4444444444444444,
              "#bd3786"
             ],
             [
              0.5555555555555556,
              "#d8576b"
             ],
             [
              0.6666666666666666,
              "#ed7953"
             ],
             [
              0.7777777777777778,
              "#fb9f3a"
             ],
             [
              0.8888888888888888,
              "#fdca26"
             ],
             [
              1,
              "#f0f921"
             ]
            ],
            "type": "heatmap"
           }
          ],
          "histogram": [
           {
            "marker": {
             "pattern": {
              "fillmode": "overlay",
              "size": 10,
              "solidity": 0.2
             }
            },
            "type": "histogram"
           }
          ],
          "histogram2d": [
           {
            "colorbar": {
             "outlinewidth": 0,
             "ticks": ""
            },
            "colorscale": [
             [
              0,
              "#0d0887"
             ],
             [
              0.1111111111111111,
              "#46039f"
             ],
             [
              0.2222222222222222,
              "#7201a8"
             ],
             [
              0.3333333333333333,
              "#9c179e"
             ],
             [
              0.4444444444444444,
              "#bd3786"
             ],
             [
              0.5555555555555556,
              "#d8576b"
             ],
             [
              0.6666666666666666,
              "#ed7953"
             ],
             [
              0.7777777777777778,
              "#fb9f3a"
             ],
             [
              0.8888888888888888,
              "#fdca26"
             ],
             [
              1,
              "#f0f921"
             ]
            ],
            "type": "histogram2d"
           }
          ],
          "histogram2dcontour": [
           {
            "colorbar": {
             "outlinewidth": 0,
             "ticks": ""
            },
            "colorscale": [
             [
              0,
              "#0d0887"
             ],
             [
              0.1111111111111111,
              "#46039f"
             ],
             [
              0.2222222222222222,
              "#7201a8"
             ],
             [
              0.3333333333333333,
              "#9c179e"
             ],
             [
              0.4444444444444444,
              "#bd3786"
             ],
             [
              0.5555555555555556,
              "#d8576b"
             ],
             [
              0.6666666666666666,
              "#ed7953"
             ],
             [
              0.7777777777777778,
              "#fb9f3a"
             ],
             [
              0.8888888888888888,
              "#fdca26"
             ],
             [
              1,
              "#f0f921"
             ]
            ],
            "type": "histogram2dcontour"
           }
          ],
          "mesh3d": [
           {
            "colorbar": {
             "outlinewidth": 0,
             "ticks": ""
            },
            "type": "mesh3d"
           }
          ],
          "parcoords": [
           {
            "line": {
             "colorbar": {
              "outlinewidth": 0,
              "ticks": ""
             }
            },
            "type": "parcoords"
           }
          ],
          "pie": [
           {
            "automargin": true,
            "type": "pie"
           }
          ],
          "scatter": [
           {
            "fillpattern": {
             "fillmode": "overlay",
             "size": 10,
             "solidity": 0.2
            },
            "type": "scatter"
           }
          ],
          "scatter3d": [
           {
            "line": {
             "colorbar": {
              "outlinewidth": 0,
              "ticks": ""
             }
            },
            "marker": {
             "colorbar": {
              "outlinewidth": 0,
              "ticks": ""
             }
            },
            "type": "scatter3d"
           }
          ],
          "scattercarpet": [
           {
            "marker": {
             "colorbar": {
              "outlinewidth": 0,
              "ticks": ""
             }
            },
            "type": "scattercarpet"
           }
          ],
          "scattergeo": [
           {
            "marker": {
             "colorbar": {
              "outlinewidth": 0,
              "ticks": ""
             }
            },
            "type": "scattergeo"
           }
          ],
          "scattergl": [
           {
            "marker": {
             "colorbar": {
              "outlinewidth": 0,
              "ticks": ""
             }
            },
            "type": "scattergl"
           }
          ],
          "scattermap": [
           {
            "marker": {
             "colorbar": {
              "outlinewidth": 0,
              "ticks": ""
             }
            },
            "type": "scattermap"
           }
          ],
          "scattermapbox": [
           {
            "marker": {
             "colorbar": {
              "outlinewidth": 0,
              "ticks": ""
             }
            },
            "type": "scattermapbox"
           }
          ],
          "scatterpolar": [
           {
            "marker": {
             "colorbar": {
              "outlinewidth": 0,
              "ticks": ""
             }
            },
            "type": "scatterpolar"
           }
          ],
          "scatterpolargl": [
           {
            "marker": {
             "colorbar": {
              "outlinewidth": 0,
              "ticks": ""
             }
            },
            "type": "scatterpolargl"
           }
          ],
          "scatterternary": [
           {
            "marker": {
             "colorbar": {
              "outlinewidth": 0,
              "ticks": ""
             }
            },
            "type": "scatterternary"
           }
          ],
          "surface": [
           {
            "colorbar": {
             "outlinewidth": 0,
             "ticks": ""
            },
            "colorscale": [
             [
              0,
              "#0d0887"
             ],
             [
              0.1111111111111111,
              "#46039f"
             ],
             [
              0.2222222222222222,
              "#7201a8"
             ],
             [
              0.3333333333333333,
              "#9c179e"
             ],
             [
              0.4444444444444444,
              "#bd3786"
             ],
             [
              0.5555555555555556,
              "#d8576b"
             ],
             [
              0.6666666666666666,
              "#ed7953"
             ],
             [
              0.7777777777777778,
              "#fb9f3a"
             ],
             [
              0.8888888888888888,
              "#fdca26"
             ],
             [
              1,
              "#f0f921"
             ]
            ],
            "type": "surface"
           }
          ],
          "table": [
           {
            "cells": {
             "fill": {
              "color": "#EBF0F8"
             },
             "line": {
              "color": "white"
             }
            },
            "header": {
             "fill": {
              "color": "#C8D4E3"
             },
             "line": {
              "color": "white"
             }
            },
            "type": "table"
           }
          ]
         },
         "layout": {
          "annotationdefaults": {
           "arrowcolor": "#2a3f5f",
           "arrowhead": 0,
           "arrowwidth": 1
          },
          "autotypenumbers": "strict",
          "coloraxis": {
           "colorbar": {
            "outlinewidth": 0,
            "ticks": ""
           }
          },
          "colorscale": {
           "diverging": [
            [
             0,
             "#8e0152"
            ],
            [
             0.1,
             "#c51b7d"
            ],
            [
             0.2,
             "#de77ae"
            ],
            [
             0.3,
             "#f1b6da"
            ],
            [
             0.4,
             "#fde0ef"
            ],
            [
             0.5,
             "#f7f7f7"
            ],
            [
             0.6,
             "#e6f5d0"
            ],
            [
             0.7,
             "#b8e186"
            ],
            [
             0.8,
             "#7fbc41"
            ],
            [
             0.9,
             "#4d9221"
            ],
            [
             1,
             "#276419"
            ]
           ],
           "sequential": [
            [
             0,
             "#0d0887"
            ],
            [
             0.1111111111111111,
             "#46039f"
            ],
            [
             0.2222222222222222,
             "#7201a8"
            ],
            [
             0.3333333333333333,
             "#9c179e"
            ],
            [
             0.4444444444444444,
             "#bd3786"
            ],
            [
             0.5555555555555556,
             "#d8576b"
            ],
            [
             0.6666666666666666,
             "#ed7953"
            ],
            [
             0.7777777777777778,
             "#fb9f3a"
            ],
            [
             0.8888888888888888,
             "#fdca26"
            ],
            [
             1,
             "#f0f921"
            ]
           ],
           "sequentialminus": [
            [
             0,
             "#0d0887"
            ],
            [
             0.1111111111111111,
             "#46039f"
            ],
            [
             0.2222222222222222,
             "#7201a8"
            ],
            [
             0.3333333333333333,
             "#9c179e"
            ],
            [
             0.4444444444444444,
             "#bd3786"
            ],
            [
             0.5555555555555556,
             "#d8576b"
            ],
            [
             0.6666666666666666,
             "#ed7953"
            ],
            [
             0.7777777777777778,
             "#fb9f3a"
            ],
            [
             0.8888888888888888,
             "#fdca26"
            ],
            [
             1,
             "#f0f921"
            ]
           ]
          },
          "colorway": [
           "#636efa",
           "#EF553B",
           "#00cc96",
           "#ab63fa",
           "#FFA15A",
           "#19d3f3",
           "#FF6692",
           "#B6E880",
           "#FF97FF",
           "#FECB52"
          ],
          "font": {
           "color": "#2a3f5f"
          },
          "geo": {
           "bgcolor": "white",
           "lakecolor": "white",
           "landcolor": "#E5ECF6",
           "showlakes": true,
           "showland": true,
           "subunitcolor": "white"
          },
          "hoverlabel": {
           "align": "left"
          },
          "hovermode": "closest",
          "mapbox": {
           "style": "light"
          },
          "paper_bgcolor": "white",
          "plot_bgcolor": "#E5ECF6",
          "polar": {
           "angularaxis": {
            "gridcolor": "white",
            "linecolor": "white",
            "ticks": ""
           },
           "bgcolor": "#E5ECF6",
           "radialaxis": {
            "gridcolor": "white",
            "linecolor": "white",
            "ticks": ""
           }
          },
          "scene": {
           "xaxis": {
            "backgroundcolor": "#E5ECF6",
            "gridcolor": "white",
            "gridwidth": 2,
            "linecolor": "white",
            "showbackground": true,
            "ticks": "",
            "zerolinecolor": "white"
           },
           "yaxis": {
            "backgroundcolor": "#E5ECF6",
            "gridcolor": "white",
            "gridwidth": 2,
            "linecolor": "white",
            "showbackground": true,
            "ticks": "",
            "zerolinecolor": "white"
           },
           "zaxis": {
            "backgroundcolor": "#E5ECF6",
            "gridcolor": "white",
            "gridwidth": 2,
            "linecolor": "white",
            "showbackground": true,
            "ticks": "",
            "zerolinecolor": "white"
           }
          },
          "shapedefaults": {
           "line": {
            "color": "#2a3f5f"
           }
          },
          "ternary": {
           "aaxis": {
            "gridcolor": "white",
            "linecolor": "white",
            "ticks": ""
           },
           "baxis": {
            "gridcolor": "white",
            "linecolor": "white",
            "ticks": ""
           },
           "bgcolor": "#E5ECF6",
           "caxis": {
            "gridcolor": "white",
            "linecolor": "white",
            "ticks": ""
           }
          },
          "title": {
           "x": 0.05
          },
          "xaxis": {
           "automargin": true,
           "gridcolor": "white",
           "linecolor": "white",
           "ticks": "",
           "title": {
            "standoff": 15
           },
           "zerolinecolor": "white",
           "zerolinewidth": 2
          },
          "yaxis": {
           "automargin": true,
           "gridcolor": "white",
           "linecolor": "white",
           "ticks": "",
           "title": {
            "standoff": 15
           },
           "zerolinecolor": "white",
           "zerolinewidth": 2
          }
         }
        },
        "xaxis": {
         "title": {
          "text": ""
         },
         "visible": false
        },
        "yaxis": {
         "title": {
          "text": "Compteur jour"
         }
        }
       }
      }
     },
     "metadata": {},
     "output_type": "display_data"
    }
   ],
   "source": [
    "# bar plot \n",
    "fig = go.Figure()   \n",
    "\n",
    "fig.add_trace(\n",
    "    go.Bar(\n",
    "        x=df['Constraint Name'],\n",
    "        y=df['Shadow Price'],\n",
    "        hovertemplate=\"%{x}<br>%{y} jours<extra></extra>\",\n",
    "        marker_color=['#e74c3c' if val == 1 else '#95a5a6' for val in df['Shadow Price']],\n",
    "        name=''\n",
    "    )\n",
    ")\n",
    "# hiding x axis\n",
    "fig.update_layout(xaxis_visible=False)\n",
    "\n",
    "# y axis : Compteur jour \n",
    "fig.update_layout(yaxis_title='Compteur jour',\n",
    "                  xaxis_title='',\n",
    "                  )\n",
    "\n",
    "fig.show()"
   ]
  },
  {
   "cell_type": "markdown",
   "metadata": {},
   "source": [
    "# Graphe 3 "
   ]
  },
  {
   "cell_type": "code",
   "execution_count": 36,
   "metadata": {},
   "outputs": [
    {
     "data": {
      "text/html": [
       "<div>\n",
       "<style scoped>\n",
       "    .dataframe tbody tr th:only-of-type {\n",
       "        vertical-align: middle;\n",
       "    }\n",
       "\n",
       "    .dataframe tbody tr th {\n",
       "        vertical-align: top;\n",
       "    }\n",
       "\n",
       "    .dataframe thead th {\n",
       "        text-align: right;\n",
       "    }\n",
       "</style>\n",
       "<table border=\"1\" class=\"dataframe\">\n",
       "  <thead>\n",
       "    <tr style=\"text-align: right;\">\n",
       "      <th></th>\n",
       "      <th>Constraint Type</th>\n",
       "    </tr>\n",
       "  </thead>\n",
       "  <tbody>\n",
       "    <tr>\n",
       "      <th>0</th>\n",
       "      <td>MA</td>\n",
       "    </tr>\n",
       "    <tr>\n",
       "      <th>1</th>\n",
       "      <td>FG</td>\n",
       "    </tr>\n",
       "    <tr>\n",
       "      <th>2</th>\n",
       "      <td>MCE</td>\n",
       "    </tr>\n",
       "  </tbody>\n",
       "</table>\n",
       "</div>"
      ],
      "text/plain": [
       "  Constraint Type\n",
       "0              MA\n",
       "1              FG\n",
       "2             MCE"
      ]
     },
     "execution_count": 36,
     "metadata": {},
     "output_type": "execute_result"
    }
   ],
   "source": [
    "constraint_types = ['MA', \"MCE\"]\n",
    "query = f'SELECT DISTINCT \"Constraint Type\" \\\n",
    "        FROM BINDING_CONSTRAINTS_HOURLY'\n",
    "df = pd.read_sql_query(query, conn_memory)\n",
    "df"
   ]
  },
  {
   "cell_type": "code",
   "execution_count": null,
   "metadata": {},
   "outputs": [
    {
     "data": {
      "text/html": [
       "<div>\n",
       "<style scoped>\n",
       "    .dataframe tbody tr th:only-of-type {\n",
       "        vertical-align: middle;\n",
       "    }\n",
       "\n",
       "    .dataframe tbody tr th {\n",
       "        vertical-align: top;\n",
       "    }\n",
       "\n",
       "    .dataframe thead th {\n",
       "        text-align: right;\n",
       "    }\n",
       "</style>\n",
       "<table border=\"1\" class=\"dataframe\">\n",
       "  <thead>\n",
       "    <tr style=\"text-align: right;\">\n",
       "      <th></th>\n",
       "      <th>Interval</th>\n",
       "      <th>Constraint Name</th>\n",
       "      <th>Constraint Type</th>\n",
       "      <th>Shadow Price</th>\n",
       "    </tr>\n",
       "  </thead>\n",
       "  <tbody>\n",
       "    <tr>\n",
       "      <th>0</th>\n",
       "      <td>2024-01-16 07:00:00</td>\n",
       "      <td>BK_22_2_XF@SEMINOLE&lt;28638&gt; - XFMR SEMINOLE - S...</td>\n",
       "      <td>MA</td>\n",
       "      <td>1500.0000</td>\n",
       "    </tr>\n",
       "    <tr>\n",
       "      <th>1</th>\n",
       "      <td>2024-08-18 18:00:00</td>\n",
       "      <td>KEENTP_KEENTP_KUMMRDG_A_LN - LN KUMMRRDG - KEE...</td>\n",
       "      <td>MCE</td>\n",
       "      <td>1500.0000</td>\n",
       "    </tr>\n",
       "    <tr>\n",
       "      <th>2</th>\n",
       "      <td>2024-09-09 09:00:00</td>\n",
       "      <td>KEENTP_KEENTP_KUMMRDG_A_LN - LN KUMMRRDG - KEE...</td>\n",
       "      <td>MCE</td>\n",
       "      <td>1500.0000</td>\n",
       "    </tr>\n",
       "    <tr>\n",
       "      <th>3</th>\n",
       "      <td>2024-06-25 16:00:00</td>\n",
       "      <td>MRL_RUS81_5961_LN@MRLOWTAP&lt;23258&gt; - LN MRLOWTA...</td>\n",
       "      <td>MA</td>\n",
       "      <td>1499.7323</td>\n",
       "    </tr>\n",
       "    <tr>\n",
       "      <th>4</th>\n",
       "      <td>2024-07-14 16:00:00</td>\n",
       "      <td>MRL_RUS81_5961_LN@MRLOWTAP&lt;23258&gt; - LN MRLOWTA...</td>\n",
       "      <td>MA</td>\n",
       "      <td>1499.6619</td>\n",
       "    </tr>\n",
       "    <tr>\n",
       "      <th>...</th>\n",
       "      <td>...</td>\n",
       "      <td>...</td>\n",
       "      <td>...</td>\n",
       "      <td>...</td>\n",
       "    </tr>\n",
       "    <tr>\n",
       "      <th>95</th>\n",
       "      <td>2024-10-24 17:00:00</td>\n",
       "      <td>SPVALLY2_STILWA_LN@SPVALLY2&lt;13037&gt; - LN SPVALL...</td>\n",
       "      <td>MA</td>\n",
       "      <td>664.0774</td>\n",
       "    </tr>\n",
       "    <tr>\n",
       "      <th>96</th>\n",
       "      <td>2024-12-17 20:00:00</td>\n",
       "      <td>BOXBUALIAN11_11_LN@BOXBUTE&lt;CON2319&gt; - LN BOXBU...</td>\n",
       "      <td>MA</td>\n",
       "      <td>662.5334</td>\n",
       "    </tr>\n",
       "    <tr>\n",
       "      <th>97</th>\n",
       "      <td>2024-11-26 02:00:00</td>\n",
       "      <td>BOXBUALIAN11_11_LN@BOXBUTE&lt;CON2319&gt; - LN BOXBU...</td>\n",
       "      <td>MA</td>\n",
       "      <td>660.2853</td>\n",
       "    </tr>\n",
       "    <tr>\n",
       "      <th>98</th>\n",
       "      <td>2024-04-06 10:00:00</td>\n",
       "      <td>WILLMGRANI23_11_LN@WILLMRU&lt;18691&gt; - LN WILLMRU...</td>\n",
       "      <td>MA</td>\n",
       "      <td>655.7632</td>\n",
       "    </tr>\n",
       "    <tr>\n",
       "      <th>99</th>\n",
       "      <td>2024-03-02 17:00:00</td>\n",
       "      <td>V1A1KV1A1_XF@MORRIS&lt;9063&gt; - XFMR MORRIS - MORR...</td>\n",
       "      <td>MA</td>\n",
       "      <td>647.7936</td>\n",
       "    </tr>\n",
       "  </tbody>\n",
       "</table>\n",
       "<p>100 rows × 4 columns</p>\n",
       "</div>"
      ],
      "text/plain": [
       "               Interval                                    Constraint Name  \\\n",
       "0   2024-01-16 07:00:00  BK_22_2_XF@SEMINOLE<28638> - XFMR SEMINOLE - S...   \n",
       "1   2024-08-18 18:00:00  KEENTP_KEENTP_KUMMRDG_A_LN - LN KUMMRRDG - KEE...   \n",
       "2   2024-09-09 09:00:00  KEENTP_KEENTP_KUMMRDG_A_LN - LN KUMMRRDG - KEE...   \n",
       "3   2024-06-25 16:00:00  MRL_RUS81_5961_LN@MRLOWTAP<23258> - LN MRLOWTA...   \n",
       "4   2024-07-14 16:00:00  MRL_RUS81_5961_LN@MRLOWTAP<23258> - LN MRLOWTA...   \n",
       "..                  ...                                                ...   \n",
       "95  2024-10-24 17:00:00  SPVALLY2_STILWA_LN@SPVALLY2<13037> - LN SPVALL...   \n",
       "96  2024-12-17 20:00:00  BOXBUALIAN11_11_LN@BOXBUTE<CON2319> - LN BOXBU...   \n",
       "97  2024-11-26 02:00:00  BOXBUALIAN11_11_LN@BOXBUTE<CON2319> - LN BOXBU...   \n",
       "98  2024-04-06 10:00:00  WILLMGRANI23_11_LN@WILLMRU<18691> - LN WILLMRU...   \n",
       "99  2024-03-02 17:00:00  V1A1KV1A1_XF@MORRIS<9063> - XFMR MORRIS - MORR...   \n",
       "\n",
       "   Constraint Type  Shadow Price  \n",
       "0               MA     1500.0000  \n",
       "1              MCE     1500.0000  \n",
       "2              MCE     1500.0000  \n",
       "3               MA     1499.7323  \n",
       "4               MA     1499.6619  \n",
       "..             ...           ...  \n",
       "95              MA      664.0774  \n",
       "96              MA      662.5334  \n",
       "97              MA      660.2853  \n",
       "98              MA      655.7632  \n",
       "99              MA      647.7936  \n",
       "\n",
       "[100 rows x 4 columns]"
      ]
     },
     "metadata": {},
     "output_type": "display_data"
    }
   ],
   "source": [
    "\n",
    "constraint_types = ['MA', \"FG\", \"MCE\"]\n",
    "query = f'SELECT * \\\n",
    "        FROM BINDING_CONSTRAINTS_HOURLY \\\n",
    "        WHERE '\n",
    "query += ' or '.join([f'\"Constraint Type\" == \"{constraint_type}\"' for constraint_type in constraint_types])\n",
    "query += ' ORDER BY \"Shadow Price\" DESC LIMIT 100'\n",
    "df = pd.read_sql_query(query, conn_memory)\n",
    "# df = df.groupby('Interval')['Shadow Price'].sum().reset_index()\n",
    "display(df)\n"
   ]
  },
  {
   "cell_type": "code",
   "execution_count": 33,
   "metadata": {},
   "outputs": [
    {
     "data": {
      "application/vnd.plotly.v1+json": {
       "config": {
        "plotlyServerURL": "https://plot.ly"
       },
       "data": [
        {
         "type": "bar",
         "width": 5,
         "x": {
          "bdata": "AAAAAABwl0AAAAAAAHCXQAAAAAAAcJdAcRsN4O1ul0DkFB3JpW6XQKs+V1sxaZdAldQJaCJml0BSJ6CJcGKXQEYldQJaXpdALSEf9CxNl0D0bFZ9rkuXQHicoiN5M5dAbVZ9rjYtl0BXW7G/rBqXQM/3U+OlGJdAtvP91Hj9lkB/+zpwDuaWQECk376OyZZAwcqhRfaXlkCfq63Yn1GWQBKDwMrhs5VANKK0N/hdlUCNKO0NvjKVQMBbIEFxFJVAQ61p3vF7lECNl24SA1eUQDXvOEUHKJRAFNBE2PDMk0BkXdxGA7STQJLLf0j/oJNAH4XrUbiWk0BUUiegCQGTQCnLEMc6i5JA4JwRpb0fkkAhsHJoEcWRQDJVMCrpgpFANIC3QIITkUC+wRcmk/mQQKfoSC6/3pBAXrpJDAK6kEC0yHa+35OQQHBfB86ZfpBArWnecQoikEAbL90kBvuPQKUsQxxrUY9A/fZ14Jz/jUADeAskKKuNQO58PzXeV41A6bevA+fgjECjAbwFksSMQFRSJ6CJZIxAZ0Rpb3BZjEAtQxzrYiOMQMGopE5AIIxASFD8GPPpikDZX3ZPHs6KQArXo3A9x4pAjSjtDT7DikDByqFFNo6KQDSAt0CCQopA5IOezSolikCmCkYl9d+JQPRsVn0u1IlArfpcbUWsiUBtxf6ye0+JQE8eFmpNjYhA+8vuycN8iECitDf4QmSIQBdIUPyYUIhAyXa+nxo8iEAOvjCZKt6HQGiz6nM1codAG55eKUtHh0BIUPwYc0WHQNiBc0YUE4dA4XoUrsdUhkA5tMh2vhaGQI/k8h/SAIZAJJf/kH78hUAawFsgQfKFQO/Jw0Kt2oVAC0YldQLIhUCsrdhfdrKFQJayDHEsrYVAqmBUUieThUDwFkhQfHuFQA1xrItbeIVAqmBUUqdnhUDrc7UV+0iFQCS5/If0M4VAgSbChicchUAjSnuDLxWFQInS3uAL6oRAzO7Jw0LZhEDysFBrGsSEQK8l5IOewIRAfh04Z0S0hEBkzF1LSKKEQHUCmggbfoRA2PD0Slk+hEA=",
          "dtype": "f8"
         },
         "y": [
          "BK_22_2_XF@SEMINOLE<28638> - XFMR SEMINOLE - SEMINOLEOKGE:SEMINOLE XF 1_3:345 138:5:19",
          "KEENTP_KEENTP_KUMMRDG_A_LN - LN KUMMRRDG - KEENTPBASE",
          "KEENTP_KEENTP_KUMMRDG_A_LN - LN KUMMRRDG - KEENTPBASE",
          "MRL_RUS81_5961_LN@MRLOWTAP<23258> - LN MRLOWTAP - RSH_SPRGCSWS:LAW_ES COMANCHE DUNCAN:138:4:",
          "MRL_RUS81_5961_LN@MRLOWTAP<23258> - LN MRLOWTAP - RSH_SPRGCSWS:LAW_ES COMANCHE DUNCAN:138:4:",
          "BK_22_2_XF@SEMINOLE<28638> - XFMR SEMINOLE - SEMINOLEOKGE:SEMINOLE XF 1_3:345 138:5:19",
          "BOXBUALIAN11_11_LN@BOXBUTE<CON2319> - LN BOXBUTE - ALIANCEWAUE:STEGALL DC TIE LINE",
          "835BT1_LN@OAK_PHEC<588> - LN OAK_PHEC - LONGWOOCSWS:SWSHREV XF MIDL_T:345 138:3:9",
          "MRL_RUS81_5961_LN@MRLOWTAP<23258> - LN MRLOWTAP - RSH_SPRGCSWS:LAW_ES COMANCHE DUNCAN:138:4:",
          "GAINES_OXYWSTA_LN@OXY_WST<7545> - LN OXY_WST - GAINES_CSPS:CROSSRDS EDDY_CO:345:1:12",
          "MRL_RUS81_5961_LN@MRLOWTAP<23258> - LN MRLOWTAP - RSH_SPRGCSWS:LAW_ES COMANCHE DUNCAN:138:4:",
          "GAINES_OXYWSTA_LN@OXY_WST<7545> - LN OXY_WST - GAINES_CSPS:CROSSRDS EDDY_CO:345:1:12",
          "846A_LN@LIEBERM<5426> - LN LIEBERM - LONGWOOCSWS:RAINSRD LONGWOO:138:2:9",
          "BROADDUS_PINELA_LN@BROADDUS<26008> - LN BROADDUS - PINELANDCSWS:PIRKEY LEBROCK:345:1:7",
          "BK_22_2_XF@SEMINOLE<28638> - XFMR SEMINOLE - SEMINOLEOKGE:SEMINOLE XF 1_3:345 138:5:19",
          "S1278S123216_11_LN@SUB1278<CON9913> - LN SUB1278 - SUB1232OPPD:SUB1260 SUB1361:161:1:10",
          "846A_LN@LIEBERM<5426> - LN LIEBERM - LONGWOOCSWS:RAINSRD LONGWOO:138:2:9",
          "KEENTP_KEENTP_KUMMRDG_A_LN - LN KUMMRRDG - KEENTPBASE",
          "BROADDUS_PINELA_LN@BROADDUS<26008> - LN BROADDUS - PINELANDCSWS:PIRKEY LEBROCK:345:1:7",
          "835BT1_LN@OAK_PHEC<588> - LN OAK_PHEC - LONGWOOCSWS:SWSHREV XF MIDL_T:345 138:3:9",
          "846A_LN@LIEBERM<5426> - LN LIEBERM - LONGWOOCSWS:RAINSRD LONGWOO:138:2:9",
          "MRL_RUS81_5961_LN@MRLOWTAP<23258> - LN MRLOWTAP - RSH_SPRGCSWS:LAW_ES COMANCHE DUNCAN:138:4:",
          "BK_22_2_XF@SEMINOLE<28638> - XFMR SEMINOLE - SEMINOLEOKGE:SEMINOLE XF 1_3:345 138:5:19",
          "BOXBUALIAN11_11_LN@BOXBUTE<CON2319> - LN BOXBUTE - ALIANCEWAUE:STEGALL DC TIE LINE",
          "WILLMGRANI23_11_LN@WILLMRU<18691> - LN WILLMRU - GRANITFNSP:MCLEODN XF TR1:230 115:1:9",
          "BROADDUS_PINELA_LN@BROADDUS<26008> - LN BROADDUS - PINELANDCSWS:PIRKEY LEBROCK:345:1:7",
          "BOXBUALIAN11_11_LN@BOXBUTE<CON2319> - LN BOXBUTE - ALIANCEWAUE:STEGALL DC TIE LINE",
          "MRL_RUS81_5961_LN@MRLOWTAP<23258> - LN MRLOWTAP - RSH_SPRGCSWS:LAW_ES COMANCHE DUNCAN:138:4:",
          "835BT1_LN@OAK_PHEC<18873> - LN OAK_PHEC - LONGWOOCSWS:SWSHREV XF EAST_345_138:345 1",
          "V1A1KV1A1_XF@MORRIS<9063> - XFMR MORRIS - MORRISWAUE:GRANITF MORRIS:230:1:5",
          "BOXBUALIAN11_11_LN@BOXBUTE<CON2319> - LN BOXBUTE - ALIANCEWAUE:STEGALL DC TIE LINE",
          "BOXBUALIAN11_11_LN@BOXBUTE<CON2319> - LN BOXBUTE - ALIANCEWAUE:STEGALL DC TIE LINE",
          "BK_22_2_XF@SEMINOLE<28638> - XFMR SEMINOLE - SEMINOLEOKGE:SEMINOLE XF 1_3:345 138:5:19",
          "835BT1_LN@OAK_PHEC<18873> - LN OAK_PHEC - LONGWOOCSWS:SWSHREV XF EAST_345_138:345 1",
          "GAINES_OXYWSTA_LN@OXY_WST<7545> - LN OXY_WST - GAINES_CSPS:CROSSRDS EDDY_CO:345:1:12",
          "MRL_RUS81_5961_LN@MRLOWTAP<23258> - LN MRLOWTAP - RSH_SPRGCSWS:LAW_ES COMANCHE DUNCAN:138:4:",
          "LOGANLELAN23_11_LN@LOGANWA<7525> - LN LOGANWA - LELANDOWAUE:ANTELOP ROUNDUP:345:1:11",
          "BOXBUALIAN11_11_LN@BOXBUTE<CON2319> - LN BOXBUTE - ALIANCEWAUE:STEGALL DC TIE LINE",
          "BOXBUALIAN11_11_LN@BOXBUTE<CON2319> - LN BOXBUTE - ALIANCEWAUE:STEGALL DC TIE LINE",
          "BOXBUALIAN11_11_LN@BOXBUTE<CON2319> - LN BOXBUTE - ALIANCEWAUE:STEGALL DC TIE LINE",
          "KEENTP_KEENTP_KUMMRDG_A_LN - LN KUMMRRDG - KEENTPBASE",
          "BOXBUALIAN11_11_LN@BOXBUTE<CON2319> - LN BOXBUTE - ALIANCEWAUE:STEGALL DC TIE LINE",
          "BK_22_2_XF@SEMINOLE<28638> - XFMR SEMINOLE - SEMINOLEOKGE:SEMINOLE XF 1_3:345 138:5:19",
          "BOXBUALIAN11_11_LN@BOXBUTE<CON2319> - LN BOXBUTE - ALIANCEWAUE:STEGALL DC TIE LINE",
          "BOXBUALIAN11_11_LN@BOXBUTE<CON2319> - LN BOXBUTE - ALIANCEWAUE:STEGALL DC TIE LINE",
          "KEENTP_KEENTP_KUMMRDG_A_LN - LN KUMMRRDG - KEENTPBASE",
          "WILLMRU_WILLMGRANI23_1_1_LN - LN GRANITF - WILLMRUBASE",
          "BOXBUALIAN11_11_LN@BOXBUTE<CON2319> - LN BOXBUTE - ALIANCEWAUE:STEGALL DC TIE LINE",
          "BK_22_2_XF@SEMINOLE<28638> - XFMR SEMINOLE - SEMINOLEOKGE:SEMINOLE XF 1_3:345 138:5:19",
          "KEENTP_KEENTP_KUMMRDG_A_LN - LN KUMMRRDG - KEENTPBASE",
          "KEENTP_KEENTP_KUMMRDG_A_LN - LN KUMMRRDG - KEENTPBASE",
          "RDSPG-AURORAA_LN@REEDS_ED<32502> - LN REEDS_ED - RDSPG5SPA:EURK_SPA BEAVER1:161:1:6",
          "MRL_RUS81_5961_LN@MRLOWTAP<23258> - LN MRLOWTAP - RSH_SPRGCSWS:LAW_ES COMANCHE DUNCAN:138:4:",
          "OMMA_RUSH_11381_LN@OMMARLO4<31014> - LN OMMARLO4 - RSH_SPRGCSWS:TREASURE LAW_ES:345:1:9",
          "RDSPG-AURORAA_LN@REEDS_ED<32502> - LN REEDS_ED - RDSPG5SPA:EURK_SPA BEAVER1:161:1:6",
          "BOXBUALIAN11_11_LN@BOXBUTE<CON2319> - LN BOXBUTE - ALIANCEWAUE:STEGALL DC TIE LINE",
          "WILLMRU_WILLMGRANI23_1_1_LN - LN GRANITF - WILLMRUBASE",
          "MRL_RUS81_5961_LN@MRLOWTAP<23258> - LN MRLOWTAP - RSH_SPRGCSWS:LAW_ES COMANCHE DUNCAN:138:4:",
          "BK_22_2_XF@SEMINOLE<28638> - XFMR SEMINOLE - SEMINOLEOKGE:SEMINOLE XF 1_3:345 138:5:19",
          "BOXBUALIAN11_11_LN@BOXBUTE<CON2319> - LN BOXBUTE - ALIANCEWAUE:STEGALL DC TIE LINE",
          "MRL_RUS81_5961_LN@MRLOWTAP<23258> - LN MRLOWTAP - RSH_SPRGCSWS:LAW_ES COMANCHE DUNCAN:138:4:",
          "BROADDUS_PINELA_LN@BROADDUS<33215> - LN BROADDUS - PINELANDCSWS:CROCKETT XF B:345 138:2:9",
          "MRL_RUS81_5961_LN@MRLOWTAP<23258> - LN MRLOWTAP - RSH_SPRGCSWS:LAW_ES COMANCHE DUNCAN:138:4:",
          "BOXBUALIAN11_11_LN@BOXBUTE<CON2319> - LN BOXBUTE - ALIANCEWAUE:STEGALL DC TIE LINE",
          "KEENTP_KUMMRDGA_LN@KEENTP<BASE> - LN KEENTP - KUMMRRDGBASE",
          "MRL_RUS81_5961_LN@MRLOWTAP<23258> - LN MRLOWTAP - RSH_SPRGCSWS:LAW_ES COMANCHE DUNCAN:138:4:",
          "W33A_LN@JOHNDRAW<18235> - LN JOHNDRAW - HIGGSSPS:SEMIN GAINES_C:115:1:7",
          "BK_22_2_XF@SEMINOLE<28638> - XFMR SEMINOLE - SEMINOLEOKGE:SEMINOLE XF 1_3:345 138:5:19",
          "MRL_RUS81_5961_LN@MRLOWTAP<23258> - LN MRLOWTAP - RSH_SPRGCSWS:LAW_ES COMANCHE DUNCAN:138:4:",
          "DS_REC6_DS6_HEREFORD_A_LN - LN HEREFORD - DS_REC6BASE",
          "BOXBUALIAN11_11_LN@BOXBUTE<CON2319> - LN BOXBUTE - ALIANCEWAUE:STEGALL DC TIE LINE",
          "KEENTP_KEENTP_KUMMRDG_A_LN - LN KUMMRRDG - KEENTPBASE",
          "LOGANLELAN23_11_LN@LOGANWA<7525> - LN LOGANWA - LELANDOWAUE:ANTELOP ROUNDUP:345:1:11",
          "V1A1KV1A1_XF@MORRIS<9063> - XFMR MORRIS - MORRISWAUE:GRANITF MORRIS:230:1:5",
          "V2A1KV2A2_XF@WATFORD<13433> - XFMR WATFORD - WATFORDWAUE:PATNT_G1 LCSWITCH:115:1:11",
          "RDSPG-AURORAA_LN@REEDS_ED<32502> - LN REEDS_ED - RDSPG5SPA:EURK_SPA BEAVER1:161:1:6",
          "MRL_RUS81_5961_LN@MRLOWTAP<23258> - LN MRLOWTAP - RSH_SPRGCSWS:LAW_ES COMANCHE DUNCAN:138:4:",
          "REX_OSBORNA_LN@REX<17034> - LN REX - OSBORNKCPL MPS:NASHUA ST_JOE:345:1:11",
          "V1A1KV1A1_XF@MORRIS<9063> - XFMR MORRIS - MORRISWAUE:GRANITF MORRIS:230:1:5",
          "8802B23_XF@CIMARRON<10107> - XFMR CIMARRON - CIMARRONOKGE:CIMARRON XF A31:345 138:5:17",
          "W33A_LN@JOHNDRAW<18235> - LN JOHNDRAW - HIGGSSPS:SEMIN GAINES_C:115:1:7",
          "BOXBUALIAN11_11_LN@BOXBUTE<CON2319> - LN BOXBUTE - ALIANCEWAUE:STEGALL DC TIE LINE",
          "WILLMGRANI23_11_LN@WILLMRU<EXT1234> - LN WILLMRU - GRANITFGRE NSP OTP:PRIAM MAYNARD KERKHO B",
          "REX_OSBORNA_LN@REX<17034> - LN REX - OSBORNKCPL MPS:NASHUA ST_JOE:345:1:11",
          "BOXBUALIAN11_11_LN@BOXBUTE<12808> - LN BOXBUTE - ALIANCEWAUE:STEGALL XF KV3A3:345 230 13.8",
          "GAINES_OXYWSTA_LN@OXY_WST<5142> - LN OXY_WST - GAINES_CSPS:HOBBS YOAKUM:345:3:16",
          "REX_OSBORNA_LN@REX<17034> - LN REX - OSBORNKCPL MPS:NASHUA ST_JOE:345:1:11",
          "BK_22_2_XF@SEMINOLE<28638> - XFMR SEMINOLE - SEMINOLEOKGE:SEMINOLE XF 1_3:345 138:5:19",
          "W33A_LN@JOHNDRAW<18235> - LN JOHNDRAW - HIGGSSPS:SEMIN GAINES_C:115:1:7",
          "OMMA_RUSH_11381_LN@OMMARLO4<31014> - LN OMMARLO4 - RSH_SPRGCSWS:TREASURE LAW_ES:345:1:9",
          "ESTR_WEMP11_11_LN@WEMP<4470> - LN WEMP - ESTR_WRWR:LANG WEMP:115:2:10",
          "BOXBUALIAN11_11_LN@BOXBUTE<CON2319> - LN BOXBUTE - ALIANCEWAUE:STEGALL DC TIE LINE",
          "RDSPG-AURORAA_LN@REEDS_ED<32502> - LN REEDS_ED - RDSPG5SPA:EURK_SPA BEAVER1:161:1:6",
          "BOXBUALIAN11_11_LN@BOXBUTE<CON2319> - LN BOXBUTE - ALIANCEWAUE:STEGALL DC TIE LINE",
          "RDSPG-AURORAA_LN@REEDS_ED<32502> - LN REEDS_ED - RDSPG5SPA:EURK_SPA BEAVER1:161:1:6",
          "SPVALLY2_STILWA_LN@SPVALLY2<13037> - LN SPVALLY2 - STILW1CSWS:RIVRSIDE ORU_OLD SO_HILLS 81_",
          "BOXBUALIAN11_11_LN@BOXBUTE<CON2319> - LN BOXBUTE - ALIANCEWAUE:STEGALL DC TIE LINE",
          "BOXBUALIAN11_11_LN@BOXBUTE<CON2319> - LN BOXBUTE - ALIANCEWAUE:STEGALL DC TIE LINE",
          "WILLMGRANI23_11_LN@WILLMRU<18691> - LN WILLMRU - GRANITFNSP:MCLEODN XF TR1:230 115:1:9",
          "V1A1KV1A1_XF@MORRIS<9063> - XFMR MORRIS - MORRISWAUE:GRANITF MORRIS:230:1:5"
         ]
        }
       ],
       "layout": {
        "template": {
         "data": {
          "bar": [
           {
            "error_x": {
             "color": "#2a3f5f"
            },
            "error_y": {
             "color": "#2a3f5f"
            },
            "marker": {
             "line": {
              "color": "#E5ECF6",
              "width": 0.5
             },
             "pattern": {
              "fillmode": "overlay",
              "size": 10,
              "solidity": 0.2
             }
            },
            "type": "bar"
           }
          ],
          "barpolar": [
           {
            "marker": {
             "line": {
              "color": "#E5ECF6",
              "width": 0.5
             },
             "pattern": {
              "fillmode": "overlay",
              "size": 10,
              "solidity": 0.2
             }
            },
            "type": "barpolar"
           }
          ],
          "carpet": [
           {
            "aaxis": {
             "endlinecolor": "#2a3f5f",
             "gridcolor": "white",
             "linecolor": "white",
             "minorgridcolor": "white",
             "startlinecolor": "#2a3f5f"
            },
            "baxis": {
             "endlinecolor": "#2a3f5f",
             "gridcolor": "white",
             "linecolor": "white",
             "minorgridcolor": "white",
             "startlinecolor": "#2a3f5f"
            },
            "type": "carpet"
           }
          ],
          "choropleth": [
           {
            "colorbar": {
             "outlinewidth": 0,
             "ticks": ""
            },
            "type": "choropleth"
           }
          ],
          "contour": [
           {
            "colorbar": {
             "outlinewidth": 0,
             "ticks": ""
            },
            "colorscale": [
             [
              0,
              "#0d0887"
             ],
             [
              0.1111111111111111,
              "#46039f"
             ],
             [
              0.2222222222222222,
              "#7201a8"
             ],
             [
              0.3333333333333333,
              "#9c179e"
             ],
             [
              0.4444444444444444,
              "#bd3786"
             ],
             [
              0.5555555555555556,
              "#d8576b"
             ],
             [
              0.6666666666666666,
              "#ed7953"
             ],
             [
              0.7777777777777778,
              "#fb9f3a"
             ],
             [
              0.8888888888888888,
              "#fdca26"
             ],
             [
              1,
              "#f0f921"
             ]
            ],
            "type": "contour"
           }
          ],
          "contourcarpet": [
           {
            "colorbar": {
             "outlinewidth": 0,
             "ticks": ""
            },
            "type": "contourcarpet"
           }
          ],
          "heatmap": [
           {
            "colorbar": {
             "outlinewidth": 0,
             "ticks": ""
            },
            "colorscale": [
             [
              0,
              "#0d0887"
             ],
             [
              0.1111111111111111,
              "#46039f"
             ],
             [
              0.2222222222222222,
              "#7201a8"
             ],
             [
              0.3333333333333333,
              "#9c179e"
             ],
             [
              0.4444444444444444,
              "#bd3786"
             ],
             [
              0.5555555555555556,
              "#d8576b"
             ],
             [
              0.6666666666666666,
              "#ed7953"
             ],
             [
              0.7777777777777778,
              "#fb9f3a"
             ],
             [
              0.8888888888888888,
              "#fdca26"
             ],
             [
              1,
              "#f0f921"
             ]
            ],
            "type": "heatmap"
           }
          ],
          "histogram": [
           {
            "marker": {
             "pattern": {
              "fillmode": "overlay",
              "size": 10,
              "solidity": 0.2
             }
            },
            "type": "histogram"
           }
          ],
          "histogram2d": [
           {
            "colorbar": {
             "outlinewidth": 0,
             "ticks": ""
            },
            "colorscale": [
             [
              0,
              "#0d0887"
             ],
             [
              0.1111111111111111,
              "#46039f"
             ],
             [
              0.2222222222222222,
              "#7201a8"
             ],
             [
              0.3333333333333333,
              "#9c179e"
             ],
             [
              0.4444444444444444,
              "#bd3786"
             ],
             [
              0.5555555555555556,
              "#d8576b"
             ],
             [
              0.6666666666666666,
              "#ed7953"
             ],
             [
              0.7777777777777778,
              "#fb9f3a"
             ],
             [
              0.8888888888888888,
              "#fdca26"
             ],
             [
              1,
              "#f0f921"
             ]
            ],
            "type": "histogram2d"
           }
          ],
          "histogram2dcontour": [
           {
            "colorbar": {
             "outlinewidth": 0,
             "ticks": ""
            },
            "colorscale": [
             [
              0,
              "#0d0887"
             ],
             [
              0.1111111111111111,
              "#46039f"
             ],
             [
              0.2222222222222222,
              "#7201a8"
             ],
             [
              0.3333333333333333,
              "#9c179e"
             ],
             [
              0.4444444444444444,
              "#bd3786"
             ],
             [
              0.5555555555555556,
              "#d8576b"
             ],
             [
              0.6666666666666666,
              "#ed7953"
             ],
             [
              0.7777777777777778,
              "#fb9f3a"
             ],
             [
              0.8888888888888888,
              "#fdca26"
             ],
             [
              1,
              "#f0f921"
             ]
            ],
            "type": "histogram2dcontour"
           }
          ],
          "mesh3d": [
           {
            "colorbar": {
             "outlinewidth": 0,
             "ticks": ""
            },
            "type": "mesh3d"
           }
          ],
          "parcoords": [
           {
            "line": {
             "colorbar": {
              "outlinewidth": 0,
              "ticks": ""
             }
            },
            "type": "parcoords"
           }
          ],
          "pie": [
           {
            "automargin": true,
            "type": "pie"
           }
          ],
          "scatter": [
           {
            "fillpattern": {
             "fillmode": "overlay",
             "size": 10,
             "solidity": 0.2
            },
            "type": "scatter"
           }
          ],
          "scatter3d": [
           {
            "line": {
             "colorbar": {
              "outlinewidth": 0,
              "ticks": ""
             }
            },
            "marker": {
             "colorbar": {
              "outlinewidth": 0,
              "ticks": ""
             }
            },
            "type": "scatter3d"
           }
          ],
          "scattercarpet": [
           {
            "marker": {
             "colorbar": {
              "outlinewidth": 0,
              "ticks": ""
             }
            },
            "type": "scattercarpet"
           }
          ],
          "scattergeo": [
           {
            "marker": {
             "colorbar": {
              "outlinewidth": 0,
              "ticks": ""
             }
            },
            "type": "scattergeo"
           }
          ],
          "scattergl": [
           {
            "marker": {
             "colorbar": {
              "outlinewidth": 0,
              "ticks": ""
             }
            },
            "type": "scattergl"
           }
          ],
          "scattermap": [
           {
            "marker": {
             "colorbar": {
              "outlinewidth": 0,
              "ticks": ""
             }
            },
            "type": "scattermap"
           }
          ],
          "scattermapbox": [
           {
            "marker": {
             "colorbar": {
              "outlinewidth": 0,
              "ticks": ""
             }
            },
            "type": "scattermapbox"
           }
          ],
          "scatterpolar": [
           {
            "marker": {
             "colorbar": {
              "outlinewidth": 0,
              "ticks": ""
             }
            },
            "type": "scatterpolar"
           }
          ],
          "scatterpolargl": [
           {
            "marker": {
             "colorbar": {
              "outlinewidth": 0,
              "ticks": ""
             }
            },
            "type": "scatterpolargl"
           }
          ],
          "scatterternary": [
           {
            "marker": {
             "colorbar": {
              "outlinewidth": 0,
              "ticks": ""
             }
            },
            "type": "scatterternary"
           }
          ],
          "surface": [
           {
            "colorbar": {
             "outlinewidth": 0,
             "ticks": ""
            },
            "colorscale": [
             [
              0,
              "#0d0887"
             ],
             [
              0.1111111111111111,
              "#46039f"
             ],
             [
              0.2222222222222222,
              "#7201a8"
             ],
             [
              0.3333333333333333,
              "#9c179e"
             ],
             [
              0.4444444444444444,
              "#bd3786"
             ],
             [
              0.5555555555555556,
              "#d8576b"
             ],
             [
              0.6666666666666666,
              "#ed7953"
             ],
             [
              0.7777777777777778,
              "#fb9f3a"
             ],
             [
              0.8888888888888888,
              "#fdca26"
             ],
             [
              1,
              "#f0f921"
             ]
            ],
            "type": "surface"
           }
          ],
          "table": [
           {
            "cells": {
             "fill": {
              "color": "#EBF0F8"
             },
             "line": {
              "color": "white"
             }
            },
            "header": {
             "fill": {
              "color": "#C8D4E3"
             },
             "line": {
              "color": "white"
             }
            },
            "type": "table"
           }
          ]
         },
         "layout": {
          "annotationdefaults": {
           "arrowcolor": "#2a3f5f",
           "arrowhead": 0,
           "arrowwidth": 1
          },
          "autotypenumbers": "strict",
          "coloraxis": {
           "colorbar": {
            "outlinewidth": 0,
            "ticks": ""
           }
          },
          "colorscale": {
           "diverging": [
            [
             0,
             "#8e0152"
            ],
            [
             0.1,
             "#c51b7d"
            ],
            [
             0.2,
             "#de77ae"
            ],
            [
             0.3,
             "#f1b6da"
            ],
            [
             0.4,
             "#fde0ef"
            ],
            [
             0.5,
             "#f7f7f7"
            ],
            [
             0.6,
             "#e6f5d0"
            ],
            [
             0.7,
             "#b8e186"
            ],
            [
             0.8,
             "#7fbc41"
            ],
            [
             0.9,
             "#4d9221"
            ],
            [
             1,
             "#276419"
            ]
           ],
           "sequential": [
            [
             0,
             "#0d0887"
            ],
            [
             0.1111111111111111,
             "#46039f"
            ],
            [
             0.2222222222222222,
             "#7201a8"
            ],
            [
             0.3333333333333333,
             "#9c179e"
            ],
            [
             0.4444444444444444,
             "#bd3786"
            ],
            [
             0.5555555555555556,
             "#d8576b"
            ],
            [
             0.6666666666666666,
             "#ed7953"
            ],
            [
             0.7777777777777778,
             "#fb9f3a"
            ],
            [
             0.8888888888888888,
             "#fdca26"
            ],
            [
             1,
             "#f0f921"
            ]
           ],
           "sequentialminus": [
            [
             0,
             "#0d0887"
            ],
            [
             0.1111111111111111,
             "#46039f"
            ],
            [
             0.2222222222222222,
             "#7201a8"
            ],
            [
             0.3333333333333333,
             "#9c179e"
            ],
            [
             0.4444444444444444,
             "#bd3786"
            ],
            [
             0.5555555555555556,
             "#d8576b"
            ],
            [
             0.6666666666666666,
             "#ed7953"
            ],
            [
             0.7777777777777778,
             "#fb9f3a"
            ],
            [
             0.8888888888888888,
             "#fdca26"
            ],
            [
             1,
             "#f0f921"
            ]
           ]
          },
          "colorway": [
           "#636efa",
           "#EF553B",
           "#00cc96",
           "#ab63fa",
           "#FFA15A",
           "#19d3f3",
           "#FF6692",
           "#B6E880",
           "#FF97FF",
           "#FECB52"
          ],
          "font": {
           "color": "#2a3f5f"
          },
          "geo": {
           "bgcolor": "white",
           "lakecolor": "white",
           "landcolor": "#E5ECF6",
           "showlakes": true,
           "showland": true,
           "subunitcolor": "white"
          },
          "hoverlabel": {
           "align": "left"
          },
          "hovermode": "closest",
          "mapbox": {
           "style": "light"
          },
          "paper_bgcolor": "white",
          "plot_bgcolor": "#E5ECF6",
          "polar": {
           "angularaxis": {
            "gridcolor": "white",
            "linecolor": "white",
            "ticks": ""
           },
           "bgcolor": "#E5ECF6",
           "radialaxis": {
            "gridcolor": "white",
            "linecolor": "white",
            "ticks": ""
           }
          },
          "scene": {
           "xaxis": {
            "backgroundcolor": "#E5ECF6",
            "gridcolor": "white",
            "gridwidth": 2,
            "linecolor": "white",
            "showbackground": true,
            "ticks": "",
            "zerolinecolor": "white"
           },
           "yaxis": {
            "backgroundcolor": "#E5ECF6",
            "gridcolor": "white",
            "gridwidth": 2,
            "linecolor": "white",
            "showbackground": true,
            "ticks": "",
            "zerolinecolor": "white"
           },
           "zaxis": {
            "backgroundcolor": "#E5ECF6",
            "gridcolor": "white",
            "gridwidth": 2,
            "linecolor": "white",
            "showbackground": true,
            "ticks": "",
            "zerolinecolor": "white"
           }
          },
          "shapedefaults": {
           "line": {
            "color": "#2a3f5f"
           }
          },
          "ternary": {
           "aaxis": {
            "gridcolor": "white",
            "linecolor": "white",
            "ticks": ""
           },
           "baxis": {
            "gridcolor": "white",
            "linecolor": "white",
            "ticks": ""
           },
           "bgcolor": "#E5ECF6",
           "caxis": {
            "gridcolor": "white",
            "linecolor": "white",
            "ticks": ""
           }
          },
          "title": {
           "x": 0.05
          },
          "xaxis": {
           "automargin": true,
           "gridcolor": "white",
           "linecolor": "white",
           "ticks": "",
           "title": {
            "standoff": 15
           },
           "zerolinecolor": "white",
           "zerolinewidth": 2
          },
          "yaxis": {
           "automargin": true,
           "gridcolor": "white",
           "linecolor": "white",
           "ticks": "",
           "title": {
            "standoff": 15
           },
           "zerolinecolor": "white",
           "zerolinewidth": 2
          }
         }
        },
        "yaxis": {
         "visible": false
        }
       }
      }
     },
     "metadata": {},
     "output_type": "display_data"
    }
   ],
   "source": [
    "fig = go.Figure()\n",
    "\n",
    "fig.add_trace(\n",
    "    go.Bar(\n",
    "        x=df['Shadow Price'],\n",
    "        y=df['Constraint Name'],\n",
    "        # bar width\n",
    "        width=5,\n",
    "    )\n",
    ")\n",
    "\n",
    "# hide y axis\n",
    "fig.update_layout(yaxis_visible=False)\n",
    "\n",
    "fig.show()\n"
   ]
  }
 ],
 "metadata": {
  "kernelspec": {
   "display_name": ".venv",
   "language": "python",
   "name": "python3"
  },
  "language_info": {
   "codemirror_mode": {
    "name": "ipython",
    "version": 3
   },
   "file_extension": ".py",
   "mimetype": "text/x-python",
   "name": "python",
   "nbconvert_exporter": "python",
   "pygments_lexer": "ipython3",
   "version": "3.12.8"
  }
 },
 "nbformat": 4,
 "nbformat_minor": 2
}
