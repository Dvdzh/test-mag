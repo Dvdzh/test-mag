{
 "cells": [
  {
   "cell_type": "code",
   "execution_count": 1,
   "metadata": {},
   "outputs": [
    {
     "name": "stdout",
     "output_type": "stream",
     "text": [
      "Archive.zip already unzipped\n"
     ]
    }
   ],
   "source": [
    "import os\n",
    "\n",
    "# check if there is a csv file in the data folder\n",
    "if all([not file.endswith('.csv') for file in os.listdir('../data')]):\n",
    "    print('Unzipping Archive.zip')\n",
    "    !unzip ../data/Archive.zip -d ../data/\n",
    "else:\n",
    "    print('Archive.zip already unzipped')\n"
   ]
  },
  {
   "cell_type": "code",
   "execution_count": 2,
   "metadata": {},
   "outputs": [
    {
     "name": "stdout",
     "output_type": "stream",
     "text": [
      "NODES_CONGESTION_HOURLY.csv has been added to the database\n",
      "BINDING_CONSTRAINTS_HOURLY.csv has been added to the database\n"
     ]
    }
   ],
   "source": [
    "import sqlite3\n",
    "import pandas as pd\n",
    "\n",
    "# Create the database if it doesn't exist\n",
    "conn = sqlite3.connect('../data/database.db')\n",
    "cursor = conn.cursor()\n",
    "\n",
    "date_name_dict = dict(\n",
    "    NODES_CONGESTION_HOURLY='Date',\n",
    "    BINDING_CONSTRAINTS_HOURLY='Interval',\n",
    ")\n",
    "    \n",
    "# Read all csv files in the data folder\n",
    "for file in os.listdir('../data'):\n",
    "    if file.endswith('.csv'):\n",
    "        df = pd.read_csv(f'../data/{file}')\n",
    "\n",
    "        # convert date to datetime\n",
    "        date_name = date_name_dict[file.split('.')[0]]\n",
    "        df[date_name] = pd.to_datetime(df[date_name])\n",
    "\n",
    "        df.to_sql(\n",
    "            name=file.split('.')[0],\n",
    "            con=conn,\n",
    "            if_exists='replace',\n",
    "            index=False\n",
    "        )\n",
    "        print(f'{file} has been added to the database')\n",
    "\n",
    "\n",
    "# changer interval text to date \n"
   ]
  }
 ],
 "metadata": {
  "kernelspec": {
   "display_name": ".venv",
   "language": "python",
   "name": "python3"
  },
  "language_info": {
   "codemirror_mode": {
    "name": "ipython",
    "version": 3
   },
   "file_extension": ".py",
   "mimetype": "text/x-python",
   "name": "python",
   "nbconvert_exporter": "python",
   "pygments_lexer": "ipython3",
   "version": "3.12.8"
  }
 },
 "nbformat": 4,
 "nbformat_minor": 2
}
